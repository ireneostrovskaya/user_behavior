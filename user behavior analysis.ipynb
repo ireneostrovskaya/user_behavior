{
 "cells": [
  {
   "cell_type": "markdown",
   "metadata": {},
   "source": [
    "# Analyzing the startup that sells food products. Investigation of user behavior for the company's app.\n",
    "\n",
    "In this project we have to prepare a report with the users behaviour for the company's app. We need to find out the share of users that go from main screen to the purhase and \n",
    "\n",
    "**Description of the data**\n",
    "\n",
    "children - the number of children in the family\n",
    "   \n",
    "days_employed - how long the customer has been working\n",
    "   \n",
    "dob_years -  the customer’s age\n",
    "   \n",
    "education - the customer’s education level\n",
    "\n",
    "education_id - identifier for the customer’s education\n",
    "\n",
    "family_status - the customer’s marital status\n",
    "\n",
    "family_status_id - identifier for the customer’s marital status\n",
    "\n",
    "gender - the customer’s gender\n",
    "\n",
    "income_type - the customer’s income type\n",
    "\n",
    "debt - whether the customer has ever defaulted on a loan\n",
    "\n",
    "total_income - monthly income\n",
    "\n",
    "purpose -  reason for taking out a loan\n"
   ]
  },
  {
   "cell_type": "markdown",
   "metadata": {},
   "source": [
    "## Open the data file and have a look at the general information. "
   ]
  },
  {
   "cell_type": "code",
   "execution_count": 1,
   "metadata": {},
   "outputs": [],
   "source": [
    "import pandas as pd \n",
    "credit_scoring = pd.read_csv('/datasets/credit_scoring_eng.csv')\n"
   ]
  },
  {
   "cell_type": "code",
   "execution_count": 2,
   "metadata": {},
   "outputs": [
    {
     "name": "stdout",
     "output_type": "stream",
     "text": [
      "<class 'pandas.core.frame.DataFrame'>\n",
      "RangeIndex: 21525 entries, 0 to 21524\n",
      "Data columns (total 12 columns):\n",
      " #   Column            Non-Null Count  Dtype  \n",
      "---  ------            --------------  -----  \n",
      " 0   children          21525 non-null  int64  \n",
      " 1   days_employed     19351 non-null  float64\n",
      " 2   dob_years         21525 non-null  int64  \n",
      " 3   education         21525 non-null  object \n",
      " 4   education_id      21525 non-null  int64  \n",
      " 5   family_status     21525 non-null  object \n",
      " 6   family_status_id  21525 non-null  int64  \n",
      " 7   gender            21525 non-null  object \n",
      " 8   income_type       21525 non-null  object \n",
      " 9   debt              21525 non-null  int64  \n",
      " 10  total_income      19351 non-null  float64\n",
      " 11  purpose           21525 non-null  object \n",
      "dtypes: float64(2), int64(5), object(5)\n",
      "memory usage: 2.0+ MB\n"
     ]
    }
   ],
   "source": [
    "credit_scoring.info()\n"
   ]
  },
  {
   "cell_type": "code",
   "execution_count": 3,
   "metadata": {},
   "outputs": [
    {
     "data": {
      "text/html": [
       "<div>\n",
       "<style scoped>\n",
       "    .dataframe tbody tr th:only-of-type {\n",
       "        vertical-align: middle;\n",
       "    }\n",
       "\n",
       "    .dataframe tbody tr th {\n",
       "        vertical-align: top;\n",
       "    }\n",
       "\n",
       "    .dataframe thead th {\n",
       "        text-align: right;\n",
       "    }\n",
       "</style>\n",
       "<table border=\"1\" class=\"dataframe\">\n",
       "  <thead>\n",
       "    <tr style=\"text-align: right;\">\n",
       "      <th></th>\n",
       "      <th>children</th>\n",
       "      <th>days_employed</th>\n",
       "      <th>dob_years</th>\n",
       "      <th>education_id</th>\n",
       "      <th>family_status_id</th>\n",
       "      <th>debt</th>\n",
       "      <th>total_income</th>\n",
       "    </tr>\n",
       "  </thead>\n",
       "  <tbody>\n",
       "    <tr>\n",
       "      <th>count</th>\n",
       "      <td>21525.000000</td>\n",
       "      <td>19351.000000</td>\n",
       "      <td>21525.000000</td>\n",
       "      <td>21525.000000</td>\n",
       "      <td>21525.000000</td>\n",
       "      <td>21525.000000</td>\n",
       "      <td>19351.000000</td>\n",
       "    </tr>\n",
       "    <tr>\n",
       "      <th>mean</th>\n",
       "      <td>0.538908</td>\n",
       "      <td>63046.497661</td>\n",
       "      <td>43.293380</td>\n",
       "      <td>0.817236</td>\n",
       "      <td>0.972544</td>\n",
       "      <td>0.080883</td>\n",
       "      <td>26787.568355</td>\n",
       "    </tr>\n",
       "    <tr>\n",
       "      <th>std</th>\n",
       "      <td>1.381587</td>\n",
       "      <td>140827.311974</td>\n",
       "      <td>12.574584</td>\n",
       "      <td>0.548138</td>\n",
       "      <td>1.420324</td>\n",
       "      <td>0.272661</td>\n",
       "      <td>16475.450632</td>\n",
       "    </tr>\n",
       "    <tr>\n",
       "      <th>min</th>\n",
       "      <td>-1.000000</td>\n",
       "      <td>-18388.949901</td>\n",
       "      <td>0.000000</td>\n",
       "      <td>0.000000</td>\n",
       "      <td>0.000000</td>\n",
       "      <td>0.000000</td>\n",
       "      <td>3306.762000</td>\n",
       "    </tr>\n",
       "    <tr>\n",
       "      <th>25%</th>\n",
       "      <td>0.000000</td>\n",
       "      <td>-2747.423625</td>\n",
       "      <td>33.000000</td>\n",
       "      <td>1.000000</td>\n",
       "      <td>0.000000</td>\n",
       "      <td>0.000000</td>\n",
       "      <td>16488.504500</td>\n",
       "    </tr>\n",
       "    <tr>\n",
       "      <th>50%</th>\n",
       "      <td>0.000000</td>\n",
       "      <td>-1203.369529</td>\n",
       "      <td>42.000000</td>\n",
       "      <td>1.000000</td>\n",
       "      <td>0.000000</td>\n",
       "      <td>0.000000</td>\n",
       "      <td>23202.870000</td>\n",
       "    </tr>\n",
       "    <tr>\n",
       "      <th>75%</th>\n",
       "      <td>1.000000</td>\n",
       "      <td>-291.095954</td>\n",
       "      <td>53.000000</td>\n",
       "      <td>1.000000</td>\n",
       "      <td>1.000000</td>\n",
       "      <td>0.000000</td>\n",
       "      <td>32549.611000</td>\n",
       "    </tr>\n",
       "    <tr>\n",
       "      <th>max</th>\n",
       "      <td>20.000000</td>\n",
       "      <td>401755.400475</td>\n",
       "      <td>75.000000</td>\n",
       "      <td>4.000000</td>\n",
       "      <td>4.000000</td>\n",
       "      <td>1.000000</td>\n",
       "      <td>362496.645000</td>\n",
       "    </tr>\n",
       "  </tbody>\n",
       "</table>\n",
       "</div>"
      ],
      "text/plain": [
       "           children  days_employed     dob_years  education_id  \\\n",
       "count  21525.000000   19351.000000  21525.000000  21525.000000   \n",
       "mean       0.538908   63046.497661     43.293380      0.817236   \n",
       "std        1.381587  140827.311974     12.574584      0.548138   \n",
       "min       -1.000000  -18388.949901      0.000000      0.000000   \n",
       "25%        0.000000   -2747.423625     33.000000      1.000000   \n",
       "50%        0.000000   -1203.369529     42.000000      1.000000   \n",
       "75%        1.000000    -291.095954     53.000000      1.000000   \n",
       "max       20.000000  401755.400475     75.000000      4.000000   \n",
       "\n",
       "       family_status_id          debt   total_income  \n",
       "count      21525.000000  21525.000000   19351.000000  \n",
       "mean           0.972544      0.080883   26787.568355  \n",
       "std            1.420324      0.272661   16475.450632  \n",
       "min            0.000000      0.000000    3306.762000  \n",
       "25%            0.000000      0.000000   16488.504500  \n",
       "50%            0.000000      0.000000   23202.870000  \n",
       "75%            1.000000      0.000000   32549.611000  \n",
       "max            4.000000      1.000000  362496.645000  "
      ]
     },
     "execution_count": 3,
     "metadata": {},
     "output_type": "execute_result"
    }
   ],
   "source": [
    "credit_scoring.describe()"
   ]
  },
  {
   "cell_type": "code",
   "execution_count": 4,
   "metadata": {},
   "outputs": [
    {
     "data": {
      "text/html": [
       "<div>\n",
       "<style scoped>\n",
       "    .dataframe tbody tr th:only-of-type {\n",
       "        vertical-align: middle;\n",
       "    }\n",
       "\n",
       "    .dataframe tbody tr th {\n",
       "        vertical-align: top;\n",
       "    }\n",
       "\n",
       "    .dataframe thead th {\n",
       "        text-align: right;\n",
       "    }\n",
       "</style>\n",
       "<table border=\"1\" class=\"dataframe\">\n",
       "  <thead>\n",
       "    <tr style=\"text-align: right;\">\n",
       "      <th></th>\n",
       "      <th>education</th>\n",
       "      <th>family_status</th>\n",
       "      <th>gender</th>\n",
       "      <th>income_type</th>\n",
       "      <th>purpose</th>\n",
       "    </tr>\n",
       "  </thead>\n",
       "  <tbody>\n",
       "    <tr>\n",
       "      <th>count</th>\n",
       "      <td>21525</td>\n",
       "      <td>21525</td>\n",
       "      <td>21525</td>\n",
       "      <td>21525</td>\n",
       "      <td>21525</td>\n",
       "    </tr>\n",
       "    <tr>\n",
       "      <th>unique</th>\n",
       "      <td>15</td>\n",
       "      <td>5</td>\n",
       "      <td>3</td>\n",
       "      <td>8</td>\n",
       "      <td>38</td>\n",
       "    </tr>\n",
       "    <tr>\n",
       "      <th>top</th>\n",
       "      <td>secondary education</td>\n",
       "      <td>married</td>\n",
       "      <td>F</td>\n",
       "      <td>employee</td>\n",
       "      <td>wedding ceremony</td>\n",
       "    </tr>\n",
       "    <tr>\n",
       "      <th>freq</th>\n",
       "      <td>13750</td>\n",
       "      <td>12380</td>\n",
       "      <td>14236</td>\n",
       "      <td>11119</td>\n",
       "      <td>797</td>\n",
       "    </tr>\n",
       "  </tbody>\n",
       "</table>\n",
       "</div>"
      ],
      "text/plain": [
       "                  education family_status gender income_type           purpose\n",
       "count                 21525         21525  21525       21525             21525\n",
       "unique                   15             5      3           8                38\n",
       "top     secondary education       married      F    employee  wedding ceremony\n",
       "freq                  13750         12380  14236       11119               797"
      ]
     },
     "execution_count": 4,
     "metadata": {},
     "output_type": "execute_result"
    }
   ],
   "source": [
    "credit_scoring.describe(include = ['object'])"
   ]
  },
  {
   "cell_type": "code",
   "execution_count": 67,
   "metadata": {},
   "outputs": [
    {
     "data": {
      "text/plain": [
       "count    21454.000000\n",
       "mean         0.480563\n",
       "std          0.756069\n",
       "min          0.000000\n",
       "25%          0.000000\n",
       "50%          0.000000\n",
       "75%          1.000000\n",
       "max          5.000000\n",
       "Name: children, dtype: float64"
      ]
     },
     "execution_count": 67,
     "metadata": {},
     "output_type": "execute_result"
    }
   ],
   "source": [
    "credit_scoring['children'].describe()"
   ]
  },
  {
   "cell_type": "code",
   "execution_count": 68,
   "metadata": {},
   "outputs": [
    {
     "data": {
      "text/plain": [
       "0    14091\n",
       "1     4855\n",
       "2     2128\n",
       "3      330\n",
       "4       41\n",
       "5        9\n",
       "Name: children, dtype: int64"
      ]
     },
     "execution_count": 68,
     "metadata": {},
     "output_type": "execute_result"
    }
   ],
   "source": [
    "credit_scoring['children'].value_counts()\n"
   ]
  },
  {
   "cell_type": "code",
   "execution_count": 69,
   "metadata": {},
   "outputs": [
    {
     "data": {
      "text/plain": [
       "0     101\n",
       "19     14\n",
       "20     51\n",
       "21    111\n",
       "22    183\n",
       "23    252\n",
       "24    264\n",
       "25    357\n",
       "26    408\n",
       "27    493\n",
       "28    503\n",
       "29    544\n",
       "30    537\n",
       "31    559\n",
       "32    509\n",
       "33    581\n",
       "34    601\n",
       "35    616\n",
       "36    554\n",
       "37    536\n",
       "38    597\n",
       "39    572\n",
       "40    607\n",
       "41    605\n",
       "42    596\n",
       "43    512\n",
       "44    545\n",
       "45    496\n",
       "46    472\n",
       "47    477\n",
       "48    536\n",
       "49    508\n",
       "50    513\n",
       "51    446\n",
       "52    484\n",
       "53    459\n",
       "54    476\n",
       "55    443\n",
       "56    483\n",
       "57    456\n",
       "58    454\n",
       "59    443\n",
       "60    374\n",
       "61    354\n",
       "62    348\n",
       "63    269\n",
       "64    260\n",
       "65    193\n",
       "66    182\n",
       "67    167\n",
       "68     99\n",
       "69     85\n",
       "70     65\n",
       "71     56\n",
       "72     33\n",
       "73      8\n",
       "74      6\n",
       "75      1\n",
       "Name: dob_years, dtype: int64"
      ]
     },
     "execution_count": 69,
     "metadata": {},
     "output_type": "execute_result"
    }
   ],
   "source": [
    "credit_scoring['dob_years'].value_counts().sort_index()"
   ]
  },
  {
   "cell_type": "code",
   "execution_count": 70,
   "metadata": {},
   "outputs": [
    {
     "data": {
      "text/html": [
       "<div>\n",
       "<style scoped>\n",
       "    .dataframe tbody tr th:only-of-type {\n",
       "        vertical-align: middle;\n",
       "    }\n",
       "\n",
       "    .dataframe tbody tr th {\n",
       "        vertical-align: top;\n",
       "    }\n",
       "\n",
       "    .dataframe thead th {\n",
       "        text-align: right;\n",
       "    }\n",
       "</style>\n",
       "<table border=\"1\" class=\"dataframe\">\n",
       "  <thead>\n",
       "    <tr style=\"text-align: right;\">\n",
       "      <th></th>\n",
       "      <th>children</th>\n",
       "      <th>days_employed</th>\n",
       "      <th>dob_years</th>\n",
       "      <th>education</th>\n",
       "      <th>education_id</th>\n",
       "      <th>family_status</th>\n",
       "      <th>family_status_id</th>\n",
       "      <th>gender</th>\n",
       "      <th>income_type</th>\n",
       "      <th>debt</th>\n",
       "      <th>total_income</th>\n",
       "      <th>purpose</th>\n",
       "      <th>income_category</th>\n",
       "      <th>age_category</th>\n",
       "      <th>purpose_cat</th>\n",
       "    </tr>\n",
       "  </thead>\n",
       "  <tbody>\n",
       "    <tr>\n",
       "      <th>0</th>\n",
       "      <td>1</td>\n",
       "      <td>8437.673028</td>\n",
       "      <td>42</td>\n",
       "      <td>bachelor's degree</td>\n",
       "      <td>0</td>\n",
       "      <td>married</td>\n",
       "      <td>0</td>\n",
       "      <td>F</td>\n",
       "      <td>employee</td>\n",
       "      <td>0</td>\n",
       "      <td>40620</td>\n",
       "      <td>purchase of the house</td>\n",
       "      <td>high</td>\n",
       "      <td>adults</td>\n",
       "      <td>property</td>\n",
       "    </tr>\n",
       "    <tr>\n",
       "      <th>1</th>\n",
       "      <td>1</td>\n",
       "      <td>4024.803754</td>\n",
       "      <td>36</td>\n",
       "      <td>secondary education</td>\n",
       "      <td>1</td>\n",
       "      <td>married</td>\n",
       "      <td>0</td>\n",
       "      <td>F</td>\n",
       "      <td>employee</td>\n",
       "      <td>0</td>\n",
       "      <td>17932</td>\n",
       "      <td>car purchase</td>\n",
       "      <td>lower_middle</td>\n",
       "      <td>adults</td>\n",
       "      <td>car</td>\n",
       "    </tr>\n",
       "    <tr>\n",
       "      <th>2</th>\n",
       "      <td>0</td>\n",
       "      <td>5623.422610</td>\n",
       "      <td>33</td>\n",
       "      <td>secondary education</td>\n",
       "      <td>1</td>\n",
       "      <td>married</td>\n",
       "      <td>0</td>\n",
       "      <td>M</td>\n",
       "      <td>employee</td>\n",
       "      <td>0</td>\n",
       "      <td>23341</td>\n",
       "      <td>purchase of the house</td>\n",
       "      <td>upper_middle</td>\n",
       "      <td>adults</td>\n",
       "      <td>property</td>\n",
       "    </tr>\n",
       "    <tr>\n",
       "      <th>3</th>\n",
       "      <td>3</td>\n",
       "      <td>4124.747207</td>\n",
       "      <td>32</td>\n",
       "      <td>secondary education</td>\n",
       "      <td>1</td>\n",
       "      <td>married</td>\n",
       "      <td>0</td>\n",
       "      <td>M</td>\n",
       "      <td>employee</td>\n",
       "      <td>0</td>\n",
       "      <td>42820</td>\n",
       "      <td>supplementary education</td>\n",
       "      <td>high</td>\n",
       "      <td>adults</td>\n",
       "      <td>education</td>\n",
       "    </tr>\n",
       "    <tr>\n",
       "      <th>4</th>\n",
       "      <td>0</td>\n",
       "      <td>340266.072047</td>\n",
       "      <td>53</td>\n",
       "      <td>secondary education</td>\n",
       "      <td>1</td>\n",
       "      <td>civil partnership</td>\n",
       "      <td>1</td>\n",
       "      <td>F</td>\n",
       "      <td>retiree</td>\n",
       "      <td>0</td>\n",
       "      <td>25378</td>\n",
       "      <td>to have a wedding</td>\n",
       "      <td>upper_middle</td>\n",
       "      <td>adults</td>\n",
       "      <td>special_event</td>\n",
       "    </tr>\n",
       "  </tbody>\n",
       "</table>\n",
       "</div>"
      ],
      "text/plain": [
       "   children  days_employed  dob_years            education  education_id  \\\n",
       "0         1    8437.673028         42    bachelor's degree             0   \n",
       "1         1    4024.803754         36  secondary education             1   \n",
       "2         0    5623.422610         33  secondary education             1   \n",
       "3         3    4124.747207         32  secondary education             1   \n",
       "4         0  340266.072047         53  secondary education             1   \n",
       "\n",
       "       family_status  family_status_id gender income_type  debt  total_income  \\\n",
       "0            married                 0      F    employee     0         40620   \n",
       "1            married                 0      F    employee     0         17932   \n",
       "2            married                 0      M    employee     0         23341   \n",
       "3            married                 0      M    employee     0         42820   \n",
       "4  civil partnership                 1      F     retiree     0         25378   \n",
       "\n",
       "                   purpose income_category age_category    purpose_cat  \n",
       "0    purchase of the house            high       adults       property  \n",
       "1             car purchase    lower_middle       adults            car  \n",
       "2    purchase of the house    upper_middle       adults       property  \n",
       "3  supplementary education            high       adults      education  \n",
       "4        to have a wedding    upper_middle       adults  special_event  "
      ]
     },
     "execution_count": 70,
     "metadata": {},
     "output_type": "execute_result"
    }
   ],
   "source": [
    "credit_scoring.head()"
   ]
  },
  {
   "cell_type": "code",
   "execution_count": 71,
   "metadata": {},
   "outputs": [
    {
     "data": {
      "text/html": [
       "<div>\n",
       "<style scoped>\n",
       "    .dataframe tbody tr th:only-of-type {\n",
       "        vertical-align: middle;\n",
       "    }\n",
       "\n",
       "    .dataframe tbody tr th {\n",
       "        vertical-align: top;\n",
       "    }\n",
       "\n",
       "    .dataframe thead th {\n",
       "        text-align: right;\n",
       "    }\n",
       "</style>\n",
       "<table border=\"1\" class=\"dataframe\">\n",
       "  <thead>\n",
       "    <tr style=\"text-align: right;\">\n",
       "      <th></th>\n",
       "      <th>children</th>\n",
       "      <th>days_employed</th>\n",
       "      <th>dob_years</th>\n",
       "      <th>education</th>\n",
       "      <th>education_id</th>\n",
       "      <th>family_status</th>\n",
       "      <th>family_status_id</th>\n",
       "      <th>gender</th>\n",
       "      <th>income_type</th>\n",
       "      <th>debt</th>\n",
       "      <th>total_income</th>\n",
       "      <th>purpose</th>\n",
       "      <th>income_category</th>\n",
       "      <th>age_category</th>\n",
       "      <th>purpose_cat</th>\n",
       "    </tr>\n",
       "  </thead>\n",
       "  <tbody>\n",
       "    <tr>\n",
       "      <th>21520</th>\n",
       "      <td>1</td>\n",
       "      <td>4529.316663</td>\n",
       "      <td>43</td>\n",
       "      <td>secondary education</td>\n",
       "      <td>1</td>\n",
       "      <td>civil partnership</td>\n",
       "      <td>1</td>\n",
       "      <td>F</td>\n",
       "      <td>business</td>\n",
       "      <td>0</td>\n",
       "      <td>35966</td>\n",
       "      <td>housing transactions</td>\n",
       "      <td>high</td>\n",
       "      <td>adults</td>\n",
       "      <td>property</td>\n",
       "    </tr>\n",
       "    <tr>\n",
       "      <th>21521</th>\n",
       "      <td>0</td>\n",
       "      <td>343937.404131</td>\n",
       "      <td>67</td>\n",
       "      <td>secondary education</td>\n",
       "      <td>1</td>\n",
       "      <td>married</td>\n",
       "      <td>0</td>\n",
       "      <td>F</td>\n",
       "      <td>retiree</td>\n",
       "      <td>0</td>\n",
       "      <td>24959</td>\n",
       "      <td>purchase of a car</td>\n",
       "      <td>upper_middle</td>\n",
       "      <td>senior</td>\n",
       "      <td>car</td>\n",
       "    </tr>\n",
       "    <tr>\n",
       "      <th>21522</th>\n",
       "      <td>1</td>\n",
       "      <td>2113.346888</td>\n",
       "      <td>38</td>\n",
       "      <td>secondary education</td>\n",
       "      <td>1</td>\n",
       "      <td>civil partnership</td>\n",
       "      <td>1</td>\n",
       "      <td>M</td>\n",
       "      <td>employee</td>\n",
       "      <td>1</td>\n",
       "      <td>14347</td>\n",
       "      <td>property</td>\n",
       "      <td>low</td>\n",
       "      <td>adults</td>\n",
       "      <td>property</td>\n",
       "    </tr>\n",
       "    <tr>\n",
       "      <th>21523</th>\n",
       "      <td>3</td>\n",
       "      <td>3112.481705</td>\n",
       "      <td>38</td>\n",
       "      <td>secondary education</td>\n",
       "      <td>1</td>\n",
       "      <td>married</td>\n",
       "      <td>0</td>\n",
       "      <td>M</td>\n",
       "      <td>employee</td>\n",
       "      <td>1</td>\n",
       "      <td>39054</td>\n",
       "      <td>buying my own car</td>\n",
       "      <td>high</td>\n",
       "      <td>adults</td>\n",
       "      <td>car</td>\n",
       "    </tr>\n",
       "    <tr>\n",
       "      <th>21524</th>\n",
       "      <td>2</td>\n",
       "      <td>1984.507589</td>\n",
       "      <td>40</td>\n",
       "      <td>secondary education</td>\n",
       "      <td>1</td>\n",
       "      <td>married</td>\n",
       "      <td>0</td>\n",
       "      <td>F</td>\n",
       "      <td>employee</td>\n",
       "      <td>0</td>\n",
       "      <td>13127</td>\n",
       "      <td>to buy a car</td>\n",
       "      <td>low</td>\n",
       "      <td>adults</td>\n",
       "      <td>car</td>\n",
       "    </tr>\n",
       "  </tbody>\n",
       "</table>\n",
       "</div>"
      ],
      "text/plain": [
       "       children  days_employed  dob_years            education  education_id  \\\n",
       "21520         1    4529.316663         43  secondary education             1   \n",
       "21521         0  343937.404131         67  secondary education             1   \n",
       "21522         1    2113.346888         38  secondary education             1   \n",
       "21523         3    3112.481705         38  secondary education             1   \n",
       "21524         2    1984.507589         40  secondary education             1   \n",
       "\n",
       "           family_status  family_status_id gender income_type  debt  \\\n",
       "21520  civil partnership                 1      F    business     0   \n",
       "21521            married                 0      F     retiree     0   \n",
       "21522  civil partnership                 1      M    employee     1   \n",
       "21523            married                 0      M    employee     1   \n",
       "21524            married                 0      F    employee     0   \n",
       "\n",
       "       total_income               purpose income_category age_category  \\\n",
       "21520         35966  housing transactions            high       adults   \n",
       "21521         24959     purchase of a car    upper_middle       senior   \n",
       "21522         14347              property             low       adults   \n",
       "21523         39054     buying my own car            high       adults   \n",
       "21524         13127          to buy a car             low       adults   \n",
       "\n",
       "      purpose_cat  \n",
       "21520    property  \n",
       "21521         car  \n",
       "21522    property  \n",
       "21523         car  \n",
       "21524         car  "
      ]
     },
     "execution_count": 71,
     "metadata": {},
     "output_type": "execute_result"
    }
   ],
   "source": [
    "credit_scoring.tail()"
   ]
  },
  {
   "cell_type": "markdown",
   "metadata": {},
   "source": [
    "From the first look at our data file, we see that there are 21525 rows and we have 12 columns. We also see that some columns have missing data (income column), weird data (children (min = -1, max = 20),age (0), days_employed, missing values for total_income). We can't say for sure, if the data in income_column missing on purpose or it is a technical mistake. As we see, there is a weird information about children.I suppose that we have a typo in children column, so i decided to replace (-1) by (1) and (20) by (2). Also we see that we have the same amount of missing values in columns days_employed and total_income. For our research we obviously need to fill missing values in the column (total_income), but we don't need as the must - column (days_employed), so in this research I decided not to fix it, but to pass information to the data holders, that something went wrong with days_employed data."
   ]
  },
  {
   "cell_type": "markdown",
   "metadata": {},
   "source": [
    "## Data preprocessing"
   ]
  },
  {
   "cell_type": "markdown",
   "metadata": {},
   "source": [
    "### Processing missing values"
   ]
  },
  {
   "cell_type": "code",
   "execution_count": 10,
   "metadata": {
    "scrolled": true
   },
   "outputs": [
    {
     "data": {
      "text/plain": [
       "children               0\n",
       "days_employed       2174\n",
       "dob_years              0\n",
       "education              0\n",
       "education_id           0\n",
       "family_status          0\n",
       "family_status_id       0\n",
       "gender                 0\n",
       "income_type            0\n",
       "debt                   0\n",
       "total_income        2174\n",
       "purpose                0\n",
       "dtype: int64"
      ]
     },
     "execution_count": 10,
     "metadata": {},
     "output_type": "execute_result"
    }
   ],
   "source": [
    "credit_scoring.isnull().sum()"
   ]
  },
  {
   "cell_type": "code",
   "execution_count": 11,
   "metadata": {},
   "outputs": [
    {
     "name": "stdout",
     "output_type": "stream",
     "text": [
      "days_employed\n",
      "total_income\n"
     ]
    }
   ],
   "source": [
    "for i in credit_scoring:\n",
    "    if credit_scoring[i].isnull().sum() > 0:\n",
    "        print(i)"
   ]
  },
  {
   "cell_type": "code",
   "execution_count": 12,
   "metadata": {},
   "outputs": [],
   "source": [
    "credit_scoring['children'].replace([-1], 1, inplace=True)"
   ]
  },
  {
   "cell_type": "code",
   "execution_count": 13,
   "metadata": {},
   "outputs": [],
   "source": [
    "credit_scoring['children'].replace([20], 2, inplace=True)"
   ]
  },
  {
   "cell_type": "markdown",
   "metadata": {},
   "source": [
    "I ve decided to replace values because in my opinion a typo was made, it is impossible to have -1 or in common ways it is very rare to have 20."
   ]
  },
  {
   "cell_type": "code",
   "execution_count": 14,
   "metadata": {},
   "outputs": [
    {
     "data": {
      "text/plain": [
       "0    14149\n",
       "1     4865\n",
       "2     2131\n",
       "3      330\n",
       "4       41\n",
       "5        9\n",
       "Name: children, dtype: int64"
      ]
     },
     "execution_count": 14,
     "metadata": {},
     "output_type": "execute_result"
    }
   ],
   "source": [
    "credit_scoring['children'].value_counts()"
   ]
  },
  {
   "cell_type": "code",
   "execution_count": 15,
   "metadata": {},
   "outputs": [
    {
     "data": {
      "text/plain": [
       "array([\"bachelor's degree\", 'secondary education', 'Secondary Education',\n",
       "       'SECONDARY EDUCATION', \"BACHELOR'S DEGREE\", 'some college',\n",
       "       'primary education', \"Bachelor's Degree\", 'SOME COLLEGE',\n",
       "       'Some College', 'PRIMARY EDUCATION', 'Primary Education',\n",
       "       'Graduate Degree', 'GRADUATE DEGREE', 'graduate degree'],\n",
       "      dtype=object)"
      ]
     },
     "execution_count": 15,
     "metadata": {},
     "output_type": "execute_result"
    }
   ],
   "source": [
    "credit_scoring['education'].unique()"
   ]
  },
  {
   "cell_type": "code",
   "execution_count": 16,
   "metadata": {},
   "outputs": [],
   "source": [
    "credit_scoring['education'] = credit_scoring['education'].str.lower()"
   ]
  },
  {
   "cell_type": "code",
   "execution_count": 17,
   "metadata": {},
   "outputs": [
    {
     "data": {
      "text/plain": [
       "secondary education    15233\n",
       "bachelor's degree       5260\n",
       "some college             744\n",
       "primary education        282\n",
       "graduate degree            6\n",
       "Name: education, dtype: int64"
      ]
     },
     "execution_count": 17,
     "metadata": {},
     "output_type": "execute_result"
    }
   ],
   "source": [
    "credit_scoring['education'].value_counts()"
   ]
  },
  {
   "cell_type": "code",
   "execution_count": 18,
   "metadata": {},
   "outputs": [],
   "source": [
    "median_income = credit_scoring.groupby('income_type')['total_income'].median()"
   ]
  },
  {
   "cell_type": "code",
   "execution_count": 19,
   "metadata": {},
   "outputs": [
    {
     "data": {
      "text/plain": [
       "income_type\n",
       "business                       27577.2720\n",
       "civil servant                  24071.6695\n",
       "employee                       22815.1035\n",
       "entrepreneur                   79866.1030\n",
       "paternity / maternity leave     8612.6610\n",
       "retiree                        18962.3180\n",
       "student                        15712.2600\n",
       "unemployed                     21014.3605\n",
       "Name: total_income, dtype: float64"
      ]
     },
     "execution_count": 19,
     "metadata": {},
     "output_type": "execute_result"
    }
   ],
   "source": [
    "median_income"
   ]
  },
  {
   "cell_type": "code",
   "execution_count": 20,
   "metadata": {},
   "outputs": [],
   "source": [
    "credit_scoring['total_income'] = credit_scoring['total_income'].fillna(credit_scoring.groupby('income_type')['total_income'].transform('median'))"
   ]
  },
  {
   "cell_type": "code",
   "execution_count": 21,
   "metadata": {},
   "outputs": [
    {
     "data": {
      "text/plain": [
       "False    21525\n",
       "Name: total_income, dtype: int64"
      ]
     },
     "execution_count": 21,
     "metadata": {},
     "output_type": "execute_result"
    }
   ],
   "source": [
    "credit_scoring['total_income'].isnull().value_counts()"
   ]
  },
  {
   "cell_type": "markdown",
   "metadata": {},
   "source": [
    "I found out that there is missing data in the column Total income, so i filled it with the median values grouped by income type. Then I checked if the code worked well. Now we can procced for the further investigation"
   ]
  },
  {
   "cell_type": "markdown",
   "metadata": {},
   "source": [
    "### Conclusion"
   ]
  },
  {
   "cell_type": "markdown",
   "metadata": {},
   "source": [
    "First of all, I fixed the strange information about children by replacing -1  to 1 and 20 children to 2. Also we see that there is the same text in the 'Education', but written in the different ways. So I used 'lower' method to rewrite this columns so that we have the same types of education to analyse. Then I found the median value for total income in several groups sorted by income_type (employee, enterpreneur, retiree,unemployed and else), after that I replaced the missing values with that median income for all the specified groups."
   ]
  },
  {
   "cell_type": "markdown",
   "metadata": {},
   "source": [
    "### Data type replacement"
   ]
  },
  {
   "cell_type": "code",
   "execution_count": 22,
   "metadata": {},
   "outputs": [
    {
     "data": {
      "text/plain": [
       "count     19351.000000\n",
       "mean      63046.497661\n",
       "std      140827.311974\n",
       "min      -18388.949901\n",
       "25%       -2747.423625\n",
       "50%       -1203.369529\n",
       "75%        -291.095954\n",
       "max      401755.400475\n",
       "Name: days_employed, dtype: float64"
      ]
     },
     "execution_count": 22,
     "metadata": {},
     "output_type": "execute_result"
    }
   ],
   "source": [
    "credit_scoring['days_employed'].describe()"
   ]
  },
  {
   "cell_type": "code",
   "execution_count": 23,
   "metadata": {},
   "outputs": [],
   "source": [
    "credit_scoring['days_employed'] = credit_scoring['days_employed'].abs()"
   ]
  },
  {
   "cell_type": "code",
   "execution_count": 24,
   "metadata": {},
   "outputs": [
    {
     "data": {
      "text/plain": [
       "count     19351.000000\n",
       "mean      66914.728907\n",
       "std      139030.880527\n",
       "min          24.141633\n",
       "25%         927.009265\n",
       "50%        2194.220567\n",
       "75%        5537.882441\n",
       "max      401755.400475\n",
       "Name: days_employed, dtype: float64"
      ]
     },
     "execution_count": 24,
     "metadata": {},
     "output_type": "execute_result"
    }
   ],
   "source": [
    "credit_scoring['days_employed'].describe()"
   ]
  },
  {
   "cell_type": "markdown",
   "metadata": {},
   "source": [
    "From the first look at our column \"Days employed\" we noticed that there is a really problematic data. We saw negative values, we saw there a really huge max value ( if we consider that data is in years format = than the max value is 1100 years of working). Using abs() we can improve data fixing negative values. But I don't still see the possibility to use this column. I think we should leave a comment that we must clean the data with someone who filled in the column. But for this research we actually don't need it."
   ]
  },
  {
   "cell_type": "code",
   "execution_count": 25,
   "metadata": {},
   "outputs": [],
   "source": [
    "credit_scoring['days_employed'] = credit_scoring['days_employed'].fillna(credit_scoring.groupby(['education_id', 'income_type'])['days_employed'].transform('median'))"
   ]
  },
  {
   "cell_type": "code",
   "execution_count": 26,
   "metadata": {},
   "outputs": [
    {
     "data": {
      "text/plain": [
       "False    21525\n",
       "Name: days_employed, dtype: int64"
      ]
     },
     "execution_count": 26,
     "metadata": {},
     "output_type": "execute_result"
    }
   ],
   "source": [
    "credit_scoring['days_employed'].isnull().value_counts()"
   ]
  },
  {
   "cell_type": "code",
   "execution_count": 27,
   "metadata": {},
   "outputs": [
    {
     "name": "stdout",
     "output_type": "stream",
     "text": [
      "<class 'pandas.core.frame.DataFrame'>\n",
      "RangeIndex: 21525 entries, 0 to 21524\n",
      "Data columns (total 12 columns):\n",
      " #   Column            Non-Null Count  Dtype  \n",
      "---  ------            --------------  -----  \n",
      " 0   children          21525 non-null  int64  \n",
      " 1   days_employed     21525 non-null  float64\n",
      " 2   dob_years         21525 non-null  int64  \n",
      " 3   education         21525 non-null  object \n",
      " 4   education_id      21525 non-null  int64  \n",
      " 5   family_status     21525 non-null  object \n",
      " 6   family_status_id  21525 non-null  int64  \n",
      " 7   gender            21525 non-null  object \n",
      " 8   income_type       21525 non-null  object \n",
      " 9   debt              21525 non-null  int64  \n",
      " 10  total_income      21525 non-null  float64\n",
      " 11  purpose           21525 non-null  object \n",
      "dtypes: float64(2), int64(5), object(5)\n",
      "memory usage: 2.0+ MB\n"
     ]
    }
   ],
   "source": [
    "credit_scoring.info()"
   ]
  },
  {
   "cell_type": "code",
   "execution_count": 28,
   "metadata": {},
   "outputs": [
    {
     "data": {
      "text/plain": [
       "count     21525\n",
       "unique        3\n",
       "top           F\n",
       "freq      14236\n",
       "Name: gender, dtype: object"
      ]
     },
     "execution_count": 28,
     "metadata": {},
     "output_type": "execute_result"
    }
   ],
   "source": [
    "credit_scoring['gender'].describe()"
   ]
  },
  {
   "cell_type": "code",
   "execution_count": 29,
   "metadata": {},
   "outputs": [
    {
     "data": {
      "text/plain": [
       "array(['F', 'M', 'XNA'], dtype=object)"
      ]
     },
     "execution_count": 29,
     "metadata": {},
     "output_type": "execute_result"
    }
   ],
   "source": [
    "credit_scoring['gender'].unique()"
   ]
  },
  {
   "cell_type": "markdown",
   "metadata": {},
   "source": [
    "We see that in this gender we have a XNA value. So i want to replace it with Female or Male. To do so I'll try to understand the most popular value in several groups"
   ]
  },
  {
   "cell_type": "code",
   "execution_count": 30,
   "metadata": {},
   "outputs": [
    {
     "data": {
      "text/html": [
       "<div>\n",
       "<style scoped>\n",
       "    .dataframe tbody tr th:only-of-type {\n",
       "        vertical-align: middle;\n",
       "    }\n",
       "\n",
       "    .dataframe tbody tr th {\n",
       "        vertical-align: top;\n",
       "    }\n",
       "\n",
       "    .dataframe thead th {\n",
       "        text-align: right;\n",
       "    }\n",
       "</style>\n",
       "<table border=\"1\" class=\"dataframe\">\n",
       "  <thead>\n",
       "    <tr style=\"text-align: right;\">\n",
       "      <th>family_status</th>\n",
       "      <th>gender</th>\n",
       "      <th>civil partnership</th>\n",
       "      <th>divorced</th>\n",
       "      <th>married</th>\n",
       "      <th>unmarried</th>\n",
       "      <th>widow / widower</th>\n",
       "      <th>All</th>\n",
       "    </tr>\n",
       "  </thead>\n",
       "  <tbody>\n",
       "    <tr>\n",
       "      <th>0</th>\n",
       "      <td>F</td>\n",
       "      <td>2868.0</td>\n",
       "      <td>936.0</td>\n",
       "      <td>7795.0</td>\n",
       "      <td>1732.0</td>\n",
       "      <td>905.0</td>\n",
       "      <td>14236</td>\n",
       "    </tr>\n",
       "    <tr>\n",
       "      <th>1</th>\n",
       "      <td>M</td>\n",
       "      <td>1308.0</td>\n",
       "      <td>259.0</td>\n",
       "      <td>4585.0</td>\n",
       "      <td>1081.0</td>\n",
       "      <td>55.0</td>\n",
       "      <td>7288</td>\n",
       "    </tr>\n",
       "    <tr>\n",
       "      <th>2</th>\n",
       "      <td>XNA</td>\n",
       "      <td>1.0</td>\n",
       "      <td>NaN</td>\n",
       "      <td>NaN</td>\n",
       "      <td>NaN</td>\n",
       "      <td>NaN</td>\n",
       "      <td>1</td>\n",
       "    </tr>\n",
       "    <tr>\n",
       "      <th>3</th>\n",
       "      <td>All</td>\n",
       "      <td>4177.0</td>\n",
       "      <td>1195.0</td>\n",
       "      <td>12380.0</td>\n",
       "      <td>2813.0</td>\n",
       "      <td>960.0</td>\n",
       "      <td>21525</td>\n",
       "    </tr>\n",
       "  </tbody>\n",
       "</table>\n",
       "</div>"
      ],
      "text/plain": [
       "family_status gender  civil partnership  divorced  married  unmarried  \\\n",
       "0                  F             2868.0     936.0   7795.0     1732.0   \n",
       "1                  M             1308.0     259.0   4585.0     1081.0   \n",
       "2                XNA                1.0       NaN      NaN        NaN   \n",
       "3                All             4177.0    1195.0  12380.0     2813.0   \n",
       "\n",
       "family_status  widow / widower    All  \n",
       "0                        905.0  14236  \n",
       "1                         55.0   7288  \n",
       "2                          NaN      1  \n",
       "3                        960.0  21525  "
      ]
     },
     "execution_count": 30,
     "metadata": {},
     "output_type": "execute_result"
    }
   ],
   "source": [
    "marital_gender=pd.pivot_table(credit_scoring,index='gender',columns='family_status',values='family_status_id',aggfunc='count',margins=True).reset_index()\n",
    "marital_gender"
   ]
  },
  {
   "cell_type": "code",
   "execution_count": 31,
   "metadata": {},
   "outputs": [
    {
     "data": {
      "text/html": [
       "<div>\n",
       "<style scoped>\n",
       "    .dataframe tbody tr th:only-of-type {\n",
       "        vertical-align: middle;\n",
       "    }\n",
       "\n",
       "    .dataframe tbody tr th {\n",
       "        vertical-align: top;\n",
       "    }\n",
       "\n",
       "    .dataframe thead th {\n",
       "        text-align: right;\n",
       "    }\n",
       "</style>\n",
       "<table border=\"1\" class=\"dataframe\">\n",
       "  <thead>\n",
       "    <tr style=\"text-align: right;\">\n",
       "      <th>education</th>\n",
       "      <th>gender</th>\n",
       "      <th>bachelor's degree</th>\n",
       "      <th>graduate degree</th>\n",
       "      <th>primary education</th>\n",
       "      <th>secondary education</th>\n",
       "      <th>some college</th>\n",
       "      <th>All</th>\n",
       "    </tr>\n",
       "  </thead>\n",
       "  <tbody>\n",
       "    <tr>\n",
       "      <th>0</th>\n",
       "      <td>F</td>\n",
       "      <td>3547.0</td>\n",
       "      <td>2.0</td>\n",
       "      <td>163.0</td>\n",
       "      <td>10064.0</td>\n",
       "      <td>460.0</td>\n",
       "      <td>14236</td>\n",
       "    </tr>\n",
       "    <tr>\n",
       "      <th>1</th>\n",
       "      <td>M</td>\n",
       "      <td>1713.0</td>\n",
       "      <td>4.0</td>\n",
       "      <td>119.0</td>\n",
       "      <td>5169.0</td>\n",
       "      <td>283.0</td>\n",
       "      <td>7288</td>\n",
       "    </tr>\n",
       "    <tr>\n",
       "      <th>2</th>\n",
       "      <td>XNA</td>\n",
       "      <td>NaN</td>\n",
       "      <td>NaN</td>\n",
       "      <td>NaN</td>\n",
       "      <td>NaN</td>\n",
       "      <td>1.0</td>\n",
       "      <td>1</td>\n",
       "    </tr>\n",
       "    <tr>\n",
       "      <th>3</th>\n",
       "      <td>All</td>\n",
       "      <td>5260.0</td>\n",
       "      <td>6.0</td>\n",
       "      <td>282.0</td>\n",
       "      <td>15233.0</td>\n",
       "      <td>744.0</td>\n",
       "      <td>21525</td>\n",
       "    </tr>\n",
       "  </tbody>\n",
       "</table>\n",
       "</div>"
      ],
      "text/plain": [
       "education gender  bachelor's degree  graduate degree  primary education  \\\n",
       "0              F             3547.0              2.0              163.0   \n",
       "1              M             1713.0              4.0              119.0   \n",
       "2            XNA                NaN              NaN                NaN   \n",
       "3            All             5260.0              6.0              282.0   \n",
       "\n",
       "education  secondary education  some college    All  \n",
       "0                      10064.0         460.0  14236  \n",
       "1                       5169.0         283.0   7288  \n",
       "2                          NaN           1.0      1  \n",
       "3                      15233.0         744.0  21525  "
      ]
     },
     "execution_count": 31,
     "metadata": {},
     "output_type": "execute_result"
    }
   ],
   "source": [
    "education_gender=pd.pivot_table(credit_scoring,index='gender',columns='education',values='education_id',aggfunc='count',margins=True).reset_index()\n",
    "education_gender"
   ]
  },
  {
   "cell_type": "markdown",
   "metadata": {},
   "source": [
    "Looking at the overall procent of Female customers over Male customers and the several tables grouped by marital status and education, I've decided to replace XNA with Female, as it shouldn't change overall statistic"
   ]
  },
  {
   "cell_type": "code",
   "execution_count": 32,
   "metadata": {},
   "outputs": [],
   "source": [
    "credit_scoring['gender'] = credit_scoring['gender'].replace(['XNA'],'F')"
   ]
  },
  {
   "cell_type": "code",
   "execution_count": 33,
   "metadata": {},
   "outputs": [
    {
     "data": {
      "text/plain": [
       "array(['F', 'M'], dtype=object)"
      ]
     },
     "execution_count": 33,
     "metadata": {},
     "output_type": "execute_result"
    }
   ],
   "source": [
    "credit_scoring['gender'].unique()"
   ]
  },
  {
   "cell_type": "code",
   "execution_count": 34,
   "metadata": {},
   "outputs": [],
   "source": [
    "def make_int(i):\n",
    "    try:\n",
    "        return int(i)\n",
    "    except:\n",
    "        return pd.np.nan\n",
    "\n",
    "credit_scoring['total_income'] = credit_scoring['total_income'].map(make_int)"
   ]
  },
  {
   "cell_type": "code",
   "execution_count": 35,
   "metadata": {},
   "outputs": [
    {
     "name": "stdout",
     "output_type": "stream",
     "text": [
      "<class 'pandas.core.frame.DataFrame'>\n",
      "RangeIndex: 21525 entries, 0 to 21524\n",
      "Data columns (total 12 columns):\n",
      " #   Column            Non-Null Count  Dtype  \n",
      "---  ------            --------------  -----  \n",
      " 0   children          21525 non-null  int64  \n",
      " 1   days_employed     21525 non-null  float64\n",
      " 2   dob_years         21525 non-null  int64  \n",
      " 3   education         21525 non-null  object \n",
      " 4   education_id      21525 non-null  int64  \n",
      " 5   family_status     21525 non-null  object \n",
      " 6   family_status_id  21525 non-null  int64  \n",
      " 7   gender            21525 non-null  object \n",
      " 8   income_type       21525 non-null  object \n",
      " 9   debt              21525 non-null  int64  \n",
      " 10  total_income      21525 non-null  int64  \n",
      " 11  purpose           21525 non-null  object \n",
      "dtypes: float64(1), int64(6), object(5)\n",
      "memory usage: 2.0+ MB\n"
     ]
    }
   ],
   "source": [
    "credit_scoring.info()"
   ]
  },
  {
   "cell_type": "markdown",
   "metadata": {},
   "source": [
    "### Conclusion"
   ]
  },
  {
   "cell_type": "markdown",
   "metadata": {},
   "source": [
    "In this part we figured out that there was not a correct value in the gender column,so I've replaced it with Female, because the procentage of Female is higher than Male over all data and by different groups too (i took marital status, education for checking)\n",
    "Also I changed data type for total_income, to make this column more convenient to look through."
   ]
  },
  {
   "cell_type": "markdown",
   "metadata": {},
   "source": [
    "### Processing duplicates"
   ]
  },
  {
   "cell_type": "code",
   "execution_count": 36,
   "metadata": {},
   "outputs": [
    {
     "data": {
      "text/plain": [
       "False    21454\n",
       "True        71\n",
       "dtype: int64"
      ]
     },
     "execution_count": 36,
     "metadata": {},
     "output_type": "execute_result"
    }
   ],
   "source": [
    "credit_scoring.duplicated().value_counts()"
   ]
  },
  {
   "cell_type": "code",
   "execution_count": 37,
   "metadata": {},
   "outputs": [
    {
     "data": {
      "text/plain": [
       "0.32984901277584205"
      ]
     },
     "execution_count": 37,
     "metadata": {},
     "output_type": "execute_result"
    }
   ],
   "source": [
    "credit_scoring.duplicated().sum() / len(credit_scoring) *100"
   ]
  },
  {
   "cell_type": "code",
   "execution_count": 38,
   "metadata": {},
   "outputs": [],
   "source": [
    "credit_scoring.drop_duplicates(inplace=True)"
   ]
  },
  {
   "cell_type": "code",
   "execution_count": 39,
   "metadata": {},
   "outputs": [
    {
     "data": {
      "text/plain": [
       "False    21454\n",
       "dtype: int64"
      ]
     },
     "execution_count": 39,
     "metadata": {},
     "output_type": "execute_result"
    }
   ],
   "source": [
    "credit_scoring.duplicated().value_counts()"
   ]
  },
  {
   "cell_type": "markdown",
   "metadata": {},
   "source": [
    "The precentage of duplicates turned out to be small, so we removed it to improve data. "
   ]
  },
  {
   "cell_type": "markdown",
   "metadata": {},
   "source": [
    "### Conclusion"
   ]
  },
  {
   "cell_type": "markdown",
   "metadata": {},
   "source": [
    "We see that there were duplicated rows, we counted the percentage of them and it seemed to be a good idea to remove these duplicated rows."
   ]
  },
  {
   "cell_type": "markdown",
   "metadata": {},
   "source": [
    "### Categorizing Data"
   ]
  },
  {
   "cell_type": "code",
   "execution_count": 40,
   "metadata": {},
   "outputs": [
    {
     "data": {
      "text/plain": [
       "count     21454.000000\n",
       "mean      26450.742799\n",
       "std       15709.964409\n",
       "min        3306.000000\n",
       "25%       17219.500000\n",
       "50%       22815.000000\n",
       "75%       31331.000000\n",
       "max      362496.000000\n",
       "Name: total_income, dtype: float64"
      ]
     },
     "execution_count": 40,
     "metadata": {},
     "output_type": "execute_result"
    }
   ],
   "source": [
    "credit_scoring['total_income'].describe()"
   ]
  },
  {
   "cell_type": "code",
   "execution_count": 41,
   "metadata": {},
   "outputs": [],
   "source": [
    "def income_categorize(row):\n",
    "    if row[10] <= 17247.708:\n",
    "        return 'low'\n",
    "    elif row[10] > 17247.708 and row[10] <= 22815.1035:\n",
    "        return 'lower_middle'\n",
    "    elif row[10] > 22815.1035 and row[10] <= 31287.991:\n",
    "        return 'upper_middle'\n",
    "    else:\n",
    "        return 'high'"
   ]
  },
  {
   "cell_type": "code",
   "execution_count": 42,
   "metadata": {},
   "outputs": [],
   "source": [
    "credit_scoring['income_category'] = credit_scoring.apply(income_categorize, axis=1)"
   ]
  },
  {
   "cell_type": "code",
   "execution_count": 43,
   "metadata": {},
   "outputs": [
    {
     "data": {
      "text/html": [
       "<div>\n",
       "<style scoped>\n",
       "    .dataframe tbody tr th:only-of-type {\n",
       "        vertical-align: middle;\n",
       "    }\n",
       "\n",
       "    .dataframe tbody tr th {\n",
       "        vertical-align: top;\n",
       "    }\n",
       "\n",
       "    .dataframe thead th {\n",
       "        text-align: right;\n",
       "    }\n",
       "</style>\n",
       "<table border=\"1\" class=\"dataframe\">\n",
       "  <thead>\n",
       "    <tr style=\"text-align: right;\">\n",
       "      <th></th>\n",
       "      <th>children</th>\n",
       "      <th>days_employed</th>\n",
       "      <th>dob_years</th>\n",
       "      <th>education</th>\n",
       "      <th>education_id</th>\n",
       "      <th>family_status</th>\n",
       "      <th>family_status_id</th>\n",
       "      <th>gender</th>\n",
       "      <th>income_type</th>\n",
       "      <th>debt</th>\n",
       "      <th>total_income</th>\n",
       "      <th>purpose</th>\n",
       "      <th>income_category</th>\n",
       "    </tr>\n",
       "  </thead>\n",
       "  <tbody>\n",
       "    <tr>\n",
       "      <th>0</th>\n",
       "      <td>1</td>\n",
       "      <td>8437.673028</td>\n",
       "      <td>42</td>\n",
       "      <td>bachelor's degree</td>\n",
       "      <td>0</td>\n",
       "      <td>married</td>\n",
       "      <td>0</td>\n",
       "      <td>F</td>\n",
       "      <td>employee</td>\n",
       "      <td>0</td>\n",
       "      <td>40620</td>\n",
       "      <td>purchase of the house</td>\n",
       "      <td>high</td>\n",
       "    </tr>\n",
       "    <tr>\n",
       "      <th>1</th>\n",
       "      <td>1</td>\n",
       "      <td>4024.803754</td>\n",
       "      <td>36</td>\n",
       "      <td>secondary education</td>\n",
       "      <td>1</td>\n",
       "      <td>married</td>\n",
       "      <td>0</td>\n",
       "      <td>F</td>\n",
       "      <td>employee</td>\n",
       "      <td>0</td>\n",
       "      <td>17932</td>\n",
       "      <td>car purchase</td>\n",
       "      <td>lower_middle</td>\n",
       "    </tr>\n",
       "    <tr>\n",
       "      <th>2</th>\n",
       "      <td>0</td>\n",
       "      <td>5623.422610</td>\n",
       "      <td>33</td>\n",
       "      <td>secondary education</td>\n",
       "      <td>1</td>\n",
       "      <td>married</td>\n",
       "      <td>0</td>\n",
       "      <td>M</td>\n",
       "      <td>employee</td>\n",
       "      <td>0</td>\n",
       "      <td>23341</td>\n",
       "      <td>purchase of the house</td>\n",
       "      <td>upper_middle</td>\n",
       "    </tr>\n",
       "    <tr>\n",
       "      <th>3</th>\n",
       "      <td>3</td>\n",
       "      <td>4124.747207</td>\n",
       "      <td>32</td>\n",
       "      <td>secondary education</td>\n",
       "      <td>1</td>\n",
       "      <td>married</td>\n",
       "      <td>0</td>\n",
       "      <td>M</td>\n",
       "      <td>employee</td>\n",
       "      <td>0</td>\n",
       "      <td>42820</td>\n",
       "      <td>supplementary education</td>\n",
       "      <td>high</td>\n",
       "    </tr>\n",
       "    <tr>\n",
       "      <th>4</th>\n",
       "      <td>0</td>\n",
       "      <td>340266.072047</td>\n",
       "      <td>53</td>\n",
       "      <td>secondary education</td>\n",
       "      <td>1</td>\n",
       "      <td>civil partnership</td>\n",
       "      <td>1</td>\n",
       "      <td>F</td>\n",
       "      <td>retiree</td>\n",
       "      <td>0</td>\n",
       "      <td>25378</td>\n",
       "      <td>to have a wedding</td>\n",
       "      <td>upper_middle</td>\n",
       "    </tr>\n",
       "  </tbody>\n",
       "</table>\n",
       "</div>"
      ],
      "text/plain": [
       "   children  days_employed  dob_years            education  education_id  \\\n",
       "0         1    8437.673028         42    bachelor's degree             0   \n",
       "1         1    4024.803754         36  secondary education             1   \n",
       "2         0    5623.422610         33  secondary education             1   \n",
       "3         3    4124.747207         32  secondary education             1   \n",
       "4         0  340266.072047         53  secondary education             1   \n",
       "\n",
       "       family_status  family_status_id gender income_type  debt  total_income  \\\n",
       "0            married                 0      F    employee     0         40620   \n",
       "1            married                 0      F    employee     0         17932   \n",
       "2            married                 0      M    employee     0         23341   \n",
       "3            married                 0      M    employee     0         42820   \n",
       "4  civil partnership                 1      F     retiree     0         25378   \n",
       "\n",
       "                   purpose income_category  \n",
       "0    purchase of the house            high  \n",
       "1             car purchase    lower_middle  \n",
       "2    purchase of the house    upper_middle  \n",
       "3  supplementary education            high  \n",
       "4        to have a wedding    upper_middle  "
      ]
     },
     "execution_count": 43,
     "metadata": {},
     "output_type": "execute_result"
    }
   ],
   "source": [
    "credit_scoring.head()"
   ]
  },
  {
   "cell_type": "code",
   "execution_count": 44,
   "metadata": {},
   "outputs": [
    {
     "data": {
      "text/plain": [
       "False    21454\n",
       "Name: income_category, dtype: int64"
      ]
     },
     "execution_count": 44,
     "metadata": {},
     "output_type": "execute_result"
    }
   ],
   "source": [
    "credit_scoring['income_category'].isnull().value_counts()"
   ]
  },
  {
   "cell_type": "code",
   "execution_count": 45,
   "metadata": {},
   "outputs": [
    {
     "data": {
      "text/plain": [
       "count    21454.000000\n",
       "mean        43.271231\n",
       "std         12.570822\n",
       "min          0.000000\n",
       "25%         33.000000\n",
       "50%         42.000000\n",
       "75%         53.000000\n",
       "max         75.000000\n",
       "Name: dob_years, dtype: float64"
      ]
     },
     "execution_count": 45,
     "metadata": {},
     "output_type": "execute_result"
    }
   ],
   "source": [
    "credit_scoring['dob_years'].describe()"
   ]
  },
  {
   "cell_type": "code",
   "execution_count": 46,
   "metadata": {},
   "outputs": [],
   "source": [
    "def age_categories(row):\n",
    "    if row[2] <= 14:\n",
    "        return 'children'\n",
    "    elif row[2] > 14 and row[2] <= 24:\n",
    "        return 'youth'\n",
    "    elif row[2] > 24 and row[2] <= 64:\n",
    "        return 'adults'\n",
    "    elif row[2] >64:\n",
    "        return 'senior'\n",
    "    else:\n",
    "        return 'other'"
   ]
  },
  {
   "cell_type": "code",
   "execution_count": 47,
   "metadata": {},
   "outputs": [],
   "source": [
    "credit_scoring['age_category'] = credit_scoring.apply(age_categories, axis=1)"
   ]
  },
  {
   "cell_type": "code",
   "execution_count": 48,
   "metadata": {},
   "outputs": [
    {
     "data": {
      "text/html": [
       "<div>\n",
       "<style scoped>\n",
       "    .dataframe tbody tr th:only-of-type {\n",
       "        vertical-align: middle;\n",
       "    }\n",
       "\n",
       "    .dataframe tbody tr th {\n",
       "        vertical-align: top;\n",
       "    }\n",
       "\n",
       "    .dataframe thead th {\n",
       "        text-align: right;\n",
       "    }\n",
       "</style>\n",
       "<table border=\"1\" class=\"dataframe\">\n",
       "  <thead>\n",
       "    <tr style=\"text-align: right;\">\n",
       "      <th></th>\n",
       "      <th>children</th>\n",
       "      <th>days_employed</th>\n",
       "      <th>dob_years</th>\n",
       "      <th>education</th>\n",
       "      <th>education_id</th>\n",
       "      <th>family_status</th>\n",
       "      <th>family_status_id</th>\n",
       "      <th>gender</th>\n",
       "      <th>income_type</th>\n",
       "      <th>debt</th>\n",
       "      <th>total_income</th>\n",
       "      <th>purpose</th>\n",
       "      <th>income_category</th>\n",
       "      <th>age_category</th>\n",
       "    </tr>\n",
       "  </thead>\n",
       "  <tbody>\n",
       "  </tbody>\n",
       "</table>\n",
       "</div>"
      ],
      "text/plain": [
       "Empty DataFrame\n",
       "Columns: [children, days_employed, dob_years, education, education_id, family_status, family_status_id, gender, income_type, debt, total_income, purpose, income_category, age_category]\n",
       "Index: []"
      ]
     },
     "execution_count": 48,
     "metadata": {},
     "output_type": "execute_result"
    }
   ],
   "source": [
    "credit_scoring[credit_scoring['age_category']== 'other']"
   ]
  },
  {
   "cell_type": "code",
   "execution_count": 49,
   "metadata": {},
   "outputs": [
    {
     "data": {
      "text/plain": [
       "array(['adults', 'senior', 'youth', 'children'], dtype=object)"
      ]
     },
     "execution_count": 49,
     "metadata": {},
     "output_type": "execute_result"
    }
   ],
   "source": [
    "credit_scoring.age_category.unique()"
   ]
  },
  {
   "cell_type": "code",
   "execution_count": 50,
   "metadata": {},
   "outputs": [
    {
     "data": {
      "text/plain": [
       "array(['purchase of the house', 'car purchase', 'supplementary education',\n",
       "       'to have a wedding', 'housing transactions', 'education',\n",
       "       'having a wedding', 'purchase of the house for my family',\n",
       "       'buy real estate', 'buy commercial real estate',\n",
       "       'buy residential real estate', 'construction of own property',\n",
       "       'property', 'building a property', 'buying a second-hand car',\n",
       "       'buying my own car', 'transactions with commercial real estate',\n",
       "       'building a real estate', 'housing',\n",
       "       'transactions with my real estate', 'cars', 'to become educated',\n",
       "       'second-hand car purchase', 'getting an education', 'car',\n",
       "       'wedding ceremony', 'to get a supplementary education',\n",
       "       'purchase of my own house', 'real estate transactions',\n",
       "       'getting higher education', 'to own a car', 'purchase of a car',\n",
       "       'profile education', 'university education',\n",
       "       'buying property for renting out', 'to buy a car',\n",
       "       'housing renovation', 'going to university'], dtype=object)"
      ]
     },
     "execution_count": 50,
     "metadata": {},
     "output_type": "execute_result"
    }
   ],
   "source": [
    "credit_scoring.purpose.unique()"
   ]
  },
  {
   "cell_type": "code",
   "execution_count": 51,
   "metadata": {},
   "outputs": [],
   "source": [
    "import nltk\n",
    "from nltk.stem import WordNetLemmatizer\n",
    "wordnet_lemma = WordNetLemmatizer()"
   ]
  },
  {
   "cell_type": "code",
   "execution_count": 52,
   "metadata": {},
   "outputs": [],
   "source": [
    "def lemmatize_text(text):\n",
    "    return [wordnet_lemma.lemmatize(w) for w in nltk.word_tokenize(text)]"
   ]
  },
  {
   "cell_type": "code",
   "execution_count": 53,
   "metadata": {},
   "outputs": [],
   "source": [
    "purpose_lemmatized = credit_scoring.purpose.apply(lemmatize_text)"
   ]
  },
  {
   "cell_type": "code",
   "execution_count": 54,
   "metadata": {},
   "outputs": [
    {
     "data": {
      "text/plain": [
       "0        [purchase, of, the, house]\n",
       "1                   [car, purchase]\n",
       "2        [purchase, of, the, house]\n",
       "3        [supplementary, education]\n",
       "4            [to, have, a, wedding]\n",
       "                    ...            \n",
       "21520        [housing, transaction]\n",
       "21521        [purchase, of, a, car]\n",
       "21522                    [property]\n",
       "21523        [buying, my, own, car]\n",
       "21524             [to, buy, a, car]\n",
       "Name: purpose, Length: 21454, dtype: object"
      ]
     },
     "execution_count": 54,
     "metadata": {},
     "output_type": "execute_result"
    }
   ],
   "source": [
    "purpose_lemmatized"
   ]
  },
  {
   "cell_type": "code",
   "execution_count": 55,
   "metadata": {},
   "outputs": [],
   "source": [
    "property_category=['house', 'estate', 'property', 'housing']\n",
    "education_category=['education', 'university', 'educated'] \n",
    "special_event_category=['wedding', 'ceremony']\n",
    "car_category=['car']"
   ]
  },
  {
   "cell_type": "code",
   "execution_count": 56,
   "metadata": {},
   "outputs": [
    {
     "data": {
      "text/plain": [
       "False"
      ]
     },
     "execution_count": 56,
     "metadata": {},
     "output_type": "execute_result"
    }
   ],
   "source": [
    "any(word in purpose_lemmatized for word in property_category)"
   ]
  },
  {
   "cell_type": "code",
   "execution_count": 57,
   "metadata": {},
   "outputs": [],
   "source": [
    "def lemmatization_func(line):\n",
    "    lemmatized=lemmatize_text(line)\n",
    "    if any(word in lemmatized for word in property_category):\n",
    "        return 'property'\n",
    "    elif any(word in lemmatized for word in education_category):\n",
    "        return 'education'\n",
    "    elif any(word in lemmatized for word in special_event_category):\n",
    "        return 'special_event'\n",
    "    elif any(word in lemmatized for word in car_category):\n",
    "        return 'car'\n",
    "    else:\n",
    "        return 'other'"
   ]
  },
  {
   "cell_type": "code",
   "execution_count": 58,
   "metadata": {},
   "outputs": [],
   "source": [
    "credit_scoring['purpose_cat']=credit_scoring['purpose'].apply(lemmatization_func)"
   ]
  },
  {
   "cell_type": "code",
   "execution_count": 59,
   "metadata": {},
   "outputs": [
    {
     "data": {
      "text/plain": [
       "property         10811\n",
       "car               4306\n",
       "education         4013\n",
       "special_event     2324\n",
       "Name: purpose_cat, dtype: int64"
      ]
     },
     "execution_count": 59,
     "metadata": {},
     "output_type": "execute_result"
    }
   ],
   "source": [
    "credit_scoring['purpose_cat'].value_counts()"
   ]
  },
  {
   "cell_type": "code",
   "execution_count": 60,
   "metadata": {},
   "outputs": [
    {
     "data": {
      "text/html": [
       "<div>\n",
       "<style scoped>\n",
       "    .dataframe tbody tr th:only-of-type {\n",
       "        vertical-align: middle;\n",
       "    }\n",
       "\n",
       "    .dataframe tbody tr th {\n",
       "        vertical-align: top;\n",
       "    }\n",
       "\n",
       "    .dataframe thead th {\n",
       "        text-align: right;\n",
       "    }\n",
       "</style>\n",
       "<table border=\"1\" class=\"dataframe\">\n",
       "  <thead>\n",
       "    <tr style=\"text-align: right;\">\n",
       "      <th></th>\n",
       "      <th>children</th>\n",
       "      <th>days_employed</th>\n",
       "      <th>dob_years</th>\n",
       "      <th>education</th>\n",
       "      <th>education_id</th>\n",
       "      <th>family_status</th>\n",
       "      <th>family_status_id</th>\n",
       "      <th>gender</th>\n",
       "      <th>income_type</th>\n",
       "      <th>debt</th>\n",
       "      <th>total_income</th>\n",
       "      <th>purpose</th>\n",
       "      <th>income_category</th>\n",
       "      <th>age_category</th>\n",
       "      <th>purpose_cat</th>\n",
       "    </tr>\n",
       "  </thead>\n",
       "  <tbody>\n",
       "  </tbody>\n",
       "</table>\n",
       "</div>"
      ],
      "text/plain": [
       "Empty DataFrame\n",
       "Columns: [children, days_employed, dob_years, education, education_id, family_status, family_status_id, gender, income_type, debt, total_income, purpose, income_category, age_category, purpose_cat]\n",
       "Index: []"
      ]
     },
     "execution_count": 60,
     "metadata": {},
     "output_type": "execute_result"
    }
   ],
   "source": [
    "credit_scoring[credit_scoring['purpose_cat']== 'other']"
   ]
  },
  {
   "cell_type": "markdown",
   "metadata": {},
   "source": [
    "### Conclusion"
   ]
  },
  {
   "cell_type": "markdown",
   "metadata": {},
   "source": [
    "Analysing data about credit purposes, we saw that there was a reall mess there, so using the lemmatization function i devided all the information into 4 groups ( property, car, education and special event)"
   ]
  },
  {
   "cell_type": "markdown",
   "metadata": {},
   "source": [
    "## Answer these questions"
   ]
  },
  {
   "cell_type": "markdown",
   "metadata": {},
   "source": [
    "- Is there a relation between having kids and repaying a loan on time?"
   ]
  },
  {
   "cell_type": "code",
   "execution_count": 61,
   "metadata": {},
   "outputs": [
    {
     "data": {
      "text/html": [
       "<div>\n",
       "<style scoped>\n",
       "    .dataframe tbody tr th:only-of-type {\n",
       "        vertical-align: middle;\n",
       "    }\n",
       "\n",
       "    .dataframe tbody tr th {\n",
       "        vertical-align: top;\n",
       "    }\n",
       "\n",
       "    .dataframe thead th {\n",
       "        text-align: right;\n",
       "    }\n",
       "</style>\n",
       "<table border=\"1\" class=\"dataframe\">\n",
       "  <thead>\n",
       "    <tr style=\"text-align: right;\">\n",
       "      <th></th>\n",
       "      <th>children</th>\n",
       "      <th>debt</th>\n",
       "    </tr>\n",
       "  </thead>\n",
       "  <tbody>\n",
       "    <tr>\n",
       "      <th>0</th>\n",
       "      <td>0</td>\n",
       "      <td>0.075438</td>\n",
       "    </tr>\n",
       "    <tr>\n",
       "      <th>1</th>\n",
       "      <td>1</td>\n",
       "      <td>0.091658</td>\n",
       "    </tr>\n",
       "    <tr>\n",
       "      <th>2</th>\n",
       "      <td>2</td>\n",
       "      <td>0.094925</td>\n",
       "    </tr>\n",
       "    <tr>\n",
       "      <th>3</th>\n",
       "      <td>3</td>\n",
       "      <td>0.081818</td>\n",
       "    </tr>\n",
       "    <tr>\n",
       "      <th>4</th>\n",
       "      <td>4</td>\n",
       "      <td>0.097561</td>\n",
       "    </tr>\n",
       "    <tr>\n",
       "      <th>5</th>\n",
       "      <td>5</td>\n",
       "      <td>0.000000</td>\n",
       "    </tr>\n",
       "  </tbody>\n",
       "</table>\n",
       "</div>"
      ],
      "text/plain": [
       "   children      debt\n",
       "0         0  0.075438\n",
       "1         1  0.091658\n",
       "2         2  0.094925\n",
       "3         3  0.081818\n",
       "4         4  0.097561\n",
       "5         5  0.000000"
      ]
     },
     "execution_count": 61,
     "metadata": {},
     "output_type": "execute_result"
    }
   ],
   "source": [
    "credit_scoring.groupby(['children'])['debt'].mean().reset_index()"
   ]
  },
  {
   "cell_type": "markdown",
   "metadata": {},
   "source": [
    "### Conclusion"
   ]
  },
  {
   "cell_type": "markdown",
   "metadata": {},
   "source": [
    "Drawing conclusions of connection between having kids and repaying loan on time we can see the followinf dependence:\n",
    "People with 1,2 or 4 children had the most problematic experience to return the loan on time, in the other hand, we see that people with 0 kids were the most accurate with returning money. I don't think that we should pay attention to group with 5 children, because they are a really little procent of the whole list of data."
   ]
  },
  {
   "cell_type": "markdown",
   "metadata": {},
   "source": [
    "- Is there a relation between marital status and repaying a loan on time?"
   ]
  },
  {
   "cell_type": "code",
   "execution_count": 62,
   "metadata": {},
   "outputs": [
    {
     "data": {
      "text/html": [
       "<div>\n",
       "<style scoped>\n",
       "    .dataframe tbody tr th:only-of-type {\n",
       "        vertical-align: middle;\n",
       "    }\n",
       "\n",
       "    .dataframe tbody tr th {\n",
       "        vertical-align: top;\n",
       "    }\n",
       "\n",
       "    .dataframe thead th {\n",
       "        text-align: right;\n",
       "    }\n",
       "</style>\n",
       "<table border=\"1\" class=\"dataframe\">\n",
       "  <thead>\n",
       "    <tr style=\"text-align: right;\">\n",
       "      <th>debt</th>\n",
       "      <th>family_status</th>\n",
       "      <th>0</th>\n",
       "      <th>1</th>\n",
       "      <th>All</th>\n",
       "    </tr>\n",
       "  </thead>\n",
       "  <tbody>\n",
       "    <tr>\n",
       "      <th>0</th>\n",
       "      <td>civil partnership</td>\n",
       "      <td>3763</td>\n",
       "      <td>388</td>\n",
       "      <td>4151</td>\n",
       "    </tr>\n",
       "    <tr>\n",
       "      <th>1</th>\n",
       "      <td>divorced</td>\n",
       "      <td>1110</td>\n",
       "      <td>85</td>\n",
       "      <td>1195</td>\n",
       "    </tr>\n",
       "    <tr>\n",
       "      <th>2</th>\n",
       "      <td>married</td>\n",
       "      <td>11408</td>\n",
       "      <td>931</td>\n",
       "      <td>12339</td>\n",
       "    </tr>\n",
       "    <tr>\n",
       "      <th>3</th>\n",
       "      <td>unmarried</td>\n",
       "      <td>2536</td>\n",
       "      <td>274</td>\n",
       "      <td>2810</td>\n",
       "    </tr>\n",
       "    <tr>\n",
       "      <th>4</th>\n",
       "      <td>widow / widower</td>\n",
       "      <td>896</td>\n",
       "      <td>63</td>\n",
       "      <td>959</td>\n",
       "    </tr>\n",
       "    <tr>\n",
       "      <th>5</th>\n",
       "      <td>All</td>\n",
       "      <td>19713</td>\n",
       "      <td>1741</td>\n",
       "      <td>21454</td>\n",
       "    </tr>\n",
       "  </tbody>\n",
       "</table>\n",
       "</div>"
      ],
      "text/plain": [
       "debt      family_status      0     1    All\n",
       "0     civil partnership   3763   388   4151\n",
       "1              divorced   1110    85   1195\n",
       "2               married  11408   931  12339\n",
       "3             unmarried   2536   274   2810\n",
       "4       widow / widower    896    63    959\n",
       "5                   All  19713  1741  21454"
      ]
     },
     "execution_count": 62,
     "metadata": {},
     "output_type": "execute_result"
    }
   ],
   "source": [
    "marital_status=pd.pivot_table(credit_scoring,index='family_status',columns='debt',values='family_status_id',aggfunc='count',margins=True).reset_index()\n",
    "marital_status"
   ]
  },
  {
   "cell_type": "code",
   "execution_count": 63,
   "metadata": {},
   "outputs": [
    {
     "data": {
      "text/html": [
       "<div>\n",
       "<style scoped>\n",
       "    .dataframe tbody tr th:only-of-type {\n",
       "        vertical-align: middle;\n",
       "    }\n",
       "\n",
       "    .dataframe tbody tr th {\n",
       "        vertical-align: top;\n",
       "    }\n",
       "\n",
       "    .dataframe thead th {\n",
       "        text-align: right;\n",
       "    }\n",
       "</style>\n",
       "<table border=\"1\" class=\"dataframe\">\n",
       "  <thead>\n",
       "    <tr style=\"text-align: right;\">\n",
       "      <th>debt</th>\n",
       "      <th>family_status</th>\n",
       "      <th>0</th>\n",
       "      <th>1</th>\n",
       "      <th>All</th>\n",
       "      <th>default_rate</th>\n",
       "    </tr>\n",
       "  </thead>\n",
       "  <tbody>\n",
       "    <tr>\n",
       "      <th>0</th>\n",
       "      <td>civil partnership</td>\n",
       "      <td>3763</td>\n",
       "      <td>388</td>\n",
       "      <td>4151</td>\n",
       "      <td>9.347145</td>\n",
       "    </tr>\n",
       "    <tr>\n",
       "      <th>1</th>\n",
       "      <td>divorced</td>\n",
       "      <td>1110</td>\n",
       "      <td>85</td>\n",
       "      <td>1195</td>\n",
       "      <td>7.112971</td>\n",
       "    </tr>\n",
       "    <tr>\n",
       "      <th>2</th>\n",
       "      <td>married</td>\n",
       "      <td>11408</td>\n",
       "      <td>931</td>\n",
       "      <td>12339</td>\n",
       "      <td>7.545182</td>\n",
       "    </tr>\n",
       "    <tr>\n",
       "      <th>3</th>\n",
       "      <td>unmarried</td>\n",
       "      <td>2536</td>\n",
       "      <td>274</td>\n",
       "      <td>2810</td>\n",
       "      <td>9.750890</td>\n",
       "    </tr>\n",
       "    <tr>\n",
       "      <th>4</th>\n",
       "      <td>widow / widower</td>\n",
       "      <td>896</td>\n",
       "      <td>63</td>\n",
       "      <td>959</td>\n",
       "      <td>6.569343</td>\n",
       "    </tr>\n",
       "    <tr>\n",
       "      <th>5</th>\n",
       "      <td>All</td>\n",
       "      <td>19713</td>\n",
       "      <td>1741</td>\n",
       "      <td>21454</td>\n",
       "      <td>8.115037</td>\n",
       "    </tr>\n",
       "  </tbody>\n",
       "</table>\n",
       "</div>"
      ],
      "text/plain": [
       "debt      family_status      0     1    All  default_rate\n",
       "0     civil partnership   3763   388   4151      9.347145\n",
       "1              divorced   1110    85   1195      7.112971\n",
       "2               married  11408   931  12339      7.545182\n",
       "3             unmarried   2536   274   2810      9.750890\n",
       "4       widow / widower    896    63    959      6.569343\n",
       "5                   All  19713  1741  21454      8.115037"
      ]
     },
     "execution_count": 63,
     "metadata": {},
     "output_type": "execute_result"
    }
   ],
   "source": [
    "marital_status['default_rate']=(marital_status[1]/marital_status['All'])*100\n",
    "marital_status"
   ]
  },
  {
   "cell_type": "markdown",
   "metadata": {},
   "source": [
    "### Conclusion"
   ]
  },
  {
   "cell_type": "markdown",
   "metadata": {},
   "source": [
    "Analysing the data given, we can refer the group with widow family_status to the one who return loans mostly in time, and the unmarried group has the biggest procent of loans that were not returned"
   ]
  },
  {
   "cell_type": "markdown",
   "metadata": {},
   "source": [
    "- Is there a relation between income level and repaying a loan on time?"
   ]
  },
  {
   "cell_type": "code",
   "execution_count": 64,
   "metadata": {},
   "outputs": [
    {
     "data": {
      "text/html": [
       "<div>\n",
       "<style scoped>\n",
       "    .dataframe tbody tr th:only-of-type {\n",
       "        vertical-align: middle;\n",
       "    }\n",
       "\n",
       "    .dataframe tbody tr th {\n",
       "        vertical-align: top;\n",
       "    }\n",
       "\n",
       "    .dataframe thead th {\n",
       "        text-align: right;\n",
       "    }\n",
       "</style>\n",
       "<table border=\"1\" class=\"dataframe\">\n",
       "  <thead>\n",
       "    <tr style=\"text-align: right;\">\n",
       "      <th>debt</th>\n",
       "      <th>income_category</th>\n",
       "      <th>0</th>\n",
       "      <th>1</th>\n",
       "      <th>All</th>\n",
       "    </tr>\n",
       "  </thead>\n",
       "  <tbody>\n",
       "    <tr>\n",
       "      <th>0</th>\n",
       "      <td>high</td>\n",
       "      <td>4995</td>\n",
       "      <td>386</td>\n",
       "      <td>5381</td>\n",
       "    </tr>\n",
       "    <tr>\n",
       "      <th>1</th>\n",
       "      <td>low</td>\n",
       "      <td>4955</td>\n",
       "      <td>427</td>\n",
       "      <td>5382</td>\n",
       "    </tr>\n",
       "    <tr>\n",
       "      <th>2</th>\n",
       "      <td>lower_middle</td>\n",
       "      <td>4979</td>\n",
       "      <td>483</td>\n",
       "      <td>5462</td>\n",
       "    </tr>\n",
       "    <tr>\n",
       "      <th>3</th>\n",
       "      <td>upper_middle</td>\n",
       "      <td>4784</td>\n",
       "      <td>445</td>\n",
       "      <td>5229</td>\n",
       "    </tr>\n",
       "    <tr>\n",
       "      <th>4</th>\n",
       "      <td>All</td>\n",
       "      <td>19713</td>\n",
       "      <td>1741</td>\n",
       "      <td>21454</td>\n",
       "    </tr>\n",
       "  </tbody>\n",
       "</table>\n",
       "</div>"
      ],
      "text/plain": [
       "debt income_category      0     1    All\n",
       "0               high   4995   386   5381\n",
       "1                low   4955   427   5382\n",
       "2       lower_middle   4979   483   5462\n",
       "3       upper_middle   4784   445   5229\n",
       "4                All  19713  1741  21454"
      ]
     },
     "execution_count": 64,
     "metadata": {},
     "output_type": "execute_result"
    }
   ],
   "source": [
    "income_level=pd.pivot_table(credit_scoring,index='income_category',columns='debt',values='total_income',aggfunc='count',margins=True).reset_index()\n",
    "income_level"
   ]
  },
  {
   "cell_type": "code",
   "execution_count": 65,
   "metadata": {},
   "outputs": [
    {
     "data": {
      "text/html": [
       "<div>\n",
       "<style scoped>\n",
       "    .dataframe tbody tr th:only-of-type {\n",
       "        vertical-align: middle;\n",
       "    }\n",
       "\n",
       "    .dataframe tbody tr th {\n",
       "        vertical-align: top;\n",
       "    }\n",
       "\n",
       "    .dataframe thead th {\n",
       "        text-align: right;\n",
       "    }\n",
       "</style>\n",
       "<table border=\"1\" class=\"dataframe\">\n",
       "  <thead>\n",
       "    <tr style=\"text-align: right;\">\n",
       "      <th>debt</th>\n",
       "      <th>income_category</th>\n",
       "      <th>0</th>\n",
       "      <th>1</th>\n",
       "      <th>All</th>\n",
       "      <th>default_rate</th>\n",
       "    </tr>\n",
       "  </thead>\n",
       "  <tbody>\n",
       "    <tr>\n",
       "      <th>0</th>\n",
       "      <td>high</td>\n",
       "      <td>4995</td>\n",
       "      <td>386</td>\n",
       "      <td>5381</td>\n",
       "      <td>7.173388</td>\n",
       "    </tr>\n",
       "    <tr>\n",
       "      <th>1</th>\n",
       "      <td>low</td>\n",
       "      <td>4955</td>\n",
       "      <td>427</td>\n",
       "      <td>5382</td>\n",
       "      <td>7.933854</td>\n",
       "    </tr>\n",
       "    <tr>\n",
       "      <th>2</th>\n",
       "      <td>lower_middle</td>\n",
       "      <td>4979</td>\n",
       "      <td>483</td>\n",
       "      <td>5462</td>\n",
       "      <td>8.842915</td>\n",
       "    </tr>\n",
       "    <tr>\n",
       "      <th>3</th>\n",
       "      <td>upper_middle</td>\n",
       "      <td>4784</td>\n",
       "      <td>445</td>\n",
       "      <td>5229</td>\n",
       "      <td>8.510231</td>\n",
       "    </tr>\n",
       "    <tr>\n",
       "      <th>4</th>\n",
       "      <td>All</td>\n",
       "      <td>19713</td>\n",
       "      <td>1741</td>\n",
       "      <td>21454</td>\n",
       "      <td>8.115037</td>\n",
       "    </tr>\n",
       "  </tbody>\n",
       "</table>\n",
       "</div>"
      ],
      "text/plain": [
       "debt income_category      0     1    All  default_rate\n",
       "0               high   4995   386   5381      7.173388\n",
       "1                low   4955   427   5382      7.933854\n",
       "2       lower_middle   4979   483   5462      8.842915\n",
       "3       upper_middle   4784   445   5229      8.510231\n",
       "4                All  19713  1741  21454      8.115037"
      ]
     },
     "execution_count": 65,
     "metadata": {},
     "output_type": "execute_result"
    }
   ],
   "source": [
    "income_level['default_rate']=(income_level[1]/income_level['All'])*100\n",
    "income_level"
   ]
  },
  {
   "cell_type": "markdown",
   "metadata": {},
   "source": [
    "### Conclusion"
   ]
  },
  {
   "cell_type": "markdown",
   "metadata": {},
   "source": [
    "Following the information above we can describe the situation with credit loans so:\n",
    "the income level slightly affects the on-time repayment. We can say that the less reliable category is clients with lower-middle income, the most reliable are those with high income."
   ]
  },
  {
   "cell_type": "markdown",
   "metadata": {},
   "source": [
    "- How do different loan purposes affect on-time repayment of the loan?"
   ]
  },
  {
   "cell_type": "code",
   "execution_count": 66,
   "metadata": {},
   "outputs": [
    {
     "data": {
      "text/html": [
       "<div>\n",
       "<style scoped>\n",
       "    .dataframe tbody tr th:only-of-type {\n",
       "        vertical-align: middle;\n",
       "    }\n",
       "\n",
       "    .dataframe tbody tr th {\n",
       "        vertical-align: top;\n",
       "    }\n",
       "\n",
       "    .dataframe thead th {\n",
       "        text-align: right;\n",
       "    }\n",
       "</style>\n",
       "<table border=\"1\" class=\"dataframe\">\n",
       "  <thead>\n",
       "    <tr style=\"text-align: right;\">\n",
       "      <th></th>\n",
       "      <th>purpose_cat</th>\n",
       "      <th>debt</th>\n",
       "    </tr>\n",
       "  </thead>\n",
       "  <tbody>\n",
       "    <tr>\n",
       "      <th>0</th>\n",
       "      <td>car</td>\n",
       "      <td>0.093590</td>\n",
       "    </tr>\n",
       "    <tr>\n",
       "      <th>1</th>\n",
       "      <td>education</td>\n",
       "      <td>0.092200</td>\n",
       "    </tr>\n",
       "    <tr>\n",
       "      <th>2</th>\n",
       "      <td>property</td>\n",
       "      <td>0.072334</td>\n",
       "    </tr>\n",
       "    <tr>\n",
       "      <th>3</th>\n",
       "      <td>special_event</td>\n",
       "      <td>0.080034</td>\n",
       "    </tr>\n",
       "  </tbody>\n",
       "</table>\n",
       "</div>"
      ],
      "text/plain": [
       "     purpose_cat      debt\n",
       "0            car  0.093590\n",
       "1      education  0.092200\n",
       "2       property  0.072334\n",
       "3  special_event  0.080034"
      ]
     },
     "execution_count": 66,
     "metadata": {},
     "output_type": "execute_result"
    }
   ],
   "source": [
    "credit_scoring.groupby(['purpose_cat'])['debt'].mean().reset_index()"
   ]
  },
  {
   "cell_type": "markdown",
   "metadata": {},
   "source": [
    "### Conclusion"
   ]
  },
  {
   "cell_type": "markdown",
   "metadata": {},
   "source": [
    "Considering the information that we see in the table most of the problems with returning money is with the credits to buy a car and the education credit, the most reliable is property category."
   ]
  },
  {
   "cell_type": "markdown",
   "metadata": {},
   "source": [
    "## General conclusion"
   ]
  },
  {
   "cell_type": "markdown",
   "metadata": {},
   "source": [
    "Summing up all the information we can see following. We had a not really big data for research, there was only  apbout 21000 lines. We had information about children quantity, marrital status, purpose of loan, type of income and total income. Some of the information was missing ( for example total_income), some had typo (information about children). After fixing that problems, we categorized clients by age, by income, by purposes of credit. The most common group of people, sliced by age are adults, the most popular aim to take a credit - loans for property, the widest category by family status are married people.\n",
    "Now we face that the reliable category of clients are widows or married people, people with high income and people who take a loan to buy property. We should think over more when deciding to approve a loan to people with lower-middle total income unmarried or people in civil partnership status. "
   ]
  }
 ],
 "metadata": {
  "ExecuteTimeLog": [
   {
    "duration": 871,
    "start_time": "2021-10-10T19:21:11.268Z"
   },
   {
    "duration": 97,
    "start_time": "2021-10-10T19:21:30.116Z"
   },
   {
    "duration": 62,
    "start_time": "2021-10-10T19:21:43.097Z"
   },
   {
    "duration": 86,
    "start_time": "2021-10-10T19:25:06.571Z"
   },
   {
    "duration": 80,
    "start_time": "2021-10-10T19:34:17.184Z"
   },
   {
    "duration": 84,
    "start_time": "2021-10-10T19:44:26.790Z"
   },
   {
    "duration": 77,
    "start_time": "2021-10-10T20:04:01.374Z"
   },
   {
    "duration": 111,
    "start_time": "2021-10-10T20:05:47.118Z"
   },
   {
    "duration": 417,
    "start_time": "2021-10-10T20:13:24.797Z"
   },
   {
    "duration": 109,
    "start_time": "2021-10-10T20:18:06.119Z"
   },
   {
    "duration": 110,
    "start_time": "2021-10-10T20:19:36.374Z"
   },
   {
    "duration": 103,
    "start_time": "2021-10-10T20:20:33.415Z"
   },
   {
    "duration": 464,
    "start_time": "2021-10-10T20:24:42.234Z"
   },
   {
    "duration": 338,
    "start_time": "2021-10-10T20:24:58.418Z"
   },
   {
    "duration": 135,
    "start_time": "2021-10-10T20:25:11.820Z"
   },
   {
    "duration": 43,
    "start_time": "2021-10-10T20:37:46.298Z"
   },
   {
    "duration": 9,
    "start_time": "2021-10-10T20:41:23.471Z"
   },
   {
    "duration": 28,
    "start_time": "2021-10-10T20:41:45.272Z"
   },
   {
    "duration": 235,
    "start_time": "2021-10-10T20:42:19.152Z"
   },
   {
    "duration": 600,
    "start_time": "2021-10-11T05:24:49.883Z"
   },
   {
    "duration": 17,
    "start_time": "2021-10-11T05:24:50.485Z"
   },
   {
    "duration": 286,
    "start_time": "2021-10-11T05:26:20.717Z"
   },
   {
    "duration": 76,
    "start_time": "2021-10-11T05:26:35.969Z"
   },
   {
    "duration": 82,
    "start_time": "2021-10-11T05:26:52.116Z"
   },
   {
    "duration": 18,
    "start_time": "2021-10-11T05:26:58.519Z"
   },
   {
    "duration": 478,
    "start_time": "2021-10-11T05:27:24.168Z"
   },
   {
    "duration": 267,
    "start_time": "2021-10-11T05:27:45.634Z"
   },
   {
    "duration": 227,
    "start_time": "2021-10-11T05:27:55.827Z"
   },
   {
    "duration": 17,
    "start_time": "2021-10-11T05:28:03.725Z"
   },
   {
    "duration": 19,
    "start_time": "2021-10-11T05:28:43.572Z"
   },
   {
    "duration": 19,
    "start_time": "2021-10-11T05:29:03.527Z"
   },
   {
    "duration": 242,
    "start_time": "2021-10-11T05:29:21.298Z"
   },
   {
    "duration": 226,
    "start_time": "2021-10-11T05:29:53.934Z"
   },
   {
    "duration": 743,
    "start_time": "2021-10-11T06:03:33.202Z"
   },
   {
    "duration": 5,
    "start_time": "2021-10-11T06:03:33.948Z"
   },
   {
    "duration": 6,
    "start_time": "2021-10-11T06:04:19.913Z"
   },
   {
    "duration": 5,
    "start_time": "2021-10-11T06:04:47.987Z"
   },
   {
    "duration": 5,
    "start_time": "2021-10-11T06:05:07.899Z"
   },
   {
    "duration": -270,
    "start_time": "2021-10-11T06:05:26.309Z"
   },
   {
    "duration": 5,
    "start_time": "2021-10-11T06:05:46.423Z"
   },
   {
    "duration": 74,
    "start_time": "2021-10-11T06:09:10.409Z"
   },
   {
    "duration": 44,
    "start_time": "2021-10-11T06:09:40.440Z"
   },
   {
    "duration": 46,
    "start_time": "2021-10-11T06:09:44.836Z"
   },
   {
    "duration": 45,
    "start_time": "2021-10-11T06:10:13.001Z"
   },
   {
    "duration": 48,
    "start_time": "2021-10-11T06:10:25.340Z"
   },
   {
    "duration": 44,
    "start_time": "2021-10-11T06:10:50.931Z"
   },
   {
    "duration": 1243,
    "start_time": "2021-10-11T06:17:22.316Z"
   },
   {
    "duration": 1348,
    "start_time": "2021-10-11T06:17:33.823Z"
   },
   {
    "duration": 1048,
    "start_time": "2021-10-11T06:18:44.131Z"
   },
   {
    "duration": 73,
    "start_time": "2021-10-11T06:28:50.453Z"
   },
   {
    "duration": 722,
    "start_time": "2021-10-11T15:23:40.016Z"
   },
   {
    "duration": 850,
    "start_time": "2021-10-11T18:18:56.376Z"
   },
   {
    "duration": 52,
    "start_time": "2021-10-11T18:19:06.130Z"
   },
   {
    "duration": 15,
    "start_time": "2021-10-11T18:19:41.292Z"
   },
   {
    "duration": 48,
    "start_time": "2021-10-11T18:20:05.606Z"
   },
   {
    "duration": 9,
    "start_time": "2021-10-11T18:20:17.553Z"
   },
   {
    "duration": 9,
    "start_time": "2021-10-11T18:20:23.676Z"
   },
   {
    "duration": 366,
    "start_time": "2021-10-11T19:38:08.555Z"
   },
   {
    "duration": 841,
    "start_time": "2021-10-11T19:38:23.441Z"
   },
   {
    "duration": 20,
    "start_time": "2021-10-11T19:41:17.769Z"
   },
   {
    "duration": 42,
    "start_time": "2021-10-11T19:45:17.377Z"
   },
   {
    "duration": 14,
    "start_time": "2021-10-11T19:46:50.146Z"
   },
   {
    "duration": 16,
    "start_time": "2021-10-11T19:48:32.374Z"
   },
   {
    "duration": 349,
    "start_time": "2021-10-11T19:52:07.243Z"
   },
   {
    "duration": 14,
    "start_time": "2021-10-11T19:54:08.988Z"
   },
   {
    "duration": 7,
    "start_time": "2021-10-11T19:55:08.808Z"
   },
   {
    "duration": 294,
    "start_time": "2021-10-11T19:59:20.316Z"
   },
   {
    "duration": 292,
    "start_time": "2021-10-11T20:00:10.263Z"
   },
   {
    "duration": 804,
    "start_time": "2021-10-12T15:21:28.875Z"
   },
   {
    "duration": 15,
    "start_time": "2021-10-12T15:21:30.984Z"
   },
   {
    "duration": 56,
    "start_time": "2021-10-12T15:21:33.194Z"
   },
   {
    "duration": 11,
    "start_time": "2021-10-12T15:21:50.962Z"
   },
   {
    "duration": 8,
    "start_time": "2021-10-12T15:22:37.886Z"
   },
   {
    "duration": 10,
    "start_time": "2021-10-12T15:22:46.832Z"
   },
   {
    "duration": 68,
    "start_time": "2021-10-12T16:57:42.660Z"
   },
   {
    "duration": 838,
    "start_time": "2021-10-12T16:57:51.570Z"
   },
   {
    "duration": 15,
    "start_time": "2021-10-12T16:57:52.411Z"
   },
   {
    "duration": 76,
    "start_time": "2021-10-12T16:57:52.430Z"
   },
   {
    "duration": 10,
    "start_time": "2021-10-12T16:57:52.509Z"
   },
   {
    "duration": 12,
    "start_time": "2021-10-12T16:57:52.521Z"
   },
   {
    "duration": 8,
    "start_time": "2021-10-12T16:57:52.536Z"
   },
   {
    "duration": 46,
    "start_time": "2021-10-12T16:57:52.546Z"
   },
   {
    "duration": 14,
    "start_time": "2021-10-12T16:57:52.595Z"
   },
   {
    "duration": 130,
    "start_time": "2021-10-12T16:57:52.612Z"
   },
   {
    "duration": 162,
    "start_time": "2021-10-12T16:58:24.916Z"
   },
   {
    "duration": 118,
    "start_time": "2021-10-12T16:58:45.215Z"
   },
   {
    "duration": 2577,
    "start_time": "2021-10-12T16:59:32.738Z"
   },
   {
    "duration": 10,
    "start_time": "2021-10-12T17:02:59.691Z"
   },
   {
    "duration": 10,
    "start_time": "2021-10-12T17:03:35.164Z"
   },
   {
    "duration": 13,
    "start_time": "2021-10-12T17:04:17.620Z"
   },
   {
    "duration": 9,
    "start_time": "2021-10-12T17:04:21.039Z"
   },
   {
    "duration": 14,
    "start_time": "2021-10-12T17:04:27.125Z"
   },
   {
    "duration": 10,
    "start_time": "2021-10-12T17:04:28.335Z"
   },
   {
    "duration": 14,
    "start_time": "2021-10-12T17:05:08.836Z"
   },
   {
    "duration": 8,
    "start_time": "2021-10-12T17:05:14.501Z"
   },
   {
    "duration": 14,
    "start_time": "2021-10-12T17:05:17.777Z"
   },
   {
    "duration": 8,
    "start_time": "2021-10-12T17:05:21.490Z"
   },
   {
    "duration": 9,
    "start_time": "2021-10-12T17:05:31.571Z"
   },
   {
    "duration": 8,
    "start_time": "2021-10-12T17:05:35.303Z"
   },
   {
    "duration": 8,
    "start_time": "2021-10-12T17:07:42.112Z"
   },
   {
    "duration": 12,
    "start_time": "2021-10-12T17:07:43.652Z"
   },
   {
    "duration": 14,
    "start_time": "2021-10-12T17:08:06.838Z"
   },
   {
    "duration": 21,
    "start_time": "2021-10-12T17:08:07.800Z"
   },
   {
    "duration": 5,
    "start_time": "2021-10-12T17:08:08.922Z"
   },
   {
    "duration": 9,
    "start_time": "2021-10-12T17:08:11.792Z"
   },
   {
    "duration": 5,
    "start_time": "2021-10-12T17:09:28.714Z"
   },
   {
    "duration": 8,
    "start_time": "2021-10-12T17:09:34.124Z"
   },
   {
    "duration": 4,
    "start_time": "2021-10-12T17:10:11.288Z"
   },
   {
    "duration": 5,
    "start_time": "2021-10-12T17:10:14.062Z"
   },
   {
    "duration": 5,
    "start_time": "2021-10-12T17:10:14.881Z"
   },
   {
    "duration": 8,
    "start_time": "2021-10-12T17:10:15.672Z"
   },
   {
    "duration": 17,
    "start_time": "2021-10-12T17:10:23.739Z"
   },
   {
    "duration": 6,
    "start_time": "2021-10-12T17:10:24.543Z"
   },
   {
    "duration": 5,
    "start_time": "2021-10-12T17:10:25.196Z"
   },
   {
    "duration": 8,
    "start_time": "2021-10-12T17:10:25.746Z"
   },
   {
    "duration": 17,
    "start_time": "2021-10-12T17:11:50.337Z"
   },
   {
    "duration": 7,
    "start_time": "2021-10-12T17:11:51.332Z"
   },
   {
    "duration": 7,
    "start_time": "2021-10-12T17:11:52.200Z"
   },
   {
    "duration": 10,
    "start_time": "2021-10-12T17:11:53.003Z"
   },
   {
    "duration": 874,
    "start_time": "2021-10-12T17:12:17.236Z"
   },
   {
    "duration": 15,
    "start_time": "2021-10-12T17:12:18.113Z"
   },
   {
    "duration": 75,
    "start_time": "2021-10-12T17:12:18.132Z"
   },
   {
    "duration": 10,
    "start_time": "2021-10-12T17:12:18.210Z"
   },
   {
    "duration": 8,
    "start_time": "2021-10-12T17:12:18.222Z"
   },
   {
    "duration": 10,
    "start_time": "2021-10-12T17:12:18.232Z"
   },
   {
    "duration": 49,
    "start_time": "2021-10-12T17:12:18.244Z"
   },
   {
    "duration": 15,
    "start_time": "2021-10-12T17:12:18.297Z"
   },
   {
    "duration": 5,
    "start_time": "2021-10-12T17:12:18.314Z"
   },
   {
    "duration": 7,
    "start_time": "2021-10-12T17:12:18.321Z"
   },
   {
    "duration": -216,
    "start_time": "2021-10-12T17:12:35.839Z"
   },
   {
    "duration": 51,
    "start_time": "2021-10-12T17:12:50.409Z"
   },
   {
    "duration": 17,
    "start_time": "2021-10-12T17:12:51.587Z"
   },
   {
    "duration": 52,
    "start_time": "2021-10-12T17:12:56.985Z"
   },
   {
    "duration": 16,
    "start_time": "2021-10-12T17:12:57.769Z"
   },
   {
    "duration": 47,
    "start_time": "2021-10-12T17:13:00.216Z"
   },
   {
    "duration": 11,
    "start_time": "2021-10-12T17:13:02.652Z"
   },
   {
    "duration": 13,
    "start_time": "2021-10-12T17:13:09.069Z"
   },
   {
    "duration": 15,
    "start_time": "2021-10-12T17:13:15.116Z"
   },
   {
    "duration": 5,
    "start_time": "2021-10-12T17:13:16.969Z"
   },
   {
    "duration": 6,
    "start_time": "2021-10-12T17:13:18.017Z"
   },
   {
    "duration": -261,
    "start_time": "2021-10-12T17:13:35.114Z"
   },
   {
    "duration": -263,
    "start_time": "2021-10-12T17:13:35.117Z"
   },
   {
    "duration": -264,
    "start_time": "2021-10-12T17:13:35.120Z"
   },
   {
    "duration": -266,
    "start_time": "2021-10-12T17:13:35.123Z"
   },
   {
    "duration": 50,
    "start_time": "2021-10-12T17:14:07.596Z"
   },
   {
    "duration": 16,
    "start_time": "2021-10-12T17:14:08.942Z"
   },
   {
    "duration": 45,
    "start_time": "2021-10-12T17:14:11.001Z"
   },
   {
    "duration": 11,
    "start_time": "2021-10-12T17:14:13.686Z"
   },
   {
    "duration": 8,
    "start_time": "2021-10-12T17:14:15.251Z"
   },
   {
    "duration": 9,
    "start_time": "2021-10-12T17:14:22.709Z"
   },
   {
    "duration": 13,
    "start_time": "2021-10-12T17:14:32.419Z"
   },
   {
    "duration": 16,
    "start_time": "2021-10-12T17:14:40.419Z"
   },
   {
    "duration": 6,
    "start_time": "2021-10-12T17:14:42.165Z"
   },
   {
    "duration": -272,
    "start_time": "2021-10-12T17:14:54.482Z"
   },
   {
    "duration": 9,
    "start_time": "2021-10-12T17:14:56.967Z"
   },
   {
    "duration": 6,
    "start_time": "2021-10-12T17:15:23.635Z"
   },
   {
    "duration": 9,
    "start_time": "2021-10-12T17:15:24.729Z"
   },
   {
    "duration": 18,
    "start_time": "2021-10-12T17:36:21.590Z"
   },
   {
    "duration": 8,
    "start_time": "2021-10-12T17:36:31.038Z"
   },
   {
    "duration": 11,
    "start_time": "2021-10-12T17:36:53.422Z"
   },
   {
    "duration": 1529,
    "start_time": "2021-10-12T17:38:56.494Z"
   },
   {
    "duration": 90,
    "start_time": "2021-10-12T17:40:36.301Z"
   },
   {
    "duration": 10,
    "start_time": "2021-10-12T17:40:47.445Z"
   },
   {
    "duration": 10,
    "start_time": "2021-10-12T17:41:42.889Z"
   },
   {
    "duration": 10,
    "start_time": "2021-10-12T17:42:02.410Z"
   },
   {
    "duration": 830,
    "start_time": "2021-10-12T17:43:59.750Z"
   },
   {
    "duration": 16,
    "start_time": "2021-10-12T17:44:00.582Z"
   },
   {
    "duration": 66,
    "start_time": "2021-10-12T17:44:00.601Z"
   },
   {
    "duration": 21,
    "start_time": "2021-10-12T17:44:00.670Z"
   },
   {
    "duration": 21,
    "start_time": "2021-10-12T17:44:00.694Z"
   },
   {
    "duration": 36,
    "start_time": "2021-10-12T17:44:00.717Z"
   },
   {
    "duration": 29,
    "start_time": "2021-10-12T17:44:00.756Z"
   },
   {
    "duration": 15,
    "start_time": "2021-10-12T17:44:00.789Z"
   },
   {
    "duration": 9,
    "start_time": "2021-10-12T17:44:00.807Z"
   },
   {
    "duration": 16,
    "start_time": "2021-10-12T17:44:00.819Z"
   },
   {
    "duration": 20,
    "start_time": "2021-10-12T17:44:00.838Z"
   },
   {
    "duration": 31,
    "start_time": "2021-10-12T17:44:00.861Z"
   },
   {
    "duration": 4,
    "start_time": "2021-10-12T17:44:13.600Z"
   },
   {
    "duration": 92,
    "start_time": "2021-10-12T17:44:26.197Z"
   },
   {
    "duration": 13,
    "start_time": "2021-10-12T17:44:35.894Z"
   },
   {
    "duration": 4,
    "start_time": "2021-10-12T17:46:43.412Z"
   },
   {
    "duration": 10,
    "start_time": "2021-10-12T17:46:48.093Z"
   },
   {
    "duration": 4,
    "start_time": "2021-10-12T17:47:44.291Z"
   },
   {
    "duration": 10,
    "start_time": "2021-10-12T17:47:45.703Z"
   },
   {
    "duration": 10,
    "start_time": "2021-10-12T17:47:54.318Z"
   },
   {
    "duration": 4,
    "start_time": "2021-10-12T17:47:56.575Z"
   },
   {
    "duration": 10,
    "start_time": "2021-10-12T17:47:58.895Z"
   },
   {
    "duration": 20,
    "start_time": "2021-10-12T17:48:33.793Z"
   },
   {
    "duration": 4,
    "start_time": "2021-10-12T17:48:44.118Z"
   },
   {
    "duration": 17,
    "start_time": "2021-10-12T17:48:49.581Z"
   },
   {
    "duration": 304,
    "start_time": "2021-10-12T17:50:10.454Z"
   },
   {
    "duration": 17,
    "start_time": "2021-10-12T17:50:21.709Z"
   },
   {
    "duration": 273,
    "start_time": "2021-10-12T17:51:30.961Z"
   },
   {
    "duration": 19,
    "start_time": "2021-10-12T17:51:34.816Z"
   },
   {
    "duration": 12,
    "start_time": "2021-10-12T17:51:37.985Z"
   },
   {
    "duration": 565,
    "start_time": "2021-10-12T17:52:07.144Z"
   },
   {
    "duration": 168,
    "start_time": "2021-10-12T17:52:29.723Z"
   },
   {
    "duration": 12,
    "start_time": "2021-10-12T17:52:35.010Z"
   },
   {
    "duration": 798,
    "start_time": "2021-10-12T17:53:04.208Z"
   },
   {
    "duration": 15,
    "start_time": "2021-10-12T17:53:05.009Z"
   },
   {
    "duration": 72,
    "start_time": "2021-10-12T17:53:05.028Z"
   },
   {
    "duration": 10,
    "start_time": "2021-10-12T17:53:05.103Z"
   },
   {
    "duration": 9,
    "start_time": "2021-10-12T17:53:05.115Z"
   },
   {
    "duration": 9,
    "start_time": "2021-10-12T17:53:05.127Z"
   },
   {
    "duration": 46,
    "start_time": "2021-10-12T17:53:05.138Z"
   },
   {
    "duration": 16,
    "start_time": "2021-10-12T17:53:05.188Z"
   },
   {
    "duration": 5,
    "start_time": "2021-10-12T17:53:05.207Z"
   },
   {
    "duration": 7,
    "start_time": "2021-10-12T17:53:05.215Z"
   },
   {
    "duration": 327,
    "start_time": "2021-10-12T17:53:05.224Z"
   },
   {
    "duration": 11,
    "start_time": "2021-10-12T17:53:05.554Z"
   },
   {
    "duration": 5,
    "start_time": "2021-10-12T17:53:19.485Z"
   },
   {
    "duration": 13,
    "start_time": "2021-10-12T17:59:46.532Z"
   },
   {
    "duration": 4628,
    "start_time": "2021-10-12T17:59:47.900Z"
   },
   {
    "duration": -171,
    "start_time": "2021-10-12T18:00:44.929Z"
   },
   {
    "duration": -173,
    "start_time": "2021-10-12T18:00:44.933Z"
   },
   {
    "duration": 4075,
    "start_time": "2021-10-12T18:03:54.228Z"
   },
   {
    "duration": 4277,
    "start_time": "2021-10-12T18:05:49.947Z"
   },
   {
    "duration": 802,
    "start_time": "2021-10-12T18:05:58.663Z"
   },
   {
    "duration": 15,
    "start_time": "2021-10-12T18:05:59.468Z"
   },
   {
    "duration": 56,
    "start_time": "2021-10-12T18:05:59.486Z"
   },
   {
    "duration": 9,
    "start_time": "2021-10-12T18:05:59.545Z"
   },
   {
    "duration": 28,
    "start_time": "2021-10-12T18:05:59.557Z"
   },
   {
    "duration": 9,
    "start_time": "2021-10-12T18:05:59.587Z"
   },
   {
    "duration": 14,
    "start_time": "2021-10-12T18:05:59.599Z"
   },
   {
    "duration": 16,
    "start_time": "2021-10-12T18:05:59.616Z"
   },
   {
    "duration": 47,
    "start_time": "2021-10-12T18:05:59.635Z"
   },
   {
    "duration": 6,
    "start_time": "2021-10-12T18:05:59.685Z"
   },
   {
    "duration": 23,
    "start_time": "2021-10-12T18:05:59.694Z"
   },
   {
    "duration": 18,
    "start_time": "2021-10-12T18:05:59.720Z"
   },
   {
    "duration": 412,
    "start_time": "2021-10-12T18:05:59.740Z"
   },
   {
    "duration": 15,
    "start_time": "2021-10-12T18:06:08.355Z"
   },
   {
    "duration": 12,
    "start_time": "2021-10-12T18:06:09.531Z"
   },
   {
    "duration": 305,
    "start_time": "2021-10-12T18:08:16.184Z"
   },
   {
    "duration": 6,
    "start_time": "2021-10-12T18:09:20.737Z"
   },
   {
    "duration": 3,
    "start_time": "2021-10-12T18:09:46.597Z"
   },
   {
    "duration": 15,
    "start_time": "2021-10-12T18:10:11.782Z"
   },
   {
    "duration": 812,
    "start_time": "2021-10-12T18:23:16.651Z"
   },
   {
    "duration": 16,
    "start_time": "2021-10-12T18:23:17.467Z"
   },
   {
    "duration": 56,
    "start_time": "2021-10-12T18:23:17.488Z"
   },
   {
    "duration": 36,
    "start_time": "2021-10-12T18:23:17.548Z"
   },
   {
    "duration": 7,
    "start_time": "2021-10-12T18:23:17.586Z"
   },
   {
    "duration": 11,
    "start_time": "2021-10-12T18:23:17.596Z"
   },
   {
    "duration": 14,
    "start_time": "2021-10-12T18:23:17.610Z"
   },
   {
    "duration": 64,
    "start_time": "2021-10-12T18:23:17.629Z"
   },
   {
    "duration": 5,
    "start_time": "2021-10-12T18:23:17.695Z"
   },
   {
    "duration": 7,
    "start_time": "2021-10-12T18:23:17.703Z"
   },
   {
    "duration": 16,
    "start_time": "2021-10-12T18:23:17.712Z"
   },
   {
    "duration": 18,
    "start_time": "2021-10-12T18:23:17.730Z"
   },
   {
    "duration": 37,
    "start_time": "2021-10-12T18:23:17.751Z"
   },
   {
    "duration": 23,
    "start_time": "2021-10-12T18:23:17.790Z"
   },
   {
    "duration": 22,
    "start_time": "2021-10-12T18:23:17.815Z"
   },
   {
    "duration": 6,
    "start_time": "2021-10-12T18:30:02.240Z"
   },
   {
    "duration": 5,
    "start_time": "2021-10-12T18:30:15.904Z"
   },
   {
    "duration": 5,
    "start_time": "2021-10-12T18:30:25.779Z"
   },
   {
    "duration": 15,
    "start_time": "2021-10-12T18:30:35.438Z"
   },
   {
    "duration": 10,
    "start_time": "2021-10-12T18:31:47.566Z"
   },
   {
    "duration": 10,
    "start_time": "2021-10-12T18:32:41.990Z"
   },
   {
    "duration": 366,
    "start_time": "2021-10-12T18:37:40.981Z"
   },
   {
    "duration": 11,
    "start_time": "2021-10-12T18:37:59.064Z"
   },
   {
    "duration": 11,
    "start_time": "2021-10-12T18:38:02.825Z"
   },
   {
    "duration": 7,
    "start_time": "2021-10-12T18:38:05.166Z"
   },
   {
    "duration": 9,
    "start_time": "2021-10-12T18:38:06.000Z"
   },
   {
    "duration": 800,
    "start_time": "2021-10-12T18:38:23.351Z"
   },
   {
    "duration": 13,
    "start_time": "2021-10-12T18:38:24.154Z"
   },
   {
    "duration": 55,
    "start_time": "2021-10-12T18:38:24.171Z"
   },
   {
    "duration": 12,
    "start_time": "2021-10-12T18:38:24.229Z"
   },
   {
    "duration": 42,
    "start_time": "2021-10-12T18:38:24.244Z"
   },
   {
    "duration": 11,
    "start_time": "2021-10-12T18:38:24.289Z"
   },
   {
    "duration": 14,
    "start_time": "2021-10-12T18:38:24.303Z"
   },
   {
    "duration": 14,
    "start_time": "2021-10-12T18:38:24.321Z"
   },
   {
    "duration": 46,
    "start_time": "2021-10-12T18:38:24.338Z"
   },
   {
    "duration": 5,
    "start_time": "2021-10-12T18:38:24.387Z"
   },
   {
    "duration": 19,
    "start_time": "2021-10-12T18:38:24.395Z"
   },
   {
    "duration": 13,
    "start_time": "2021-10-12T18:38:24.416Z"
   },
   {
    "duration": 8,
    "start_time": "2021-10-12T18:38:24.432Z"
   },
   {
    "duration": 39,
    "start_time": "2021-10-12T18:38:24.443Z"
   },
   {
    "duration": 7,
    "start_time": "2021-10-12T18:38:24.485Z"
   },
   {
    "duration": 19,
    "start_time": "2021-10-12T18:38:24.494Z"
   },
   {
    "duration": 10,
    "start_time": "2021-10-12T18:38:33.027Z"
   },
   {
    "duration": 465,
    "start_time": "2021-10-12T18:38:57.267Z"
   },
   {
    "duration": 7,
    "start_time": "2021-10-12T18:39:34.973Z"
   },
   {
    "duration": 11,
    "start_time": "2021-10-12T18:39:49.759Z"
   },
   {
    "duration": 10,
    "start_time": "2021-10-12T18:39:50.725Z"
   },
   {
    "duration": 837,
    "start_time": "2021-10-12T18:40:12.358Z"
   },
   {
    "duration": 15,
    "start_time": "2021-10-12T18:40:13.199Z"
   },
   {
    "duration": 76,
    "start_time": "2021-10-12T18:40:13.217Z"
   },
   {
    "duration": 11,
    "start_time": "2021-10-12T18:40:13.295Z"
   },
   {
    "duration": 8,
    "start_time": "2021-10-12T18:40:13.308Z"
   },
   {
    "duration": 10,
    "start_time": "2021-10-12T18:40:13.318Z"
   },
   {
    "duration": 52,
    "start_time": "2021-10-12T18:40:13.330Z"
   },
   {
    "duration": 16,
    "start_time": "2021-10-12T18:40:13.386Z"
   },
   {
    "duration": 6,
    "start_time": "2021-10-12T18:40:13.406Z"
   },
   {
    "duration": 11,
    "start_time": "2021-10-12T18:40:13.414Z"
   },
   {
    "duration": 25,
    "start_time": "2021-10-12T18:40:13.428Z"
   },
   {
    "duration": 29,
    "start_time": "2021-10-12T18:40:13.456Z"
   },
   {
    "duration": 9,
    "start_time": "2021-10-12T18:40:13.488Z"
   },
   {
    "duration": 5,
    "start_time": "2021-10-12T18:40:13.500Z"
   },
   {
    "duration": 21,
    "start_time": "2021-10-12T18:40:13.507Z"
   },
   {
    "duration": 6,
    "start_time": "2021-10-12T18:41:02.023Z"
   },
   {
    "duration": 126,
    "start_time": "2021-10-12T18:42:57.367Z"
   },
   {
    "duration": 409,
    "start_time": "2021-10-12T18:43:39.226Z"
   },
   {
    "duration": 315,
    "start_time": "2021-10-12T18:43:52.508Z"
   },
   {
    "duration": 10,
    "start_time": "2021-10-12T18:44:23.498Z"
   },
   {
    "duration": 10,
    "start_time": "2021-10-12T18:44:32.377Z"
   },
   {
    "duration": -377,
    "start_time": "2021-10-12T18:45:21.691Z"
   },
   {
    "duration": -378,
    "start_time": "2021-10-12T18:45:21.695Z"
   },
   {
    "duration": -379,
    "start_time": "2021-10-12T18:45:21.698Z"
   },
   {
    "duration": 11,
    "start_time": "2021-10-12T18:45:31.694Z"
   },
   {
    "duration": 11,
    "start_time": "2021-10-12T18:45:33.402Z"
   },
   {
    "duration": 7,
    "start_time": "2021-10-12T18:45:34.328Z"
   },
   {
    "duration": 10,
    "start_time": "2021-10-12T18:45:37.713Z"
   },
   {
    "duration": 456,
    "start_time": "2021-10-12T18:45:55.593Z"
   },
   {
    "duration": 9,
    "start_time": "2021-10-12T18:54:19.569Z"
   },
   {
    "duration": 9,
    "start_time": "2021-10-12T18:54:23.471Z"
   },
   {
    "duration": 19,
    "start_time": "2021-10-12T18:54:52.058Z"
   },
   {
    "duration": 832,
    "start_time": "2021-10-12T18:56:05.747Z"
   },
   {
    "duration": 18,
    "start_time": "2021-10-12T18:56:06.581Z"
   },
   {
    "duration": 56,
    "start_time": "2021-10-12T18:56:06.602Z"
   },
   {
    "duration": 31,
    "start_time": "2021-10-12T18:56:06.660Z"
   },
   {
    "duration": 7,
    "start_time": "2021-10-12T18:56:06.694Z"
   },
   {
    "duration": 9,
    "start_time": "2021-10-12T18:56:06.703Z"
   },
   {
    "duration": 11,
    "start_time": "2021-10-12T18:56:06.714Z"
   },
   {
    "duration": 55,
    "start_time": "2021-10-12T18:56:06.729Z"
   },
   {
    "duration": 5,
    "start_time": "2021-10-12T18:56:06.786Z"
   },
   {
    "duration": 8,
    "start_time": "2021-10-12T18:56:06.794Z"
   },
   {
    "duration": 21,
    "start_time": "2021-10-12T18:56:06.804Z"
   },
   {
    "duration": 13,
    "start_time": "2021-10-12T18:56:06.828Z"
   },
   {
    "duration": 39,
    "start_time": "2021-10-12T18:56:06.843Z"
   },
   {
    "duration": 9,
    "start_time": "2021-10-12T18:56:06.885Z"
   },
   {
    "duration": 13,
    "start_time": "2021-10-12T18:56:06.896Z"
   },
   {
    "duration": 18,
    "start_time": "2021-10-12T18:56:06.911Z"
   },
   {
    "duration": 10,
    "start_time": "2021-10-12T18:56:06.931Z"
   },
   {
    "duration": 49,
    "start_time": "2021-10-12T18:56:06.943Z"
   },
   {
    "duration": 11,
    "start_time": "2021-10-12T18:57:38.410Z"
   },
   {
    "duration": 10,
    "start_time": "2021-10-12T18:58:13.709Z"
   },
   {
    "duration": 13,
    "start_time": "2021-10-12T18:58:24.527Z"
   },
   {
    "duration": 494,
    "start_time": "2021-10-12T19:00:27.153Z"
   },
   {
    "duration": 7,
    "start_time": "2021-10-12T19:01:09.295Z"
   },
   {
    "duration": 7,
    "start_time": "2021-10-12T19:01:23.727Z"
   },
   {
    "duration": 20,
    "start_time": "2021-10-12T19:01:53.672Z"
   },
   {
    "duration": 8,
    "start_time": "2021-10-12T19:02:20.960Z"
   },
   {
    "duration": 790,
    "start_time": "2021-10-12T19:02:32.623Z"
   },
   {
    "duration": 18,
    "start_time": "2021-10-12T19:02:33.416Z"
   },
   {
    "duration": 82,
    "start_time": "2021-10-12T19:02:33.438Z"
   },
   {
    "duration": 13,
    "start_time": "2021-10-12T19:02:33.523Z"
   },
   {
    "duration": 9,
    "start_time": "2021-10-12T19:02:33.539Z"
   },
   {
    "duration": 39,
    "start_time": "2021-10-12T19:02:33.551Z"
   },
   {
    "duration": 15,
    "start_time": "2021-10-12T19:02:33.593Z"
   },
   {
    "duration": 14,
    "start_time": "2021-10-12T19:02:33.612Z"
   },
   {
    "duration": 5,
    "start_time": "2021-10-12T19:02:33.629Z"
   },
   {
    "duration": 48,
    "start_time": "2021-10-12T19:02:33.636Z"
   },
   {
    "duration": 15,
    "start_time": "2021-10-12T19:02:33.686Z"
   },
   {
    "duration": 17,
    "start_time": "2021-10-12T19:02:33.703Z"
   },
   {
    "duration": 10,
    "start_time": "2021-10-12T19:02:33.723Z"
   },
   {
    "duration": 17,
    "start_time": "2021-10-12T19:02:33.736Z"
   },
   {
    "duration": 10,
    "start_time": "2021-10-12T19:02:33.783Z"
   },
   {
    "duration": 33,
    "start_time": "2021-10-12T19:02:33.796Z"
   },
   {
    "duration": 14,
    "start_time": "2021-10-12T19:02:33.831Z"
   },
   {
    "duration": 34,
    "start_time": "2021-10-12T19:02:33.848Z"
   },
   {
    "duration": 852,
    "start_time": "2021-10-12T19:03:42.963Z"
   },
   {
    "duration": 15,
    "start_time": "2021-10-12T19:03:43.817Z"
   },
   {
    "duration": 76,
    "start_time": "2021-10-12T19:03:43.835Z"
   },
   {
    "duration": 10,
    "start_time": "2021-10-12T19:03:43.913Z"
   },
   {
    "duration": 7,
    "start_time": "2021-10-12T19:03:43.925Z"
   },
   {
    "duration": 11,
    "start_time": "2021-10-12T19:03:43.935Z"
   },
   {
    "duration": 13,
    "start_time": "2021-10-12T19:03:43.983Z"
   },
   {
    "duration": 15,
    "start_time": "2021-10-12T19:03:44.001Z"
   },
   {
    "duration": 7,
    "start_time": "2021-10-12T19:03:44.019Z"
   },
   {
    "duration": 8,
    "start_time": "2021-10-12T19:03:44.028Z"
   },
   {
    "duration": 21,
    "start_time": "2021-10-12T19:03:44.083Z"
   },
   {
    "duration": 22,
    "start_time": "2021-10-12T19:03:44.107Z"
   },
   {
    "duration": 11,
    "start_time": "2021-10-12T19:03:44.132Z"
   },
   {
    "duration": 10,
    "start_time": "2021-10-12T19:03:44.146Z"
   },
   {
    "duration": 5,
    "start_time": "2021-10-12T19:03:44.158Z"
   },
   {
    "duration": 10,
    "start_time": "2021-10-12T19:03:44.183Z"
   },
   {
    "duration": 5,
    "start_time": "2021-10-12T19:03:44.196Z"
   },
   {
    "duration": 17,
    "start_time": "2021-10-12T19:03:44.203Z"
   },
   {
    "duration": 18,
    "start_time": "2021-10-12T19:04:09.586Z"
   },
   {
    "duration": 44,
    "start_time": "2021-10-12T19:13:29.134Z"
   },
   {
    "duration": 12,
    "start_time": "2021-10-12T19:13:57.208Z"
   },
   {
    "duration": 4,
    "start_time": "2021-10-12T19:29:07.842Z"
   },
   {
    "duration": 678,
    "start_time": "2021-10-12T19:29:09.113Z"
   },
   {
    "duration": 4,
    "start_time": "2021-10-12T19:33:15.480Z"
   },
   {
    "duration": 296,
    "start_time": "2021-10-12T19:33:17.434Z"
   },
   {
    "duration": 5,
    "start_time": "2021-10-12T19:35:18.614Z"
   },
   {
    "duration": 874,
    "start_time": "2021-10-12T19:36:02.159Z"
   },
   {
    "duration": 16,
    "start_time": "2021-10-12T19:36:03.036Z"
   },
   {
    "duration": 61,
    "start_time": "2021-10-12T19:36:03.055Z"
   },
   {
    "duration": 11,
    "start_time": "2021-10-12T19:36:03.119Z"
   },
   {
    "duration": 8,
    "start_time": "2021-10-12T19:36:03.133Z"
   },
   {
    "duration": 43,
    "start_time": "2021-10-12T19:36:03.143Z"
   },
   {
    "duration": 14,
    "start_time": "2021-10-12T19:36:03.188Z"
   },
   {
    "duration": 15,
    "start_time": "2021-10-12T19:36:03.205Z"
   },
   {
    "duration": 5,
    "start_time": "2021-10-12T19:36:03.225Z"
   },
   {
    "duration": 7,
    "start_time": "2021-10-12T19:36:03.233Z"
   },
   {
    "duration": 52,
    "start_time": "2021-10-12T19:36:03.243Z"
   },
   {
    "duration": 17,
    "start_time": "2021-10-12T19:36:03.298Z"
   },
   {
    "duration": 20,
    "start_time": "2021-10-12T19:36:03.318Z"
   },
   {
    "duration": 11,
    "start_time": "2021-10-12T19:36:03.340Z"
   },
   {
    "duration": 7,
    "start_time": "2021-10-12T19:36:03.353Z"
   },
   {
    "duration": 31,
    "start_time": "2021-10-12T19:36:03.362Z"
   },
   {
    "duration": 27,
    "start_time": "2021-10-12T19:36:03.396Z"
   },
   {
    "duration": 9,
    "start_time": "2021-10-12T19:36:03.425Z"
   },
   {
    "duration": 52,
    "start_time": "2021-10-12T19:36:03.437Z"
   },
   {
    "duration": 12,
    "start_time": "2021-10-12T19:36:03.492Z"
   },
   {
    "duration": 4,
    "start_time": "2021-10-12T19:36:03.507Z"
   },
   {
    "duration": 675,
    "start_time": "2021-10-12T19:36:03.514Z"
   },
   {
    "duration": 3,
    "start_time": "2021-10-12T19:36:54.457Z"
   },
   {
    "duration": 5,
    "start_time": "2021-10-12T19:36:58.527Z"
   },
   {
    "duration": 6,
    "start_time": "2021-10-12T19:37:06.539Z"
   },
   {
    "duration": 6,
    "start_time": "2021-10-12T19:37:15.620Z"
   },
   {
    "duration": 7,
    "start_time": "2021-10-12T19:37:19.401Z"
   },
   {
    "duration": 5,
    "start_time": "2021-10-12T19:37:23.798Z"
   },
   {
    "duration": 5,
    "start_time": "2021-10-12T19:37:33.000Z"
   },
   {
    "duration": 585,
    "start_time": "2021-10-12T19:39:48.552Z"
   },
   {
    "duration": 658,
    "start_time": "2021-10-12T19:44:35.964Z"
   },
   {
    "duration": 444,
    "start_time": "2021-10-12T19:47:30.135Z"
   },
   {
    "duration": 5,
    "start_time": "2021-10-12T19:48:18.246Z"
   },
   {
    "duration": 281,
    "start_time": "2021-10-12T19:48:20.591Z"
   },
   {
    "duration": 4,
    "start_time": "2021-10-12T19:48:29.090Z"
   },
   {
    "duration": 317,
    "start_time": "2021-10-12T19:48:31.365Z"
   },
   {
    "duration": 5,
    "start_time": "2021-10-12T19:51:11.204Z"
   },
   {
    "duration": 1100,
    "start_time": "2021-10-12T19:51:13.382Z"
   },
   {
    "duration": 817,
    "start_time": "2021-10-12T19:51:30.175Z"
   },
   {
    "duration": 18,
    "start_time": "2021-10-12T19:51:30.995Z"
   },
   {
    "duration": 83,
    "start_time": "2021-10-12T19:51:31.016Z"
   },
   {
    "duration": 14,
    "start_time": "2021-10-12T19:51:31.103Z"
   },
   {
    "duration": 9,
    "start_time": "2021-10-12T19:51:31.119Z"
   },
   {
    "duration": 10,
    "start_time": "2021-10-12T19:51:31.131Z"
   },
   {
    "duration": 48,
    "start_time": "2021-10-12T19:51:31.144Z"
   },
   {
    "duration": 26,
    "start_time": "2021-10-12T19:51:31.196Z"
   },
   {
    "duration": 8,
    "start_time": "2021-10-12T19:51:31.224Z"
   },
   {
    "duration": 10,
    "start_time": "2021-10-12T19:51:31.234Z"
   },
   {
    "duration": 23,
    "start_time": "2021-10-12T19:51:31.246Z"
   },
   {
    "duration": 11,
    "start_time": "2021-10-12T19:51:31.283Z"
   },
   {
    "duration": 17,
    "start_time": "2021-10-12T19:51:31.297Z"
   },
   {
    "duration": 14,
    "start_time": "2021-10-12T19:51:31.317Z"
   },
   {
    "duration": 17,
    "start_time": "2021-10-12T19:51:31.334Z"
   },
   {
    "duration": 28,
    "start_time": "2021-10-12T19:51:31.353Z"
   },
   {
    "duration": 24,
    "start_time": "2021-10-12T19:51:31.383Z"
   },
   {
    "duration": 20,
    "start_time": "2021-10-12T19:51:31.409Z"
   },
   {
    "duration": 33,
    "start_time": "2021-10-12T19:51:31.431Z"
   },
   {
    "duration": 13,
    "start_time": "2021-10-12T19:51:31.466Z"
   },
   {
    "duration": 8,
    "start_time": "2021-10-12T19:51:31.482Z"
   },
   {
    "duration": 1115,
    "start_time": "2021-10-12T19:51:31.493Z"
   },
   {
    "duration": 787,
    "start_time": "2021-10-12T19:52:57.109Z"
   },
   {
    "duration": 16,
    "start_time": "2021-10-12T19:52:57.899Z"
   },
   {
    "duration": 69,
    "start_time": "2021-10-12T19:52:57.919Z"
   },
   {
    "duration": 11,
    "start_time": "2021-10-12T19:52:57.992Z"
   },
   {
    "duration": 8,
    "start_time": "2021-10-12T19:52:58.006Z"
   },
   {
    "duration": 12,
    "start_time": "2021-10-12T19:52:58.017Z"
   },
   {
    "duration": 58,
    "start_time": "2021-10-12T19:52:58.032Z"
   },
   {
    "duration": 16,
    "start_time": "2021-10-12T19:52:58.093Z"
   },
   {
    "duration": 5,
    "start_time": "2021-10-12T19:52:58.112Z"
   },
   {
    "duration": 8,
    "start_time": "2021-10-12T19:52:58.119Z"
   },
   {
    "duration": 24,
    "start_time": "2021-10-12T19:52:58.129Z"
   },
   {
    "duration": 32,
    "start_time": "2021-10-12T19:52:58.156Z"
   },
   {
    "duration": 10,
    "start_time": "2021-10-12T19:52:58.191Z"
   },
   {
    "duration": 6,
    "start_time": "2021-10-12T19:52:58.204Z"
   },
   {
    "duration": 8,
    "start_time": "2021-10-12T19:52:58.212Z"
   },
   {
    "duration": 16,
    "start_time": "2021-10-12T19:52:58.222Z"
   },
   {
    "duration": 50,
    "start_time": "2021-10-12T19:52:58.240Z"
   },
   {
    "duration": 6,
    "start_time": "2021-10-12T19:52:58.292Z"
   },
   {
    "duration": 22,
    "start_time": "2021-10-12T19:52:58.301Z"
   },
   {
    "duration": 11,
    "start_time": "2021-10-12T19:52:58.325Z"
   },
   {
    "duration": 5,
    "start_time": "2021-10-12T19:52:58.339Z"
   },
   {
    "duration": 1085,
    "start_time": "2021-10-12T19:52:58.383Z"
   },
   {
    "duration": 18,
    "start_time": "2021-10-12T19:53:46.139Z"
   },
   {
    "duration": 12,
    "start_time": "2021-10-12T19:53:56.907Z"
   },
   {
    "duration": 838,
    "start_time": "2021-10-12T19:54:15.750Z"
   },
   {
    "duration": 15,
    "start_time": "2021-10-12T19:54:16.591Z"
   },
   {
    "duration": 54,
    "start_time": "2021-10-12T19:54:16.609Z"
   },
   {
    "duration": 11,
    "start_time": "2021-10-12T19:54:16.681Z"
   },
   {
    "duration": 8,
    "start_time": "2021-10-12T19:54:16.694Z"
   },
   {
    "duration": 10,
    "start_time": "2021-10-12T19:54:16.704Z"
   },
   {
    "duration": 13,
    "start_time": "2021-10-12T19:54:16.716Z"
   },
   {
    "duration": 59,
    "start_time": "2021-10-12T19:54:16.733Z"
   },
   {
    "duration": 5,
    "start_time": "2021-10-12T19:54:16.795Z"
   },
   {
    "duration": 6,
    "start_time": "2021-10-12T19:54:16.802Z"
   },
   {
    "duration": 17,
    "start_time": "2021-10-12T19:54:16.811Z"
   },
   {
    "duration": 13,
    "start_time": "2021-10-12T19:54:16.831Z"
   },
   {
    "duration": 37,
    "start_time": "2021-10-12T19:54:16.846Z"
   },
   {
    "duration": 10,
    "start_time": "2021-10-12T19:54:16.885Z"
   },
   {
    "duration": 6,
    "start_time": "2021-10-12T19:54:16.897Z"
   },
   {
    "duration": 13,
    "start_time": "2021-10-12T19:54:16.906Z"
   },
   {
    "duration": 17,
    "start_time": "2021-10-12T19:54:16.922Z"
   },
   {
    "duration": 42,
    "start_time": "2021-10-12T19:54:16.942Z"
   },
   {
    "duration": 16,
    "start_time": "2021-10-12T19:54:16.986Z"
   },
   {
    "duration": 11,
    "start_time": "2021-10-12T19:54:17.005Z"
   },
   {
    "duration": 4,
    "start_time": "2021-10-12T19:54:17.018Z"
   },
   {
    "duration": 1199,
    "start_time": "2021-10-12T19:54:17.025Z"
   },
   {
    "duration": 18,
    "start_time": "2021-10-12T19:54:50.570Z"
   },
   {
    "duration": 371,
    "start_time": "2021-10-12T20:10:54.269Z"
   },
   {
    "duration": 14,
    "start_time": "2021-10-12T20:11:04.753Z"
   },
   {
    "duration": 7,
    "start_time": "2021-10-12T20:11:49.959Z"
   },
   {
    "duration": 792,
    "start_time": "2021-10-12T20:12:18.231Z"
   },
   {
    "duration": 15,
    "start_time": "2021-10-12T20:12:19.026Z"
   },
   {
    "duration": 66,
    "start_time": "2021-10-12T20:12:19.044Z"
   },
   {
    "duration": 10,
    "start_time": "2021-10-12T20:12:19.113Z"
   },
   {
    "duration": 8,
    "start_time": "2021-10-12T20:12:19.125Z"
   },
   {
    "duration": 9,
    "start_time": "2021-10-12T20:12:19.136Z"
   },
   {
    "duration": 48,
    "start_time": "2021-10-12T20:12:19.147Z"
   },
   {
    "duration": 13,
    "start_time": "2021-10-12T20:12:19.200Z"
   },
   {
    "duration": 5,
    "start_time": "2021-10-12T20:12:19.216Z"
   },
   {
    "duration": 6,
    "start_time": "2021-10-12T20:12:19.223Z"
   },
   {
    "duration": 9,
    "start_time": "2021-10-12T20:12:19.231Z"
   },
   {
    "duration": 14,
    "start_time": "2021-10-12T20:12:19.283Z"
   },
   {
    "duration": 18,
    "start_time": "2021-10-12T20:12:19.299Z"
   },
   {
    "duration": 12,
    "start_time": "2021-10-12T20:12:19.319Z"
   },
   {
    "duration": 8,
    "start_time": "2021-10-12T20:12:19.333Z"
   },
   {
    "duration": 13,
    "start_time": "2021-10-12T20:12:19.344Z"
   },
   {
    "duration": 30,
    "start_time": "2021-10-12T20:12:19.359Z"
   },
   {
    "duration": 27,
    "start_time": "2021-10-12T20:12:19.391Z"
   },
   {
    "duration": 16,
    "start_time": "2021-10-12T20:12:19.420Z"
   },
   {
    "duration": 27,
    "start_time": "2021-10-12T20:12:19.438Z"
   },
   {
    "duration": 19,
    "start_time": "2021-10-12T20:12:19.467Z"
   },
   {
    "duration": 5,
    "start_time": "2021-10-12T20:12:19.489Z"
   },
   {
    "duration": 1185,
    "start_time": "2021-10-12T20:12:19.498Z"
   },
   {
    "duration": 18,
    "start_time": "2021-10-12T20:12:20.686Z"
   },
   {
    "duration": 25,
    "start_time": "2021-10-12T20:22:35.824Z"
   },
   {
    "duration": 23,
    "start_time": "2021-10-12T20:22:53.299Z"
   },
   {
    "duration": 47,
    "start_time": "2021-10-12T20:25:56.736Z"
   },
   {
    "duration": 1207,
    "start_time": "2021-10-12T20:31:21.345Z"
   },
   {
    "duration": 314,
    "start_time": "2021-10-12T20:31:33.642Z"
   },
   {
    "duration": 8,
    "start_time": "2021-10-12T20:54:26.361Z"
   },
   {
    "duration": 299,
    "start_time": "2021-10-12T21:01:09.468Z"
   },
   {
    "duration": 295,
    "start_time": "2021-10-12T21:01:14.658Z"
   },
   {
    "duration": 4,
    "start_time": "2021-10-12T21:09:35.300Z"
   },
   {
    "duration": 4,
    "start_time": "2021-10-12T21:09:36.802Z"
   },
   {
    "duration": 323,
    "start_time": "2021-10-12T21:11:47.192Z"
   },
   {
    "duration": 4887,
    "start_time": "2021-10-12T21:12:12.317Z"
   },
   {
    "duration": 806,
    "start_time": "2021-10-12T21:12:28.281Z"
   },
   {
    "duration": 14,
    "start_time": "2021-10-12T21:12:29.090Z"
   },
   {
    "duration": 52,
    "start_time": "2021-10-12T21:12:29.107Z"
   },
   {
    "duration": 11,
    "start_time": "2021-10-12T21:12:29.181Z"
   },
   {
    "duration": 7,
    "start_time": "2021-10-12T21:12:29.195Z"
   },
   {
    "duration": 8,
    "start_time": "2021-10-12T21:12:29.205Z"
   },
   {
    "duration": 12,
    "start_time": "2021-10-12T21:12:29.216Z"
   },
   {
    "duration": 61,
    "start_time": "2021-10-12T21:12:29.232Z"
   },
   {
    "duration": 5,
    "start_time": "2021-10-12T21:12:29.296Z"
   },
   {
    "duration": 21,
    "start_time": "2021-10-12T21:12:29.303Z"
   },
   {
    "duration": 17,
    "start_time": "2021-10-12T21:12:29.326Z"
   },
   {
    "duration": 21,
    "start_time": "2021-10-12T21:12:29.346Z"
   },
   {
    "duration": 17,
    "start_time": "2021-10-12T21:12:29.369Z"
   },
   {
    "duration": 10,
    "start_time": "2021-10-12T21:12:29.388Z"
   },
   {
    "duration": 6,
    "start_time": "2021-10-12T21:12:29.400Z"
   },
   {
    "duration": 5,
    "start_time": "2021-10-12T21:12:29.409Z"
   },
   {
    "duration": 11,
    "start_time": "2021-10-12T21:12:29.416Z"
   },
   {
    "duration": 16,
    "start_time": "2021-10-12T21:12:29.429Z"
   },
   {
    "duration": 35,
    "start_time": "2021-10-12T21:12:29.447Z"
   },
   {
    "duration": 19,
    "start_time": "2021-10-12T21:12:29.485Z"
   },
   {
    "duration": 23,
    "start_time": "2021-10-12T21:12:29.507Z"
   },
   {
    "duration": 10,
    "start_time": "2021-10-12T21:12:29.532Z"
   },
   {
    "duration": 5,
    "start_time": "2021-10-12T21:12:29.583Z"
   },
   {
    "duration": 1112,
    "start_time": "2021-10-12T21:12:29.591Z"
   },
   {
    "duration": 18,
    "start_time": "2021-10-12T21:12:30.705Z"
   },
   {
    "duration": 32,
    "start_time": "2021-10-12T21:12:30.725Z"
   },
   {
    "duration": 748,
    "start_time": "2021-10-12T21:12:30.759Z"
   },
   {
    "duration": 3,
    "start_time": "2021-10-12T21:12:31.510Z"
   },
   {
    "duration": 1658,
    "start_time": "2021-10-12T21:12:31.516Z"
   },
   {
    "duration": -241,
    "start_time": "2021-10-12T21:12:33.418Z"
   },
   {
    "duration": -245,
    "start_time": "2021-10-12T21:12:33.423Z"
   },
   {
    "duration": 4,
    "start_time": "2021-10-12T21:12:55.325Z"
   },
   {
    "duration": 6,
    "start_time": "2021-10-12T21:12:56.394Z"
   },
   {
    "duration": 746,
    "start_time": "2021-10-12T21:13:04.717Z"
   },
   {
    "duration": 18,
    "start_time": "2021-10-12T21:13:05.465Z"
   },
   {
    "duration": 57,
    "start_time": "2021-10-12T21:13:05.486Z"
   },
   {
    "duration": 10,
    "start_time": "2021-10-12T21:13:05.546Z"
   },
   {
    "duration": 24,
    "start_time": "2021-10-12T21:13:05.559Z"
   },
   {
    "duration": 18,
    "start_time": "2021-10-12T21:13:05.586Z"
   },
   {
    "duration": 19,
    "start_time": "2021-10-12T21:13:05.607Z"
   },
   {
    "duration": 15,
    "start_time": "2021-10-12T21:13:05.628Z"
   },
   {
    "duration": 5,
    "start_time": "2021-10-12T21:13:05.646Z"
   },
   {
    "duration": 31,
    "start_time": "2021-10-12T21:13:05.653Z"
   },
   {
    "duration": 17,
    "start_time": "2021-10-12T21:13:05.686Z"
   },
   {
    "duration": 19,
    "start_time": "2021-10-12T21:13:05.705Z"
   },
   {
    "duration": 30,
    "start_time": "2021-10-12T21:13:05.726Z"
   },
   {
    "duration": 13,
    "start_time": "2021-10-12T21:13:05.758Z"
   },
   {
    "duration": 7,
    "start_time": "2021-10-12T21:13:05.773Z"
   },
   {
    "duration": 10,
    "start_time": "2021-10-12T21:13:05.783Z"
   },
   {
    "duration": 11,
    "start_time": "2021-10-12T21:13:05.795Z"
   },
   {
    "duration": 18,
    "start_time": "2021-10-12T21:13:05.808Z"
   },
   {
    "duration": 9,
    "start_time": "2021-10-12T21:13:05.828Z"
   },
   {
    "duration": 22,
    "start_time": "2021-10-12T21:13:05.839Z"
   },
   {
    "duration": 35,
    "start_time": "2021-10-12T21:13:05.864Z"
   },
   {
    "duration": 11,
    "start_time": "2021-10-12T21:13:05.901Z"
   },
   {
    "duration": 8,
    "start_time": "2021-10-12T21:13:05.914Z"
   },
   {
    "duration": 1122,
    "start_time": "2021-10-12T21:13:05.924Z"
   },
   {
    "duration": 18,
    "start_time": "2021-10-12T21:13:07.048Z"
   },
   {
    "duration": 9,
    "start_time": "2021-10-12T21:13:07.083Z"
   },
   {
    "duration": 855,
    "start_time": "2021-10-12T21:13:07.098Z"
   },
   {
    "duration": 3,
    "start_time": "2021-10-12T21:13:07.956Z"
   },
   {
    "duration": 4921,
    "start_time": "2021-10-12T21:13:07.961Z"
   },
   {
    "duration": 411,
    "start_time": "2021-10-12T21:13:12.884Z"
   },
   {
    "duration": -145,
    "start_time": "2021-10-12T21:13:13.442Z"
   },
   {
    "duration": 22,
    "start_time": "2021-10-12T21:13:41.656Z"
   },
   {
    "duration": 36,
    "start_time": "2021-10-12T21:19:37.553Z"
   },
   {
    "duration": 88,
    "start_time": "2021-10-12T21:34:20.510Z"
   },
   {
    "duration": 86,
    "start_time": "2021-10-12T21:34:56.295Z"
   },
   {
    "duration": 4,
    "start_time": "2021-10-12T22:30:41.728Z"
   },
   {
    "duration": 4,
    "start_time": "2021-10-12T22:30:42.707Z"
   },
   {
    "duration": 2825,
    "start_time": "2021-10-12T22:30:43.517Z"
   },
   {
    "duration": 102,
    "start_time": "2021-10-12T22:31:48.693Z"
   },
   {
    "duration": 91,
    "start_time": "2021-10-12T22:32:07.835Z"
   },
   {
    "duration": 629,
    "start_time": "2021-10-12T22:34:15.018Z"
   },
   {
    "duration": 4,
    "start_time": "2021-10-12T22:34:44.494Z"
   },
   {
    "duration": 98,
    "start_time": "2021-10-12T22:34:48.864Z"
   },
   {
    "duration": 4,
    "start_time": "2021-10-12T22:40:08.317Z"
   },
   {
    "duration": 4,
    "start_time": "2021-10-12T22:40:13.397Z"
   },
   {
    "duration": 3,
    "start_time": "2021-10-12T22:40:15.071Z"
   },
   {
    "duration": 4,
    "start_time": "2021-10-12T22:40:43.375Z"
   },
   {
    "duration": 4,
    "start_time": "2021-10-12T22:40:46.909Z"
   },
   {
    "duration": 3,
    "start_time": "2021-10-12T22:40:47.450Z"
   },
   {
    "duration": 959,
    "start_time": "2021-10-12T22:41:41.021Z"
   },
   {
    "duration": 2889,
    "start_time": "2021-10-12T22:42:05.474Z"
   },
   {
    "duration": 3,
    "start_time": "2021-10-12T22:42:08.366Z"
   },
   {
    "duration": 3,
    "start_time": "2021-10-12T22:42:08.383Z"
   },
   {
    "duration": 806,
    "start_time": "2021-10-12T22:42:23.329Z"
   },
   {
    "duration": 15,
    "start_time": "2021-10-12T22:42:24.138Z"
   },
   {
    "duration": 69,
    "start_time": "2021-10-12T22:42:24.156Z"
   },
   {
    "duration": 10,
    "start_time": "2021-10-12T22:42:24.227Z"
   },
   {
    "duration": 17,
    "start_time": "2021-10-12T22:42:24.240Z"
   },
   {
    "duration": 31,
    "start_time": "2021-10-12T22:42:24.259Z"
   },
   {
    "duration": 19,
    "start_time": "2021-10-12T22:42:24.292Z"
   },
   {
    "duration": 13,
    "start_time": "2021-10-12T22:42:24.315Z"
   },
   {
    "duration": 5,
    "start_time": "2021-10-12T22:42:24.331Z"
   },
   {
    "duration": 5,
    "start_time": "2021-10-12T22:42:24.383Z"
   },
   {
    "duration": 11,
    "start_time": "2021-10-12T22:42:24.391Z"
   },
   {
    "duration": 15,
    "start_time": "2021-10-12T22:42:24.405Z"
   },
   {
    "duration": 61,
    "start_time": "2021-10-12T22:42:24.423Z"
   },
   {
    "duration": 10,
    "start_time": "2021-10-12T22:42:24.487Z"
   },
   {
    "duration": 8,
    "start_time": "2021-10-12T22:42:24.500Z"
   },
   {
    "duration": 5,
    "start_time": "2021-10-12T22:42:24.511Z"
   },
   {
    "duration": 66,
    "start_time": "2021-10-12T22:42:24.519Z"
   },
   {
    "duration": 21,
    "start_time": "2021-10-12T22:42:24.587Z"
   },
   {
    "duration": 8,
    "start_time": "2021-10-12T22:42:24.611Z"
   },
   {
    "duration": 62,
    "start_time": "2021-10-12T22:42:24.622Z"
   },
   {
    "duration": 26,
    "start_time": "2021-10-12T22:42:24.687Z"
   },
   {
    "duration": 14,
    "start_time": "2021-10-12T22:42:24.716Z"
   },
   {
    "duration": 46,
    "start_time": "2021-10-12T22:42:24.737Z"
   },
   {
    "duration": 1091,
    "start_time": "2021-10-12T22:42:24.787Z"
   },
   {
    "duration": 17,
    "start_time": "2021-10-12T22:42:25.880Z"
   },
   {
    "duration": 13,
    "start_time": "2021-10-12T22:42:25.900Z"
   },
   {
    "duration": 767,
    "start_time": "2021-10-12T22:42:25.915Z"
   },
   {
    "duration": 4,
    "start_time": "2021-10-12T22:42:26.684Z"
   },
   {
    "duration": 5163,
    "start_time": "2021-10-12T22:42:26.691Z"
   },
   {
    "duration": 2,
    "start_time": "2021-10-12T22:42:31.857Z"
   },
   {
    "duration": 23,
    "start_time": "2021-10-12T22:42:31.862Z"
   },
   {
    "duration": 18,
    "start_time": "2021-10-12T22:42:31.887Z"
   },
   {
    "duration": 13,
    "start_time": "2021-10-12T22:42:31.907Z"
   },
   {
    "duration": 4,
    "start_time": "2021-10-12T22:42:51.554Z"
   },
   {
    "duration": 3206,
    "start_time": "2021-10-12T22:42:57.576Z"
   },
   {
    "duration": 7,
    "start_time": "2021-10-12T22:43:11.829Z"
   },
   {
    "duration": 3,
    "start_time": "2021-10-12T22:43:12.816Z"
   },
   {
    "duration": 4,
    "start_time": "2021-10-12T22:43:13.661Z"
   },
   {
    "duration": 2880,
    "start_time": "2021-10-12T22:43:14.434Z"
   },
   {
    "duration": 9,
    "start_time": "2021-10-12T22:43:46.916Z"
   },
   {
    "duration": 432,
    "start_time": "2021-10-12T22:57:27.115Z"
   },
   {
    "duration": 108,
    "start_time": "2021-10-12T22:57:31.551Z"
   },
   {
    "duration": 5,
    "start_time": "2021-10-12T22:57:46.785Z"
   },
   {
    "duration": 6,
    "start_time": "2021-10-12T22:57:49.726Z"
   },
   {
    "duration": 308,
    "start_time": "2021-10-12T22:57:51.884Z"
   },
   {
    "duration": 1140,
    "start_time": "2021-10-12T22:58:04.866Z"
   },
   {
    "duration": 5,
    "start_time": "2021-10-12T22:58:19.229Z"
   },
   {
    "duration": 1168,
    "start_time": "2021-10-12T22:58:19.872Z"
   },
   {
    "duration": 1398,
    "start_time": "2021-10-12T22:58:53.551Z"
   },
   {
    "duration": 5,
    "start_time": "2021-10-12T22:59:24.774Z"
   },
   {
    "duration": 1518,
    "start_time": "2021-10-12T22:59:26.726Z"
   },
   {
    "duration": 5,
    "start_time": "2021-10-12T22:59:39.549Z"
   },
   {
    "duration": 2439,
    "start_time": "2021-10-12T22:59:41.473Z"
   },
   {
    "duration": 389,
    "start_time": "2021-10-13T05:22:50.168Z"
   },
   {
    "duration": 320,
    "start_time": "2021-10-13T05:23:00.684Z"
   },
   {
    "duration": -2255,
    "start_time": "2021-10-13T05:26:04.796Z"
   },
   {
    "duration": -2262,
    "start_time": "2021-10-13T05:26:04.806Z"
   },
   {
    "duration": -2265,
    "start_time": "2021-10-13T05:26:04.811Z"
   },
   {
    "duration": -2266,
    "start_time": "2021-10-13T05:26:04.815Z"
   },
   {
    "duration": -2267,
    "start_time": "2021-10-13T05:26:04.818Z"
   },
   {
    "duration": -2204,
    "start_time": "2021-10-13T05:26:15.641Z"
   },
   {
    "duration": -2212,
    "start_time": "2021-10-13T05:26:15.651Z"
   },
   {
    "duration": -2217,
    "start_time": "2021-10-13T05:26:15.657Z"
   },
   {
    "duration": -2219,
    "start_time": "2021-10-13T05:26:15.660Z"
   },
   {
    "duration": -2220,
    "start_time": "2021-10-13T05:26:15.662Z"
   },
   {
    "duration": -2222,
    "start_time": "2021-10-13T05:26:15.666Z"
   },
   {
    "duration": -2226,
    "start_time": "2021-10-13T05:26:15.671Z"
   },
   {
    "duration": -2228,
    "start_time": "2021-10-13T05:26:15.674Z"
   },
   {
    "duration": -2230,
    "start_time": "2021-10-13T05:26:15.677Z"
   },
   {
    "duration": -2232,
    "start_time": "2021-10-13T05:26:15.681Z"
   },
   {
    "duration": -2235,
    "start_time": "2021-10-13T05:26:15.685Z"
   },
   {
    "duration": -2237,
    "start_time": "2021-10-13T05:26:15.688Z"
   },
   {
    "duration": -2239,
    "start_time": "2021-10-13T05:26:15.691Z"
   },
   {
    "duration": -2240,
    "start_time": "2021-10-13T05:26:15.694Z"
   },
   {
    "duration": -2241,
    "start_time": "2021-10-13T05:26:15.696Z"
   },
   {
    "duration": -2243,
    "start_time": "2021-10-13T05:26:15.699Z"
   },
   {
    "duration": -2245,
    "start_time": "2021-10-13T05:26:15.702Z"
   },
   {
    "duration": -2246,
    "start_time": "2021-10-13T05:26:15.705Z"
   },
   {
    "duration": -2248,
    "start_time": "2021-10-13T05:26:15.708Z"
   },
   {
    "duration": -2250,
    "start_time": "2021-10-13T05:26:15.711Z"
   },
   {
    "duration": -2252,
    "start_time": "2021-10-13T05:26:15.714Z"
   },
   {
    "duration": -2253,
    "start_time": "2021-10-13T05:26:15.717Z"
   },
   {
    "duration": -2297,
    "start_time": "2021-10-13T05:26:15.762Z"
   },
   {
    "duration": -2310,
    "start_time": "2021-10-13T05:26:15.776Z"
   },
   {
    "duration": -2311,
    "start_time": "2021-10-13T05:26:15.779Z"
   },
   {
    "duration": -2313,
    "start_time": "2021-10-13T05:26:15.782Z"
   },
   {
    "duration": -2316,
    "start_time": "2021-10-13T05:26:15.786Z"
   },
   {
    "duration": -2316,
    "start_time": "2021-10-13T05:26:15.788Z"
   },
   {
    "duration": -2318,
    "start_time": "2021-10-13T05:26:15.791Z"
   },
   {
    "duration": -2319,
    "start_time": "2021-10-13T05:26:15.794Z"
   },
   {
    "duration": -2321,
    "start_time": "2021-10-13T05:26:15.797Z"
   },
   {
    "duration": -2323,
    "start_time": "2021-10-13T05:26:15.800Z"
   },
   {
    "duration": -2324,
    "start_time": "2021-10-13T05:26:15.803Z"
   },
   {
    "duration": -2325,
    "start_time": "2021-10-13T05:26:15.805Z"
   },
   {
    "duration": -2328,
    "start_time": "2021-10-13T05:26:15.809Z"
   },
   {
    "duration": -2330,
    "start_time": "2021-10-13T05:26:15.812Z"
   },
   {
    "duration": -2330,
    "start_time": "2021-10-13T05:26:15.814Z"
   },
   {
    "duration": 5,
    "start_time": "2021-10-13T05:26:20.932Z"
   },
   {
    "duration": 1812,
    "start_time": "2021-10-13T05:26:21.976Z"
   },
   {
    "duration": 52,
    "start_time": "2021-10-13T05:27:47.607Z"
   },
   {
    "duration": 14,
    "start_time": "2021-10-13T05:27:49.055Z"
   },
   {
    "duration": 46,
    "start_time": "2021-10-13T05:27:53.601Z"
   },
   {
    "duration": 11,
    "start_time": "2021-10-13T05:27:56.114Z"
   },
   {
    "duration": 9,
    "start_time": "2021-10-13T05:28:00.791Z"
   },
   {
    "duration": 8,
    "start_time": "2021-10-13T05:28:04.953Z"
   },
   {
    "duration": 13,
    "start_time": "2021-10-13T05:28:17.858Z"
   },
   {
    "duration": 14,
    "start_time": "2021-10-13T05:28:24.002Z"
   },
   {
    "duration": 5,
    "start_time": "2021-10-13T05:28:27.776Z"
   },
   {
    "duration": 5,
    "start_time": "2021-10-13T05:28:30.083Z"
   },
   {
    "duration": 10,
    "start_time": "2021-10-13T05:28:32.224Z"
   },
   {
    "duration": 14,
    "start_time": "2021-10-13T05:28:40.558Z"
   },
   {
    "duration": 11,
    "start_time": "2021-10-13T05:28:41.711Z"
   },
   {
    "duration": 7,
    "start_time": "2021-10-13T05:28:43.707Z"
   },
   {
    "duration": 6,
    "start_time": "2021-10-13T05:28:44.913Z"
   },
   {
    "duration": 6,
    "start_time": "2021-10-13T05:28:58.737Z"
   },
   {
    "duration": 4,
    "start_time": "2021-10-13T05:28:59.611Z"
   },
   {
    "duration": 7,
    "start_time": "2021-10-13T05:29:00.607Z"
   },
   {
    "duration": 15,
    "start_time": "2021-10-13T05:29:06.754Z"
   },
   {
    "duration": 8,
    "start_time": "2021-10-13T05:29:31.210Z"
   },
   {
    "duration": 15,
    "start_time": "2021-10-13T05:29:43.749Z"
   },
   {
    "duration": 20,
    "start_time": "2021-10-13T05:29:54.133Z"
   },
   {
    "duration": 3,
    "start_time": "2021-10-13T05:30:05.242Z"
   },
   {
    "duration": 6,
    "start_time": "2021-10-13T05:30:09.071Z"
   },
   {
    "duration": 16,
    "start_time": "2021-10-13T05:30:11.328Z"
   },
   {
    "duration": 23,
    "start_time": "2021-10-13T05:30:18.961Z"
   },
   {
    "duration": 23,
    "start_time": "2021-10-13T05:30:21.133Z"
   },
   {
    "duration": 11,
    "start_time": "2021-10-13T05:31:14.277Z"
   },
   {
    "duration": 5,
    "start_time": "2021-10-13T05:31:17.432Z"
   },
   {
    "duration": 1112,
    "start_time": "2021-10-13T05:31:18.649Z"
   },
   {
    "duration": 19,
    "start_time": "2021-10-13T05:31:19.846Z"
   },
   {
    "duration": 8,
    "start_time": "2021-10-13T05:31:36.642Z"
   },
   {
    "duration": 4,
    "start_time": "2021-10-13T05:31:41.679Z"
   },
   {
    "duration": 4,
    "start_time": "2021-10-13T05:31:43.433Z"
   },
   {
    "duration": 2991,
    "start_time": "2021-10-13T05:31:44.575Z"
   },
   {
    "duration": 10,
    "start_time": "2021-10-13T05:31:47.569Z"
   },
   {
    "duration": 7,
    "start_time": "2021-10-13T05:34:46.192Z"
   },
   {
    "duration": 793,
    "start_time": "2021-10-13T06:01:32.305Z"
   },
   {
    "duration": 15,
    "start_time": "2021-10-13T06:01:33.101Z"
   },
   {
    "duration": 82,
    "start_time": "2021-10-13T06:01:33.119Z"
   },
   {
    "duration": 11,
    "start_time": "2021-10-13T06:01:33.204Z"
   },
   {
    "duration": 7,
    "start_time": "2021-10-13T06:01:33.218Z"
   },
   {
    "duration": 44,
    "start_time": "2021-10-13T06:01:33.227Z"
   },
   {
    "duration": 12,
    "start_time": "2021-10-13T06:01:33.274Z"
   },
   {
    "duration": 14,
    "start_time": "2021-10-13T06:01:33.289Z"
   },
   {
    "duration": 6,
    "start_time": "2021-10-13T06:01:33.306Z"
   },
   {
    "duration": 51,
    "start_time": "2021-10-13T06:01:33.314Z"
   },
   {
    "duration": 12,
    "start_time": "2021-10-13T06:01:33.367Z"
   },
   {
    "duration": 7,
    "start_time": "2021-10-13T06:01:33.381Z"
   },
   {
    "duration": 14,
    "start_time": "2021-10-13T06:01:33.390Z"
   },
   {
    "duration": 60,
    "start_time": "2021-10-13T06:01:33.407Z"
   },
   {
    "duration": 10,
    "start_time": "2021-10-13T06:01:33.469Z"
   },
   {
    "duration": 6,
    "start_time": "2021-10-13T06:01:33.481Z"
   },
   {
    "duration": 7,
    "start_time": "2021-10-13T06:01:33.490Z"
   },
   {
    "duration": 15,
    "start_time": "2021-10-13T06:01:33.500Z"
   },
   {
    "duration": 3,
    "start_time": "2021-10-13T06:01:33.517Z"
   },
   {
    "duration": 10,
    "start_time": "2021-10-13T06:01:33.563Z"
   },
   {
    "duration": 17,
    "start_time": "2021-10-13T06:01:33.576Z"
   },
   {
    "duration": 22,
    "start_time": "2021-10-13T06:01:33.596Z"
   },
   {
    "duration": 50,
    "start_time": "2021-10-13T06:01:33.623Z"
   },
   {
    "duration": 11,
    "start_time": "2021-10-13T06:01:33.676Z"
   },
   {
    "duration": 5,
    "start_time": "2021-10-13T06:01:33.689Z"
   },
   {
    "duration": 1174,
    "start_time": "2021-10-13T06:01:33.696Z"
   },
   {
    "duration": 18,
    "start_time": "2021-10-13T06:01:34.872Z"
   },
   {
    "duration": 10,
    "start_time": "2021-10-13T06:01:34.893Z"
   },
   {
    "duration": 791,
    "start_time": "2021-10-13T06:01:34.905Z"
   },
   {
    "duration": 4,
    "start_time": "2021-10-13T06:01:35.698Z"
   },
   {
    "duration": 5047,
    "start_time": "2021-10-13T06:01:35.704Z"
   },
   {
    "duration": 14,
    "start_time": "2021-10-13T06:01:40.753Z"
   },
   {
    "duration": 9,
    "start_time": "2021-10-13T06:01:40.770Z"
   },
   {
    "duration": 8,
    "start_time": "2021-10-13T06:01:40.782Z"
   },
   {
    "duration": 5,
    "start_time": "2021-10-13T06:01:40.793Z"
   },
   {
    "duration": 10,
    "start_time": "2021-10-13T06:01:40.801Z"
   },
   {
    "duration": 15,
    "start_time": "2021-10-13T06:01:40.814Z"
   },
   {
    "duration": 3151,
    "start_time": "2021-10-13T06:01:40.831Z"
   },
   {
    "duration": 54,
    "start_time": "2021-10-13T06:01:47.058Z"
   },
   {
    "duration": 15,
    "start_time": "2021-10-13T06:01:48.262Z"
   },
   {
    "duration": 48,
    "start_time": "2021-10-13T06:01:49.426Z"
   },
   {
    "duration": 11,
    "start_time": "2021-10-13T06:01:50.362Z"
   },
   {
    "duration": 9,
    "start_time": "2021-10-13T06:01:51.276Z"
   },
   {
    "duration": 9,
    "start_time": "2021-10-13T06:01:52.239Z"
   },
   {
    "duration": 13,
    "start_time": "2021-10-13T06:01:57.655Z"
   },
   {
    "duration": 16,
    "start_time": "2021-10-13T06:01:58.835Z"
   },
   {
    "duration": 5,
    "start_time": "2021-10-13T06:02:01.161Z"
   },
   {
    "duration": 6,
    "start_time": "2021-10-13T06:02:02.331Z"
   },
   {
    "duration": 8,
    "start_time": "2021-10-13T06:02:03.134Z"
   },
   {
    "duration": 7,
    "start_time": "2021-10-13T06:02:05.319Z"
   },
   {
    "duration": 13,
    "start_time": "2021-10-13T06:02:06.345Z"
   },
   {
    "duration": 11,
    "start_time": "2021-10-13T06:02:10.813Z"
   },
   {
    "duration": 8,
    "start_time": "2021-10-13T06:02:12.527Z"
   },
   {
    "duration": 7,
    "start_time": "2021-10-13T06:02:14.421Z"
   },
   {
    "duration": 4,
    "start_time": "2021-10-13T06:02:15.634Z"
   },
   {
    "duration": 10,
    "start_time": "2021-10-13T06:02:19.323Z"
   },
   {
    "duration": 3,
    "start_time": "2021-10-13T06:02:24.643Z"
   },
   {
    "duration": 9,
    "start_time": "2021-10-13T06:02:29.985Z"
   },
   {
    "duration": 7,
    "start_time": "2021-10-13T06:03:15.520Z"
   },
   {
    "duration": 9,
    "start_time": "2021-10-13T06:03:19.033Z"
   },
   {
    "duration": 18,
    "start_time": "2021-10-13T06:03:28.388Z"
   },
   {
    "duration": 12,
    "start_time": "2021-10-13T06:04:09.028Z"
   },
   {
    "duration": 11,
    "start_time": "2021-10-13T06:04:22.960Z"
   },
   {
    "duration": 340,
    "start_time": "2021-10-13T06:04:23.618Z"
   },
   {
    "duration": 5,
    "start_time": "2021-10-13T06:05:28.111Z"
   },
   {
    "duration": 27,
    "start_time": "2021-10-13T06:05:37.755Z"
   },
   {
    "duration": 23,
    "start_time": "2021-10-13T06:05:39.717Z"
   },
   {
    "duration": 12,
    "start_time": "2021-10-13T06:05:49.180Z"
   },
   {
    "duration": 5,
    "start_time": "2021-10-13T06:05:56.710Z"
   },
   {
    "duration": 1162,
    "start_time": "2021-10-13T06:06:00.434Z"
   },
   {
    "duration": 19,
    "start_time": "2021-10-13T06:06:04.467Z"
   },
   {
    "duration": 10,
    "start_time": "2021-10-13T06:06:06.193Z"
   },
   {
    "duration": 9,
    "start_time": "2021-10-13T06:06:46.334Z"
   },
   {
    "duration": 9,
    "start_time": "2021-10-13T06:07:16.824Z"
   },
   {
    "duration": 4,
    "start_time": "2021-10-13T06:07:32.639Z"
   },
   {
    "duration": 4,
    "start_time": "2021-10-13T06:07:33.644Z"
   },
   {
    "duration": 2932,
    "start_time": "2021-10-13T06:07:34.525Z"
   },
   {
    "duration": 8,
    "start_time": "2021-10-13T06:07:37.463Z"
   },
   {
    "duration": 4,
    "start_time": "2021-10-13T06:07:54.205Z"
   },
   {
    "duration": 5,
    "start_time": "2021-10-13T06:07:55.292Z"
   },
   {
    "duration": 6,
    "start_time": "2021-10-13T06:07:56.562Z"
   },
   {
    "duration": 2958,
    "start_time": "2021-10-13T06:07:57.791Z"
   },
   {
    "duration": 960,
    "start_time": "2021-10-13T06:08:29.986Z"
   },
   {
    "duration": 375,
    "start_time": "2021-10-13T06:10:50.351Z"
   },
   {
    "duration": 6,
    "start_time": "2021-10-13T06:10:52.860Z"
   },
   {
    "duration": 3285,
    "start_time": "2021-10-13T06:10:53.796Z"
   },
   {
    "duration": 8,
    "start_time": "2021-10-13T06:11:03.589Z"
   },
   {
    "duration": 11,
    "start_time": "2021-10-13T06:11:26.825Z"
   },
   {
    "duration": 334,
    "start_time": "2021-10-13T06:17:31.315Z"
   },
   {
    "duration": 39,
    "start_time": "2021-10-13T06:19:09.010Z"
   },
   {
    "duration": 4,
    "start_time": "2021-10-13T06:19:54.226Z"
   },
   {
    "duration": 5,
    "start_time": "2021-10-13T06:19:55.156Z"
   },
   {
    "duration": 6,
    "start_time": "2021-10-13T06:19:56.125Z"
   },
   {
    "duration": 2973,
    "start_time": "2021-10-13T06:19:57.831Z"
   },
   {
    "duration": 11,
    "start_time": "2021-10-13T06:20:00.806Z"
   },
   {
    "duration": 10,
    "start_time": "2021-10-13T06:20:09.658Z"
   },
   {
    "duration": 14,
    "start_time": "2021-10-13T06:20:16.421Z"
   },
   {
    "duration": 853,
    "start_time": "2021-10-13T09:11:43.637Z"
   },
   {
    "duration": 17,
    "start_time": "2021-10-13T09:11:44.493Z"
   },
   {
    "duration": 79,
    "start_time": "2021-10-13T09:11:44.513Z"
   },
   {
    "duration": 12,
    "start_time": "2021-10-13T09:11:44.596Z"
   },
   {
    "duration": 11,
    "start_time": "2021-10-13T09:11:44.611Z"
   },
   {
    "duration": 43,
    "start_time": "2021-10-13T09:11:44.624Z"
   },
   {
    "duration": 18,
    "start_time": "2021-10-13T09:11:44.670Z"
   },
   {
    "duration": 14,
    "start_time": "2021-10-13T09:11:44.692Z"
   },
   {
    "duration": 5,
    "start_time": "2021-10-13T09:11:44.709Z"
   },
   {
    "duration": 46,
    "start_time": "2021-10-13T09:11:44.716Z"
   },
   {
    "duration": 8,
    "start_time": "2021-10-13T09:11:44.765Z"
   },
   {
    "duration": 6,
    "start_time": "2021-10-13T09:11:44.776Z"
   },
   {
    "duration": 16,
    "start_time": "2021-10-13T09:11:44.784Z"
   },
   {
    "duration": 21,
    "start_time": "2021-10-13T09:11:44.803Z"
   },
   {
    "duration": 36,
    "start_time": "2021-10-13T09:11:44.827Z"
   },
   {
    "duration": 7,
    "start_time": "2021-10-13T09:11:44.865Z"
   },
   {
    "duration": 7,
    "start_time": "2021-10-13T09:11:44.874Z"
   },
   {
    "duration": 20,
    "start_time": "2021-10-13T09:11:44.884Z"
   },
   {
    "duration": 7,
    "start_time": "2021-10-13T09:11:44.907Z"
   },
   {
    "duration": 19,
    "start_time": "2021-10-13T09:11:44.916Z"
   },
   {
    "duration": 23,
    "start_time": "2021-10-13T09:11:44.963Z"
   },
   {
    "duration": 25,
    "start_time": "2021-10-13T09:11:44.988Z"
   },
   {
    "duration": 47,
    "start_time": "2021-10-13T09:11:45.021Z"
   },
   {
    "duration": 5,
    "start_time": "2021-10-13T09:11:45.071Z"
   },
   {
    "duration": 1306,
    "start_time": "2021-10-13T09:11:45.079Z"
   },
   {
    "duration": 19,
    "start_time": "2021-10-13T09:11:46.387Z"
   },
   {
    "duration": 11,
    "start_time": "2021-10-13T09:11:46.409Z"
   },
   {
    "duration": 11,
    "start_time": "2021-10-13T09:11:46.422Z"
   },
   {
    "duration": 7,
    "start_time": "2021-10-13T09:11:46.461Z"
   },
   {
    "duration": 872,
    "start_time": "2021-10-13T09:11:46.471Z"
   },
   {
    "duration": 4,
    "start_time": "2021-10-13T09:11:47.346Z"
   },
   {
    "duration": 5127,
    "start_time": "2021-10-13T09:11:47.353Z"
   },
   {
    "duration": 11,
    "start_time": "2021-10-13T09:11:52.482Z"
   },
   {
    "duration": 6,
    "start_time": "2021-10-13T09:11:52.496Z"
   },
   {
    "duration": 6,
    "start_time": "2021-10-13T09:11:52.505Z"
   },
   {
    "duration": 6,
    "start_time": "2021-10-13T09:11:52.513Z"
   },
   {
    "duration": 42,
    "start_time": "2021-10-13T09:11:52.522Z"
   },
   {
    "duration": 9,
    "start_time": "2021-10-13T09:11:52.567Z"
   },
   {
    "duration": 3118,
    "start_time": "2021-10-13T09:11:52.579Z"
   },
   {
    "duration": 10,
    "start_time": "2021-10-13T09:11:55.700Z"
   },
   {
    "duration": 18,
    "start_time": "2021-10-13T09:11:55.713Z"
   },
   {
    "duration": 19,
    "start_time": "2021-10-13T09:39:42.335Z"
   },
   {
    "duration": 9,
    "start_time": "2021-10-13T09:39:44.082Z"
   },
   {
    "duration": 12,
    "start_time": "2021-10-13T09:39:46.365Z"
   },
   {
    "duration": 107,
    "start_time": "2021-10-13T09:39:47.664Z"
   },
   {
    "duration": 457,
    "start_time": "2021-10-13T09:39:50.361Z"
   },
   {
    "duration": 8990,
    "start_time": "2021-10-13T09:39:51.413Z"
   },
   {
    "duration": 5,
    "start_time": "2021-10-13T09:40:18.338Z"
   },
   {
    "duration": 1926,
    "start_time": "2021-10-13T09:40:20.779Z"
   },
   {
    "duration": 4,
    "start_time": "2021-10-13T09:41:59.950Z"
   },
   {
    "duration": 1835,
    "start_time": "2021-10-13T09:42:00.883Z"
   },
   {
    "duration": 23,
    "start_time": "2021-10-13T09:42:24.136Z"
   },
   {
    "duration": 5,
    "start_time": "2021-10-13T09:43:35.833Z"
   },
   {
    "duration": 1545,
    "start_time": "2021-10-13T09:43:37.031Z"
   },
   {
    "duration": 7,
    "start_time": "2021-10-13T09:44:37.527Z"
   },
   {
    "duration": 8,
    "start_time": "2021-10-13T09:44:46.061Z"
   },
   {
    "duration": 13,
    "start_time": "2021-10-13T09:44:53.580Z"
   },
   {
    "duration": 7,
    "start_time": "2021-10-13T09:45:13.125Z"
   },
   {
    "duration": 331,
    "start_time": "2021-10-13T09:45:28.759Z"
   },
   {
    "duration": 825,
    "start_time": "2021-10-13T09:45:49.719Z"
   },
   {
    "duration": 288,
    "start_time": "2021-10-13T09:46:53.652Z"
   },
   {
    "duration": 551,
    "start_time": "2021-10-13T09:46:59.256Z"
   },
   {
    "duration": 319,
    "start_time": "2021-10-13T09:47:11.878Z"
   },
   {
    "duration": 309,
    "start_time": "2021-10-13T09:47:23.887Z"
   },
   {
    "duration": 5,
    "start_time": "2021-10-13T09:48:24.798Z"
   },
   {
    "duration": 1502,
    "start_time": "2021-10-13T09:48:27.967Z"
   },
   {
    "duration": 7,
    "start_time": "2021-10-13T09:48:38.337Z"
   },
   {
    "duration": 12,
    "start_time": "2021-10-13T09:48:47.043Z"
   },
   {
    "duration": 7,
    "start_time": "2021-10-13T09:49:25.664Z"
   },
   {
    "duration": 604,
    "start_time": "2021-10-13T09:50:06.101Z"
   },
   {
    "duration": 288,
    "start_time": "2021-10-13T09:50:13.909Z"
   },
   {
    "duration": 19,
    "start_time": "2021-10-13T09:50:44.537Z"
   },
   {
    "duration": 29,
    "start_time": "2021-10-13T09:51:06.442Z"
   },
   {
    "duration": 14,
    "start_time": "2021-10-13T10:00:12.011Z"
   },
   {
    "duration": 38,
    "start_time": "2021-10-13T10:00:21.854Z"
   },
   {
    "duration": 14,
    "start_time": "2021-10-13T10:00:34.362Z"
   },
   {
    "duration": 42,
    "start_time": "2021-10-13T10:00:47.431Z"
   },
   {
    "duration": 15,
    "start_time": "2021-10-13T10:00:56.530Z"
   },
   {
    "duration": 6,
    "start_time": "2021-10-13T10:01:05.150Z"
   },
   {
    "duration": 827,
    "start_time": "2021-10-13T11:50:33.964Z"
   },
   {
    "duration": 16,
    "start_time": "2021-10-13T11:50:34.793Z"
   },
   {
    "duration": 74,
    "start_time": "2021-10-13T11:50:34.812Z"
   },
   {
    "duration": 11,
    "start_time": "2021-10-13T11:50:34.889Z"
   },
   {
    "duration": 8,
    "start_time": "2021-10-13T11:50:34.902Z"
   },
   {
    "duration": 9,
    "start_time": "2021-10-13T11:50:34.912Z"
   },
   {
    "duration": 46,
    "start_time": "2021-10-13T11:50:34.923Z"
   },
   {
    "duration": 14,
    "start_time": "2021-10-13T11:50:34.972Z"
   },
   {
    "duration": 4,
    "start_time": "2021-10-13T11:50:34.990Z"
   },
   {
    "duration": 6,
    "start_time": "2021-10-13T11:50:34.997Z"
   },
   {
    "duration": 13,
    "start_time": "2021-10-13T11:50:35.005Z"
   },
   {
    "duration": 45,
    "start_time": "2021-10-13T11:50:35.020Z"
   },
   {
    "duration": 19,
    "start_time": "2021-10-13T11:50:35.067Z"
   },
   {
    "duration": 11,
    "start_time": "2021-10-13T11:50:35.088Z"
   },
   {
    "duration": 13,
    "start_time": "2021-10-13T11:50:35.102Z"
   },
   {
    "duration": 8,
    "start_time": "2021-10-13T11:50:35.117Z"
   },
   {
    "duration": 38,
    "start_time": "2021-10-13T11:50:35.127Z"
   },
   {
    "duration": 16,
    "start_time": "2021-10-13T11:50:35.168Z"
   },
   {
    "duration": 6,
    "start_time": "2021-10-13T11:50:35.187Z"
   },
   {
    "duration": 21,
    "start_time": "2021-10-13T11:50:35.195Z"
   },
   {
    "duration": 52,
    "start_time": "2021-10-13T11:50:35.218Z"
   },
   {
    "duration": 23,
    "start_time": "2021-10-13T11:50:35.273Z"
   },
   {
    "duration": 12,
    "start_time": "2021-10-13T11:50:35.299Z"
   },
   {
    "duration": 10,
    "start_time": "2021-10-13T11:50:35.314Z"
   },
   {
    "duration": 1205,
    "start_time": "2021-10-13T11:50:35.327Z"
   },
   {
    "duration": 27,
    "start_time": "2021-10-13T11:50:36.535Z"
   },
   {
    "duration": 9,
    "start_time": "2021-10-13T11:50:36.569Z"
   },
   {
    "duration": 12,
    "start_time": "2021-10-13T11:50:36.582Z"
   },
   {
    "duration": 7,
    "start_time": "2021-10-13T11:50:36.596Z"
   },
   {
    "duration": 1660,
    "start_time": "2021-10-13T11:50:36.605Z"
   },
   {
    "duration": 20,
    "start_time": "2021-10-13T11:50:38.267Z"
   },
   {
    "duration": 12,
    "start_time": "2021-10-13T11:50:38.289Z"
   },
   {
    "duration": 19,
    "start_time": "2021-10-13T11:50:38.304Z"
   },
   {
    "duration": 766,
    "start_time": "2021-10-13T11:50:38.326Z"
   },
   {
    "duration": 4,
    "start_time": "2021-10-13T11:50:39.094Z"
   },
   {
    "duration": 5143,
    "start_time": "2021-10-13T11:50:39.101Z"
   },
   {
    "duration": 15,
    "start_time": "2021-10-13T11:50:44.246Z"
   },
   {
    "duration": 3,
    "start_time": "2021-10-13T11:50:44.264Z"
   },
   {
    "duration": 8,
    "start_time": "2021-10-13T11:50:44.269Z"
   },
   {
    "duration": 6,
    "start_time": "2021-10-13T11:50:44.279Z"
   },
   {
    "duration": 9,
    "start_time": "2021-10-13T11:50:44.288Z"
   },
   {
    "duration": 8,
    "start_time": "2021-10-13T11:50:44.299Z"
   },
   {
    "duration": 3144,
    "start_time": "2021-10-13T11:50:44.310Z"
   },
   {
    "duration": 11,
    "start_time": "2021-10-13T11:50:47.456Z"
   },
   {
    "duration": 28,
    "start_time": "2021-10-13T11:50:47.470Z"
   },
   {
    "duration": 109,
    "start_time": "2021-10-13T11:50:47.500Z"
   },
   {
    "duration": 92,
    "start_time": "2021-10-13T11:51:19.868Z"
   },
   {
    "duration": 119,
    "start_time": "2021-10-13T11:52:22.475Z"
   },
   {
    "duration": 62,
    "start_time": "2021-10-13T11:54:56.493Z"
   },
   {
    "duration": 8100,
    "start_time": "2021-10-13T12:00:01.615Z"
   },
   {
    "duration": 60,
    "start_time": "2021-10-13T12:00:18.523Z"
   },
   {
    "duration": 8945,
    "start_time": "2021-10-13T12:00:19.433Z"
   },
   {
    "duration": 19,
    "start_time": "2021-10-13T12:00:48.815Z"
   },
   {
    "duration": 351,
    "start_time": "2021-10-13T12:03:41.543Z"
   },
   {
    "duration": 410,
    "start_time": "2021-10-13T12:04:31.824Z"
   },
   {
    "duration": 333,
    "start_time": "2021-10-13T12:07:49.363Z"
   },
   {
    "duration": 554,
    "start_time": "2021-10-13T12:09:03.793Z"
   },
   {
    "duration": 61,
    "start_time": "2021-10-13T12:14:59.068Z"
   },
   {
    "duration": 302,
    "start_time": "2021-10-13T12:16:55.310Z"
   },
   {
    "duration": 13,
    "start_time": "2021-10-13T12:18:02.852Z"
   },
   {
    "duration": 13,
    "start_time": "2021-10-13T13:48:21.478Z"
   },
   {
    "duration": 13,
    "start_time": "2021-10-13T13:48:21.494Z"
   },
   {
    "duration": 1410,
    "start_time": "2021-10-13T13:48:31.221Z"
   },
   {
    "duration": 18,
    "start_time": "2021-10-13T13:48:32.634Z"
   },
   {
    "duration": 59,
    "start_time": "2021-10-13T13:48:32.655Z"
   },
   {
    "duration": 11,
    "start_time": "2021-10-13T13:48:32.716Z"
   },
   {
    "duration": 36,
    "start_time": "2021-10-13T13:48:32.729Z"
   },
   {
    "duration": 12,
    "start_time": "2021-10-13T13:48:32.768Z"
   },
   {
    "duration": 12,
    "start_time": "2021-10-13T13:48:32.782Z"
   },
   {
    "duration": 15,
    "start_time": "2021-10-13T13:48:32.799Z"
   },
   {
    "duration": 4,
    "start_time": "2021-10-13T13:48:32.817Z"
   },
   {
    "duration": 5,
    "start_time": "2021-10-13T13:48:32.862Z"
   },
   {
    "duration": 11,
    "start_time": "2021-10-13T13:48:32.870Z"
   },
   {
    "duration": 17,
    "start_time": "2021-10-13T13:48:32.883Z"
   },
   {
    "duration": 17,
    "start_time": "2021-10-13T13:48:32.903Z"
   },
   {
    "duration": 41,
    "start_time": "2021-10-13T13:48:32.922Z"
   },
   {
    "duration": 10,
    "start_time": "2021-10-13T13:48:32.966Z"
   },
   {
    "duration": 27,
    "start_time": "2021-10-13T13:48:32.979Z"
   },
   {
    "duration": 20,
    "start_time": "2021-10-13T13:48:33.009Z"
   },
   {
    "duration": 24,
    "start_time": "2021-10-13T13:48:33.031Z"
   },
   {
    "duration": 21,
    "start_time": "2021-10-13T13:48:33.058Z"
   },
   {
    "duration": 24,
    "start_time": "2021-10-13T13:48:33.082Z"
   },
   {
    "duration": 26,
    "start_time": "2021-10-13T13:48:33.108Z"
   },
   {
    "duration": 24,
    "start_time": "2021-10-13T13:48:33.136Z"
   },
   {
    "duration": 11,
    "start_time": "2021-10-13T13:48:33.166Z"
   },
   {
    "duration": 10,
    "start_time": "2021-10-13T13:48:33.180Z"
   },
   {
    "duration": 1356,
    "start_time": "2021-10-13T13:48:33.192Z"
   },
   {
    "duration": 22,
    "start_time": "2021-10-13T13:48:34.551Z"
   },
   {
    "duration": 12,
    "start_time": "2021-10-13T13:48:34.575Z"
   },
   {
    "duration": 13,
    "start_time": "2021-10-13T13:48:34.590Z"
   },
   {
    "duration": 4,
    "start_time": "2021-10-13T13:48:34.605Z"
   },
   {
    "duration": 1565,
    "start_time": "2021-10-13T13:48:34.612Z"
   },
   {
    "duration": 18,
    "start_time": "2021-10-13T13:48:36.179Z"
   },
   {
    "duration": 12,
    "start_time": "2021-10-13T13:48:36.200Z"
   },
   {
    "duration": 10,
    "start_time": "2021-10-13T13:48:36.215Z"
   },
   {
    "duration": 803,
    "start_time": "2021-10-13T13:48:36.227Z"
   },
   {
    "duration": 3,
    "start_time": "2021-10-13T13:48:37.033Z"
   },
   {
    "duration": 5263,
    "start_time": "2021-10-13T13:48:37.039Z"
   },
   {
    "duration": 8,
    "start_time": "2021-10-13T13:48:42.304Z"
   },
   {
    "duration": 6,
    "start_time": "2021-10-13T13:48:42.315Z"
   },
   {
    "duration": 7,
    "start_time": "2021-10-13T13:48:42.324Z"
   },
   {
    "duration": 31,
    "start_time": "2021-10-13T13:48:42.333Z"
   },
   {
    "duration": 3317,
    "start_time": "2021-10-13T13:48:42.367Z"
   },
   {
    "duration": 14,
    "start_time": "2021-10-13T13:48:45.688Z"
   },
   {
    "duration": 27,
    "start_time": "2021-10-13T13:48:45.706Z"
   },
   {
    "duration": 38,
    "start_time": "2021-10-13T13:48:45.736Z"
   },
   {
    "duration": 61,
    "start_time": "2021-10-13T13:48:45.776Z"
   },
   {
    "duration": 18,
    "start_time": "2021-10-13T13:48:45.863Z"
   },
   {
    "duration": 78,
    "start_time": "2021-10-13T13:48:45.883Z"
   },
   {
    "duration": 12,
    "start_time": "2021-10-13T13:48:45.964Z"
   },
   {
    "duration": 15,
    "start_time": "2021-10-13T13:58:06.517Z"
   },
   {
    "duration": 378,
    "start_time": "2021-10-13T17:02:19.554Z"
   },
   {
    "duration": 306,
    "start_time": "2021-10-13T17:02:49.124Z"
   },
   {
    "duration": 795,
    "start_time": "2021-10-13T17:03:04.811Z"
   },
   {
    "duration": 15,
    "start_time": "2021-10-13T17:03:08.074Z"
   },
   {
    "duration": 55,
    "start_time": "2021-10-13T17:03:10.276Z"
   },
   {
    "duration": 11,
    "start_time": "2021-10-13T17:03:10.939Z"
   },
   {
    "duration": 8,
    "start_time": "2021-10-13T17:03:11.906Z"
   },
   {
    "duration": 9,
    "start_time": "2021-10-13T17:03:12.799Z"
   },
   {
    "duration": 13,
    "start_time": "2021-10-13T17:03:26.545Z"
   },
   {
    "duration": 16,
    "start_time": "2021-10-13T17:03:29.239Z"
   },
   {
    "duration": 5,
    "start_time": "2021-10-13T17:03:38.399Z"
   },
   {
    "duration": 5,
    "start_time": "2021-10-13T17:03:39.215Z"
   },
   {
    "duration": 8,
    "start_time": "2021-10-13T17:03:40.133Z"
   },
   {
    "duration": 7,
    "start_time": "2021-10-13T17:03:41.694Z"
   },
   {
    "duration": 14,
    "start_time": "2021-10-13T17:03:50.206Z"
   },
   {
    "duration": 12,
    "start_time": "2021-10-13T17:03:51.941Z"
   },
   {
    "duration": 8,
    "start_time": "2021-10-13T17:03:53.129Z"
   },
   {
    "duration": 6,
    "start_time": "2021-10-13T17:03:54.010Z"
   },
   {
    "duration": 9,
    "start_time": "2021-10-13T17:03:55.085Z"
   },
   {
    "duration": 382,
    "start_time": "2021-10-13T17:04:20.129Z"
   },
   {
    "duration": 344,
    "start_time": "2021-10-13T17:04:32.682Z"
   },
   {
    "duration": 11,
    "start_time": "2021-10-13T17:05:14.591Z"
   },
   {
    "duration": 6,
    "start_time": "2021-10-13T17:05:39.527Z"
   },
   {
    "duration": 8,
    "start_time": "2021-10-13T17:05:44.726Z"
   },
   {
    "duration": 8,
    "start_time": "2021-10-13T17:06:03.599Z"
   },
   {
    "duration": 7,
    "start_time": "2021-10-13T17:06:09.858Z"
   },
   {
    "duration": 17,
    "start_time": "2021-10-13T17:06:10.810Z"
   },
   {
    "duration": 23,
    "start_time": "2021-10-13T17:08:40.927Z"
   },
   {
    "duration": 22,
    "start_time": "2021-10-13T17:08:42.208Z"
   },
   {
    "duration": 11,
    "start_time": "2021-10-13T17:08:59.388Z"
   },
   {
    "duration": 5,
    "start_time": "2021-10-13T17:09:05.592Z"
   },
   {
    "duration": 1116,
    "start_time": "2021-10-13T17:09:06.567Z"
   },
   {
    "duration": 19,
    "start_time": "2021-10-13T17:09:09.862Z"
   },
   {
    "duration": 10,
    "start_time": "2021-10-13T17:09:18.615Z"
   },
   {
    "duration": 11,
    "start_time": "2021-10-13T17:09:20.516Z"
   },
   {
    "duration": 5,
    "start_time": "2021-10-13T17:09:22.333Z"
   },
   {
    "duration": 1499,
    "start_time": "2021-10-13T17:09:24.370Z"
   },
   {
    "duration": 21,
    "start_time": "2021-10-13T17:09:28.310Z"
   },
   {
    "duration": 8,
    "start_time": "2021-10-13T17:09:29.907Z"
   },
   {
    "duration": 6,
    "start_time": "2021-10-13T17:09:32.628Z"
   },
   {
    "duration": 750,
    "start_time": "2021-10-13T17:09:35.032Z"
   },
   {
    "duration": 4,
    "start_time": "2021-10-13T17:09:37.056Z"
   },
   {
    "duration": 5077,
    "start_time": "2021-10-13T17:09:38.015Z"
   },
   {
    "duration": 10,
    "start_time": "2021-10-13T17:09:43.094Z"
   },
   {
    "duration": 5,
    "start_time": "2021-10-13T17:09:45.272Z"
   },
   {
    "duration": 5,
    "start_time": "2021-10-13T17:09:47.817Z"
   },
   {
    "duration": 6,
    "start_time": "2021-10-13T17:09:49.020Z"
   },
   {
    "duration": 3602,
    "start_time": "2021-10-13T17:09:50.921Z"
   },
   {
    "duration": 14,
    "start_time": "2021-10-13T17:09:55.386Z"
   },
   {
    "duration": 20,
    "start_time": "2021-10-13T17:09:59.468Z"
   },
   {
    "duration": 15,
    "start_time": "2021-10-13T17:13:31.998Z"
   },
   {
    "duration": 60,
    "start_time": "2021-10-13T17:13:44.376Z"
   },
   {
    "duration": 21,
    "start_time": "2021-10-13T17:13:45.686Z"
   },
   {
    "duration": 61,
    "start_time": "2021-10-13T17:14:09.666Z"
   },
   {
    "duration": 13,
    "start_time": "2021-10-13T17:14:12.365Z"
   },
   {
    "duration": 14,
    "start_time": "2021-10-13T17:14:18.163Z"
   },
   {
    "duration": 16,
    "start_time": "2021-10-13T17:14:23.246Z"
   },
   {
    "duration": 799,
    "start_time": "2021-10-13T20:45:44.814Z"
   },
   {
    "duration": 17,
    "start_time": "2021-10-13T20:45:45.616Z"
   },
   {
    "duration": 78,
    "start_time": "2021-10-13T20:45:45.638Z"
   },
   {
    "duration": 11,
    "start_time": "2021-10-13T20:45:45.719Z"
   },
   {
    "duration": 36,
    "start_time": "2021-10-13T20:45:45.733Z"
   },
   {
    "duration": 11,
    "start_time": "2021-10-13T20:45:45.771Z"
   },
   {
    "duration": 13,
    "start_time": "2021-10-13T20:45:45.784Z"
   },
   {
    "duration": 15,
    "start_time": "2021-10-13T20:45:45.801Z"
   },
   {
    "duration": 5,
    "start_time": "2021-10-13T20:45:45.819Z"
   },
   {
    "duration": 5,
    "start_time": "2021-10-13T20:45:45.868Z"
   },
   {
    "duration": 12,
    "start_time": "2021-10-13T20:45:45.876Z"
   },
   {
    "duration": 10,
    "start_time": "2021-10-13T20:45:45.891Z"
   },
   {
    "duration": 14,
    "start_time": "2021-10-13T20:45:45.903Z"
   },
   {
    "duration": 54,
    "start_time": "2021-10-13T20:45:45.919Z"
   },
   {
    "duration": 11,
    "start_time": "2021-10-13T20:45:45.975Z"
   },
   {
    "duration": 6,
    "start_time": "2021-10-13T20:45:45.989Z"
   },
   {
    "duration": 12,
    "start_time": "2021-10-13T20:45:45.997Z"
   },
   {
    "duration": 8,
    "start_time": "2021-10-13T20:45:46.011Z"
   },
   {
    "duration": 47,
    "start_time": "2021-10-13T20:45:46.022Z"
   },
   {
    "duration": 17,
    "start_time": "2021-10-13T20:45:46.072Z"
   },
   {
    "duration": 24,
    "start_time": "2021-10-13T20:45:46.092Z"
   },
   {
    "duration": 60,
    "start_time": "2021-10-13T20:45:46.118Z"
   },
   {
    "duration": 12,
    "start_time": "2021-10-13T20:45:46.183Z"
   },
   {
    "duration": 4,
    "start_time": "2021-10-13T20:45:46.198Z"
   },
   {
    "duration": 1222,
    "start_time": "2021-10-13T20:45:46.205Z"
   },
   {
    "duration": 18,
    "start_time": "2021-10-13T20:45:47.430Z"
   },
   {
    "duration": 25,
    "start_time": "2021-10-13T20:45:47.450Z"
   },
   {
    "duration": 11,
    "start_time": "2021-10-13T20:45:47.478Z"
   },
   {
    "duration": 5,
    "start_time": "2021-10-13T20:45:47.492Z"
   },
   {
    "duration": 1705,
    "start_time": "2021-10-13T20:45:47.500Z"
   },
   {
    "duration": 21,
    "start_time": "2021-10-13T20:45:49.208Z"
   },
   {
    "duration": 7,
    "start_time": "2021-10-13T20:45:49.231Z"
   },
   {
    "duration": 7,
    "start_time": "2021-10-13T20:45:49.267Z"
   },
   {
    "duration": 821,
    "start_time": "2021-10-13T20:45:49.277Z"
   },
   {
    "duration": 4,
    "start_time": "2021-10-13T20:45:50.100Z"
   },
   {
    "duration": 6025,
    "start_time": "2021-10-13T20:45:50.107Z"
   },
   {
    "duration": 8,
    "start_time": "2021-10-13T20:45:56.135Z"
   },
   {
    "duration": 4,
    "start_time": "2021-10-13T20:45:56.146Z"
   },
   {
    "duration": 7,
    "start_time": "2021-10-13T20:45:56.168Z"
   },
   {
    "duration": 5,
    "start_time": "2021-10-13T20:45:56.178Z"
   },
   {
    "duration": 3023,
    "start_time": "2021-10-13T20:45:56.186Z"
   },
   {
    "duration": 10,
    "start_time": "2021-10-13T20:45:59.211Z"
   },
   {
    "duration": 22,
    "start_time": "2021-10-13T20:45:59.224Z"
   },
   {
    "duration": 15,
    "start_time": "2021-10-13T20:45:59.267Z"
   },
   {
    "duration": 82,
    "start_time": "2021-10-13T20:45:59.284Z"
   },
   {
    "duration": 18,
    "start_time": "2021-10-13T20:45:59.369Z"
   },
   {
    "duration": 83,
    "start_time": "2021-10-13T20:45:59.389Z"
   },
   {
    "duration": 13,
    "start_time": "2021-10-13T20:45:59.475Z"
   },
   {
    "duration": 16,
    "start_time": "2021-10-13T20:45:59.491Z"
   },
   {
    "duration": 33,
    "start_time": "2021-10-13T21:32:44.002Z"
   },
   {
    "duration": 1041,
    "start_time": "2021-10-14T20:49:59.562Z"
   },
   {
    "duration": 31,
    "start_time": "2021-10-14T20:50:00.612Z"
   },
   {
    "duration": 91,
    "start_time": "2021-10-14T20:50:00.647Z"
   },
   {
    "duration": 15,
    "start_time": "2021-10-14T20:50:00.758Z"
   },
   {
    "duration": 9,
    "start_time": "2021-10-14T20:50:00.776Z"
   },
   {
    "duration": 15,
    "start_time": "2021-10-14T20:50:00.788Z"
   },
   {
    "duration": 59,
    "start_time": "2021-10-14T20:50:00.809Z"
   },
   {
    "duration": 28,
    "start_time": "2021-10-14T20:50:00.873Z"
   },
   {
    "duration": 6,
    "start_time": "2021-10-14T20:50:00.904Z"
   },
   {
    "duration": 18,
    "start_time": "2021-10-14T20:50:00.913Z"
   },
   {
    "duration": 29,
    "start_time": "2021-10-14T20:50:00.934Z"
   },
   {
    "duration": 23,
    "start_time": "2021-10-14T20:50:00.967Z"
   },
   {
    "duration": 21,
    "start_time": "2021-10-14T20:50:00.993Z"
   },
   {
    "duration": 38,
    "start_time": "2021-10-14T20:50:01.017Z"
   },
   {
    "duration": 15,
    "start_time": "2021-10-14T20:50:01.058Z"
   },
   {
    "duration": 38,
    "start_time": "2021-10-14T20:50:01.075Z"
   },
   {
    "duration": 25,
    "start_time": "2021-10-14T20:50:01.116Z"
   },
   {
    "duration": 13,
    "start_time": "2021-10-14T20:50:01.144Z"
   },
   {
    "duration": 28,
    "start_time": "2021-10-14T20:50:01.159Z"
   },
   {
    "duration": 45,
    "start_time": "2021-10-14T20:50:01.189Z"
   },
   {
    "duration": 41,
    "start_time": "2021-10-14T20:50:01.237Z"
   },
   {
    "duration": 26,
    "start_time": "2021-10-14T20:50:01.284Z"
   },
   {
    "duration": 17,
    "start_time": "2021-10-14T20:50:01.314Z"
   },
   {
    "duration": 23,
    "start_time": "2021-10-14T20:50:01.334Z"
   },
   {
    "duration": 417,
    "start_time": "2021-10-14T20:50:01.360Z"
   },
   {
    "duration": 17,
    "start_time": "2021-10-14T20:50:01.779Z"
   },
   {
    "duration": 50,
    "start_time": "2021-10-14T20:50:01.799Z"
   },
   {
    "duration": 22,
    "start_time": "2021-10-14T20:50:01.851Z"
   },
   {
    "duration": 19,
    "start_time": "2021-10-14T20:50:01.875Z"
   },
   {
    "duration": 519,
    "start_time": "2021-10-14T20:50:01.896Z"
   },
   {
    "duration": 17,
    "start_time": "2021-10-14T20:50:02.417Z"
   },
   {
    "duration": 23,
    "start_time": "2021-10-14T20:50:02.436Z"
   },
   {
    "duration": 30,
    "start_time": "2021-10-14T20:50:02.461Z"
   },
   {
    "duration": 800,
    "start_time": "2021-10-14T20:50:02.494Z"
   },
   {
    "duration": 5,
    "start_time": "2021-10-14T20:50:03.297Z"
   },
   {
    "duration": 5158,
    "start_time": "2021-10-14T20:50:03.304Z"
   },
   {
    "duration": 9,
    "start_time": "2021-10-14T20:50:08.465Z"
   },
   {
    "duration": 11,
    "start_time": "2021-10-14T20:50:08.477Z"
   },
   {
    "duration": 9,
    "start_time": "2021-10-14T20:50:08.491Z"
   },
   {
    "duration": 6,
    "start_time": "2021-10-14T20:50:08.502Z"
   },
   {
    "duration": 3048,
    "start_time": "2021-10-14T20:50:08.511Z"
   },
   {
    "duration": 9,
    "start_time": "2021-10-14T20:50:11.562Z"
   },
   {
    "duration": 28,
    "start_time": "2021-10-14T20:50:11.574Z"
   },
   {
    "duration": 15,
    "start_time": "2021-10-14T20:50:11.604Z"
   },
   {
    "duration": 84,
    "start_time": "2021-10-14T20:50:11.622Z"
   },
   {
    "duration": 12,
    "start_time": "2021-10-14T20:50:11.709Z"
   },
   {
    "duration": 86,
    "start_time": "2021-10-14T20:50:11.723Z"
   },
   {
    "duration": 12,
    "start_time": "2021-10-14T20:50:11.812Z"
   },
   {
    "duration": 37,
    "start_time": "2021-10-14T20:50:11.827Z"
   },
   {
    "duration": 788,
    "start_time": "2021-10-14T21:25:06.597Z"
   },
   {
    "duration": 933,
    "start_time": "2021-10-14T21:25:29.638Z"
   },
   {
    "duration": 16,
    "start_time": "2021-10-14T21:25:31.378Z"
   },
   {
    "duration": 59,
    "start_time": "2021-10-14T21:25:32.301Z"
   },
   {
    "duration": 11,
    "start_time": "2021-10-14T21:25:33.931Z"
   },
   {
    "duration": 8,
    "start_time": "2021-10-14T21:25:34.433Z"
   },
   {
    "duration": 10,
    "start_time": "2021-10-14T21:25:34.945Z"
   },
   {
    "duration": 20,
    "start_time": "2021-10-14T21:25:35.475Z"
   },
   {
    "duration": 20,
    "start_time": "2021-10-14T21:25:36.973Z"
   },
   {
    "duration": 18,
    "start_time": "2021-10-14T21:25:44.182Z"
   },
   {
    "duration": 17,
    "start_time": "2021-10-14T21:25:54.604Z"
   },
   {
    "duration": 8,
    "start_time": "2021-10-14T21:27:47.176Z"
   },
   {
    "duration": 13,
    "start_time": "2021-10-14T21:27:58.654Z"
   },
   {
    "duration": 15,
    "start_time": "2021-10-14T21:27:59.364Z"
   },
   {
    "duration": 5,
    "start_time": "2021-10-14T21:28:00.405Z"
   },
   {
    "duration": 4,
    "start_time": "2021-10-14T21:28:01.191Z"
   },
   {
    "duration": 9,
    "start_time": "2021-10-14T21:28:04.230Z"
   },
   {
    "duration": 6,
    "start_time": "2021-10-14T21:28:05.383Z"
   },
   {
    "duration": 15,
    "start_time": "2021-10-14T21:28:13.737Z"
   },
   {
    "duration": 12,
    "start_time": "2021-10-14T21:28:15.661Z"
   },
   {
    "duration": 8,
    "start_time": "2021-10-14T21:28:16.940Z"
   },
   {
    "duration": 7,
    "start_time": "2021-10-14T21:28:23.612Z"
   },
   {
    "duration": 10,
    "start_time": "2021-10-14T21:28:24.542Z"
   },
   {
    "duration": 9,
    "start_time": "2021-10-14T21:28:27.565Z"
   },
   {
    "duration": 14,
    "start_time": "2021-10-14T21:32:15.152Z"
   },
   {
    "duration": 7,
    "start_time": "2021-10-14T21:32:36.221Z"
   },
   {
    "duration": 1057,
    "start_time": "2021-10-14T21:36:15.029Z"
   },
   {
    "duration": 321,
    "start_time": "2021-10-14T21:36:31.367Z"
   },
   {
    "duration": 294,
    "start_time": "2021-10-14T21:36:42.045Z"
   },
   {
    "duration": 13,
    "start_time": "2021-10-14T21:37:08.865Z"
   },
   {
    "duration": 7,
    "start_time": "2021-10-14T21:37:18.912Z"
   },
   {
    "duration": 7,
    "start_time": "2021-10-14T21:37:55.808Z"
   },
   {
    "duration": 76,
    "start_time": "2021-10-14T21:38:21.135Z"
   },
   {
    "duration": 379,
    "start_time": "2021-10-14T21:39:06.912Z"
   },
   {
    "duration": 326,
    "start_time": "2021-10-14T21:40:53.129Z"
   },
   {
    "duration": 323,
    "start_time": "2021-10-14T21:41:15.571Z"
   },
   {
    "duration": 14,
    "start_time": "2021-10-14T21:42:38.810Z"
   },
   {
    "duration": 336,
    "start_time": "2021-10-14T21:43:11.541Z"
   },
   {
    "duration": 316,
    "start_time": "2021-10-14T21:43:28.650Z"
   },
   {
    "duration": 13,
    "start_time": "2021-10-14T21:48:58.671Z"
   },
   {
    "duration": 7,
    "start_time": "2021-10-14T21:49:00.693Z"
   },
   {
    "duration": 16,
    "start_time": "2021-10-14T21:49:03.612Z"
   },
   {
    "duration": 317,
    "start_time": "2021-10-14T21:49:22.961Z"
   },
   {
    "duration": 92,
    "start_time": "2021-10-14T21:51:17.764Z"
   },
   {
    "duration": 83,
    "start_time": "2021-10-14T21:51:44.992Z"
   },
   {
    "duration": 81,
    "start_time": "2021-10-14T21:53:00.209Z"
   },
   {
    "duration": 315,
    "start_time": "2021-10-14T21:53:32.468Z"
   },
   {
    "duration": 303,
    "start_time": "2021-10-14T21:53:59.828Z"
   },
   {
    "duration": 321,
    "start_time": "2021-10-14T21:54:49.719Z"
   },
   {
    "duration": 574,
    "start_time": "2021-10-14T21:54:57.059Z"
   },
   {
    "duration": 6,
    "start_time": "2021-10-14T21:59:50.822Z"
   },
   {
    "duration": 7,
    "start_time": "2021-10-14T22:00:44.613Z"
   },
   {
    "duration": 26,
    "start_time": "2021-10-14T22:01:21.367Z"
   },
   {
    "duration": 22,
    "start_time": "2021-10-14T22:08:08.896Z"
   },
   {
    "duration": 7,
    "start_time": "2021-10-14T22:08:33.694Z"
   },
   {
    "duration": 19,
    "start_time": "2021-10-14T22:08:34.527Z"
   },
   {
    "duration": 19,
    "start_time": "2021-10-14T22:08:36.451Z"
   },
   {
    "duration": 59,
    "start_time": "2021-10-14T22:14:02.840Z"
   },
   {
    "duration": 29,
    "start_time": "2021-10-14T22:14:31.318Z"
   },
   {
    "duration": 56,
    "start_time": "2021-10-14T22:14:41.494Z"
   },
   {
    "duration": 27,
    "start_time": "2021-10-14T22:14:47.001Z"
   },
   {
    "duration": 25,
    "start_time": "2021-10-14T22:17:16.144Z"
   },
   {
    "duration": 24,
    "start_time": "2021-10-14T22:17:17.149Z"
   },
   {
    "duration": 28,
    "start_time": "2021-10-14T22:17:18.175Z"
   },
   {
    "duration": 58,
    "start_time": "2021-10-14T22:21:40.367Z"
   },
   {
    "duration": 19,
    "start_time": "2021-10-14T22:21:42.385Z"
   },
   {
    "duration": 50,
    "start_time": "2021-10-14T22:21:43.334Z"
   },
   {
    "duration": 13,
    "start_time": "2021-10-14T22:21:45.408Z"
   },
   {
    "duration": 8,
    "start_time": "2021-10-14T22:21:55.014Z"
   },
   {
    "duration": 10,
    "start_time": "2021-10-14T22:21:56.001Z"
   },
   {
    "duration": 18,
    "start_time": "2021-10-14T22:21:56.812Z"
   },
   {
    "duration": 17,
    "start_time": "2021-10-14T22:21:57.708Z"
   },
   {
    "duration": 13,
    "start_time": "2021-10-14T22:22:07.380Z"
   },
   {
    "duration": 16,
    "start_time": "2021-10-14T22:22:08.310Z"
   },
   {
    "duration": 4,
    "start_time": "2021-10-14T22:22:09.224Z"
   },
   {
    "duration": 6,
    "start_time": "2021-10-14T22:22:10.103Z"
   },
   {
    "duration": 8,
    "start_time": "2021-10-14T22:22:18.273Z"
   },
   {
    "duration": 7,
    "start_time": "2021-10-14T22:22:20.215Z"
   },
   {
    "duration": 15,
    "start_time": "2021-10-14T22:22:24.639Z"
   },
   {
    "duration": 12,
    "start_time": "2021-10-14T22:22:26.026Z"
   },
   {
    "duration": 7,
    "start_time": "2021-10-14T22:22:26.764Z"
   },
   {
    "duration": 7,
    "start_time": "2021-10-14T22:22:27.703Z"
   },
   {
    "duration": 9,
    "start_time": "2021-10-14T22:22:28.704Z"
   },
   {
    "duration": 9,
    "start_time": "2021-10-14T22:22:30.154Z"
   },
   {
    "duration": 6,
    "start_time": "2021-10-14T22:22:41.456Z"
   },
   {
    "duration": 15,
    "start_time": "2021-10-14T22:22:45.025Z"
   },
   {
    "duration": 14,
    "start_time": "2021-10-14T22:22:49.805Z"
   },
   {
    "duration": 7,
    "start_time": "2021-10-14T22:22:51.448Z"
   },
   {
    "duration": 79,
    "start_time": "2021-10-14T22:22:53.982Z"
   },
   {
    "duration": 78,
    "start_time": "2021-10-14T22:22:54.771Z"
   },
   {
    "duration": 6,
    "start_time": "2021-10-14T22:22:56.502Z"
   },
   {
    "duration": 7,
    "start_time": "2021-10-14T22:22:57.256Z"
   },
   {
    "duration": 19,
    "start_time": "2021-10-14T22:22:58.135Z"
   },
   {
    "duration": 18,
    "start_time": "2021-10-14T22:23:00.535Z"
   },
   {
    "duration": 25,
    "start_time": "2021-10-14T22:23:37.392Z"
   },
   {
    "duration": 24,
    "start_time": "2021-10-14T22:23:38.413Z"
   },
   {
    "duration": 24,
    "start_time": "2021-10-14T22:23:39.180Z"
   },
   {
    "duration": 25,
    "start_time": "2021-10-14T22:23:40.128Z"
   },
   {
    "duration": 10,
    "start_time": "2021-10-14T22:23:50.686Z"
   },
   {
    "duration": 5,
    "start_time": "2021-10-14T22:23:51.559Z"
   },
   {
    "duration": 1197,
    "start_time": "2021-10-14T22:23:54.053Z"
   },
   {
    "duration": 18,
    "start_time": "2021-10-14T22:23:55.253Z"
   },
   {
    "duration": 10,
    "start_time": "2021-10-14T22:23:55.527Z"
   },
   {
    "duration": 12,
    "start_time": "2021-10-14T22:23:56.004Z"
   },
   {
    "duration": 5,
    "start_time": "2021-10-14T22:23:56.389Z"
   },
   {
    "duration": 1614,
    "start_time": "2021-10-14T22:23:57.133Z"
   },
   {
    "duration": 19,
    "start_time": "2021-10-14T22:23:58.751Z"
   },
   {
    "duration": 30,
    "start_time": "2021-10-14T22:23:58.773Z"
   },
   {
    "duration": 7,
    "start_time": "2021-10-14T22:23:58.806Z"
   },
   {
    "duration": 815,
    "start_time": "2021-10-14T22:23:59.129Z"
   },
   {
    "duration": 4,
    "start_time": "2021-10-14T22:23:59.947Z"
   },
   {
    "duration": 5766,
    "start_time": "2021-10-14T22:23:59.954Z"
   },
   {
    "duration": 8,
    "start_time": "2021-10-14T22:24:05.723Z"
   },
   {
    "duration": 22,
    "start_time": "2021-10-14T22:24:05.734Z"
   },
   {
    "duration": 17,
    "start_time": "2021-10-14T22:24:05.758Z"
   },
   {
    "duration": 23,
    "start_time": "2021-10-14T22:24:05.777Z"
   },
   {
    "duration": 3087,
    "start_time": "2021-10-14T22:24:05.803Z"
   },
   {
    "duration": 14,
    "start_time": "2021-10-14T22:24:08.893Z"
   },
   {
    "duration": 28,
    "start_time": "2021-10-14T22:24:08.910Z"
   },
   {
    "duration": 12,
    "start_time": "2021-10-14T22:24:08.941Z"
   },
   {
    "duration": 99,
    "start_time": "2021-10-14T22:24:08.955Z"
   },
   {
    "duration": 17,
    "start_time": "2021-10-14T22:24:09.056Z"
   },
   {
    "duration": 61,
    "start_time": "2021-10-14T22:24:11.743Z"
   },
   {
    "duration": 13,
    "start_time": "2021-10-14T22:24:12.617Z"
   },
   {
    "duration": 177,
    "start_time": "2021-10-14T22:25:01.455Z"
   },
   {
    "duration": 63,
    "start_time": "2021-10-14T22:26:10.269Z"
   },
   {
    "duration": 496,
    "start_time": "2021-10-14T22:27:14.327Z"
   },
   {
    "duration": 12,
    "start_time": "2021-10-14T22:27:21.357Z"
   },
   {
    "duration": 18,
    "start_time": "2021-10-14T22:28:17.687Z"
   },
   {
    "duration": 12,
    "start_time": "2021-10-14T22:28:29.469Z"
   },
   {
    "duration": 11,
    "start_time": "2021-10-14T22:28:51.918Z"
   },
   {
    "duration": 308,
    "start_time": "2021-10-14T22:28:53.102Z"
   },
   {
    "duration": 299,
    "start_time": "2021-10-14T22:29:08.049Z"
   },
   {
    "duration": 8,
    "start_time": "2021-10-14T22:29:36.769Z"
   },
   {
    "duration": 11,
    "start_time": "2021-10-14T22:29:43.904Z"
   },
   {
    "duration": 5,
    "start_time": "2021-10-14T22:29:51.959Z"
   },
   {
    "duration": 11,
    "start_time": "2021-10-14T22:29:52.775Z"
   },
   {
    "duration": 345,
    "start_time": "2021-10-14T22:30:10.392Z"
   },
   {
    "duration": 11,
    "start_time": "2021-10-14T22:30:11.112Z"
   },
   {
    "duration": 104,
    "start_time": "2021-10-14T22:32:43.450Z"
   },
   {
    "duration": 4,
    "start_time": "2021-10-14T22:32:52.950Z"
   },
   {
    "duration": 14,
    "start_time": "2021-10-14T22:32:54.343Z"
   },
   {
    "duration": 5,
    "start_time": "2021-10-14T22:34:29.974Z"
   },
   {
    "duration": 12,
    "start_time": "2021-10-14T22:34:30.767Z"
   },
   {
    "duration": 5,
    "start_time": "2021-10-14T22:35:21.969Z"
   },
   {
    "duration": 11,
    "start_time": "2021-10-14T22:35:40.411Z"
   },
   {
    "duration": 60,
    "start_time": "2021-10-14T22:42:46.874Z"
   },
   {
    "duration": 15,
    "start_time": "2021-10-14T22:43:08.087Z"
   },
   {
    "duration": 48,
    "start_time": "2021-10-14T22:43:09.132Z"
   },
   {
    "duration": 11,
    "start_time": "2021-10-14T22:43:41.077Z"
   },
   {
    "duration": 8,
    "start_time": "2021-10-14T22:43:41.903Z"
   },
   {
    "duration": 9,
    "start_time": "2021-10-14T22:43:42.865Z"
   },
   {
    "duration": 19,
    "start_time": "2021-10-14T22:43:47.677Z"
   },
   {
    "duration": 19,
    "start_time": "2021-10-14T22:43:51.770Z"
   },
   {
    "duration": 13,
    "start_time": "2021-10-14T22:43:59.709Z"
   },
   {
    "duration": 13,
    "start_time": "2021-10-14T22:44:07.982Z"
   },
   {
    "duration": 16,
    "start_time": "2021-10-14T22:44:08.991Z"
   },
   {
    "duration": 5,
    "start_time": "2021-10-14T22:44:10.043Z"
   },
   {
    "duration": 5,
    "start_time": "2021-10-14T22:44:10.923Z"
   },
   {
    "duration": 5,
    "start_time": "2021-10-14T22:44:25.509Z"
   },
   {
    "duration": 8,
    "start_time": "2021-10-14T22:44:28.013Z"
   },
   {
    "duration": 7,
    "start_time": "2021-10-14T22:44:28.943Z"
   },
   {
    "duration": 15,
    "start_time": "2021-10-14T22:44:32.792Z"
   },
   {
    "duration": 12,
    "start_time": "2021-10-14T22:44:35.026Z"
   },
   {
    "duration": 7,
    "start_time": "2021-10-14T22:44:36.319Z"
   },
   {
    "duration": 6,
    "start_time": "2021-10-14T22:44:44.626Z"
   },
   {
    "duration": 9,
    "start_time": "2021-10-14T22:44:45.450Z"
   },
   {
    "duration": 9,
    "start_time": "2021-10-14T22:44:47.020Z"
   },
   {
    "duration": 12,
    "start_time": "2021-10-14T22:45:02.256Z"
   },
   {
    "duration": 5,
    "start_time": "2021-10-14T22:45:03.171Z"
   },
   {
    "duration": 13,
    "start_time": "2021-10-14T22:45:07.951Z"
   },
   {
    "duration": 16,
    "start_time": "2021-10-14T22:45:14.714Z"
   },
   {
    "duration": 13,
    "start_time": "2021-10-14T22:45:18.921Z"
   },
   {
    "duration": 7,
    "start_time": "2021-10-14T22:45:20.395Z"
   },
   {
    "duration": 79,
    "start_time": "2021-10-14T22:45:24.946Z"
   },
   {
    "duration": 75,
    "start_time": "2021-10-14T22:45:28.200Z"
   },
   {
    "duration": 6,
    "start_time": "2021-10-14T22:45:33.079Z"
   },
   {
    "duration": 7,
    "start_time": "2021-10-14T22:45:33.947Z"
   },
   {
    "duration": 21,
    "start_time": "2021-10-14T22:45:35.208Z"
   },
   {
    "duration": 17,
    "start_time": "2021-10-14T22:45:36.051Z"
   },
   {
    "duration": 25,
    "start_time": "2021-10-14T22:45:45.989Z"
   },
   {
    "duration": 22,
    "start_time": "2021-10-14T22:45:47.501Z"
   },
   {
    "duration": 23,
    "start_time": "2021-10-14T22:45:48.355Z"
   },
   {
    "duration": 26,
    "start_time": "2021-10-14T22:45:49.035Z"
   },
   {
    "duration": 12,
    "start_time": "2021-10-14T22:45:58.530Z"
   },
   {
    "duration": 5,
    "start_time": "2021-10-14T22:45:59.439Z"
   },
   {
    "duration": 1194,
    "start_time": "2021-10-14T22:46:01.537Z"
   },
   {
    "duration": 19,
    "start_time": "2021-10-14T22:46:02.734Z"
   },
   {
    "duration": 26,
    "start_time": "2021-10-14T22:46:02.756Z"
   },
   {
    "duration": 12,
    "start_time": "2021-10-14T22:46:03.127Z"
   },
   {
    "duration": 5,
    "start_time": "2021-10-14T22:46:03.517Z"
   },
   {
    "duration": 1610,
    "start_time": "2021-10-14T22:46:03.951Z"
   },
   {
    "duration": 17,
    "start_time": "2021-10-14T22:46:05.564Z"
   },
   {
    "duration": 18,
    "start_time": "2021-10-14T22:46:05.585Z"
   },
   {
    "duration": 16,
    "start_time": "2021-10-14T22:46:05.606Z"
   },
   {
    "duration": 6,
    "start_time": "2021-10-14T22:46:05.624Z"
   },
   {
    "duration": 5,
    "start_time": "2021-10-14T22:46:06.027Z"
   },
   {
    "duration": 3184,
    "start_time": "2021-10-14T22:46:06.426Z"
   },
   {
    "duration": 10,
    "start_time": "2021-10-14T22:46:09.613Z"
   },
   {
    "duration": 7,
    "start_time": "2021-10-14T22:46:09.626Z"
   },
   {
    "duration": 8,
    "start_time": "2021-10-14T22:46:09.636Z"
   },
   {
    "duration": 5,
    "start_time": "2021-10-14T22:46:09.647Z"
   },
   {
    "duration": 3157,
    "start_time": "2021-10-14T22:46:09.654Z"
   },
   {
    "duration": 10,
    "start_time": "2021-10-14T22:46:12.813Z"
   },
   {
    "duration": 19,
    "start_time": "2021-10-14T22:46:12.826Z"
   },
   {
    "duration": 55,
    "start_time": "2021-10-14T22:46:12.847Z"
   },
   {
    "duration": 61,
    "start_time": "2021-10-14T22:46:12.905Z"
   },
   {
    "duration": 34,
    "start_time": "2021-10-14T22:46:12.969Z"
   },
   {
    "duration": 67,
    "start_time": "2021-10-14T22:46:13.005Z"
   },
   {
    "duration": 34,
    "start_time": "2021-10-14T22:46:13.075Z"
   },
   {
    "duration": 15,
    "start_time": "2021-10-14T22:46:14.229Z"
   },
   {
    "duration": 791,
    "start_time": "2021-10-15T15:32:03.877Z"
   },
   {
    "duration": 18,
    "start_time": "2021-10-15T15:32:04.671Z"
   },
   {
    "duration": 78,
    "start_time": "2021-10-15T15:32:04.692Z"
   },
   {
    "duration": 10,
    "start_time": "2021-10-15T15:32:04.774Z"
   },
   {
    "duration": 9,
    "start_time": "2021-10-15T15:32:04.787Z"
   },
   {
    "duration": 9,
    "start_time": "2021-10-15T15:32:04.798Z"
   },
   {
    "duration": 59,
    "start_time": "2021-10-15T15:32:04.810Z"
   },
   {
    "duration": 23,
    "start_time": "2021-10-15T15:32:04.873Z"
   },
   {
    "duration": 15,
    "start_time": "2021-10-15T15:32:04.900Z"
   },
   {
    "duration": 15,
    "start_time": "2021-10-15T15:32:04.917Z"
   },
   {
    "duration": 29,
    "start_time": "2021-10-15T15:32:04.934Z"
   },
   {
    "duration": 4,
    "start_time": "2021-10-15T15:32:04.966Z"
   },
   {
    "duration": 15,
    "start_time": "2021-10-15T15:32:04.973Z"
   },
   {
    "duration": 10,
    "start_time": "2021-10-15T15:32:04.990Z"
   },
   {
    "duration": 16,
    "start_time": "2021-10-15T15:32:05.002Z"
   },
   {
    "duration": 46,
    "start_time": "2021-10-15T15:32:05.021Z"
   },
   {
    "duration": 13,
    "start_time": "2021-10-15T15:32:05.069Z"
   },
   {
    "duration": 14,
    "start_time": "2021-10-15T15:32:05.085Z"
   },
   {
    "duration": 19,
    "start_time": "2021-10-15T15:32:05.101Z"
   },
   {
    "duration": 13,
    "start_time": "2021-10-15T15:32:05.122Z"
   },
   {
    "duration": 33,
    "start_time": "2021-10-15T15:32:05.138Z"
   },
   {
    "duration": 4,
    "start_time": "2021-10-15T15:32:05.174Z"
   },
   {
    "duration": 12,
    "start_time": "2021-10-15T15:32:05.184Z"
   },
   {
    "duration": 14,
    "start_time": "2021-10-15T15:32:05.199Z"
   },
   {
    "duration": 57,
    "start_time": "2021-10-15T15:32:05.215Z"
   },
   {
    "duration": 13,
    "start_time": "2021-10-15T15:32:05.275Z"
   },
   {
    "duration": 99,
    "start_time": "2021-10-15T15:32:05.291Z"
   },
   {
    "duration": 95,
    "start_time": "2021-10-15T15:32:05.393Z"
   },
   {
    "duration": 7,
    "start_time": "2021-10-15T15:32:05.491Z"
   },
   {
    "duration": 10,
    "start_time": "2021-10-15T15:32:05.501Z"
   },
   {
    "duration": 18,
    "start_time": "2021-10-15T15:32:05.514Z"
   },
   {
    "duration": 15,
    "start_time": "2021-10-15T15:32:05.563Z"
   },
   {
    "duration": 23,
    "start_time": "2021-10-15T15:32:05.580Z"
   },
   {
    "duration": 20,
    "start_time": "2021-10-15T15:32:05.605Z"
   },
   {
    "duration": 54,
    "start_time": "2021-10-15T15:32:05.627Z"
   },
   {
    "duration": 24,
    "start_time": "2021-10-15T15:32:05.683Z"
   },
   {
    "duration": 11,
    "start_time": "2021-10-15T15:32:05.709Z"
   },
   {
    "duration": 4,
    "start_time": "2021-10-15T15:32:05.723Z"
   },
   {
    "duration": 1277,
    "start_time": "2021-10-15T15:32:05.730Z"
   },
   {
    "duration": 19,
    "start_time": "2021-10-15T15:32:07.010Z"
   },
   {
    "duration": 30,
    "start_time": "2021-10-15T15:32:07.032Z"
   },
   {
    "duration": 11,
    "start_time": "2021-10-15T15:32:07.065Z"
   },
   {
    "duration": 5,
    "start_time": "2021-10-15T15:32:07.078Z"
   },
   {
    "duration": 1510,
    "start_time": "2021-10-15T15:32:07.085Z"
   },
   {
    "duration": 18,
    "start_time": "2021-10-15T15:32:08.598Z"
   },
   {
    "duration": 6,
    "start_time": "2021-10-15T15:32:08.618Z"
   },
   {
    "duration": 37,
    "start_time": "2021-10-15T15:32:08.626Z"
   },
   {
    "duration": 782,
    "start_time": "2021-10-15T15:32:08.665Z"
   },
   {
    "duration": 4,
    "start_time": "2021-10-15T15:32:09.449Z"
   },
   {
    "duration": 5111,
    "start_time": "2021-10-15T15:32:09.461Z"
   },
   {
    "duration": 8,
    "start_time": "2021-10-15T15:32:14.574Z"
   },
   {
    "duration": 5,
    "start_time": "2021-10-15T15:32:14.585Z"
   },
   {
    "duration": 10,
    "start_time": "2021-10-15T15:32:14.592Z"
   },
   {
    "duration": 6,
    "start_time": "2021-10-15T15:32:14.604Z"
   },
   {
    "duration": 3173,
    "start_time": "2021-10-15T15:32:14.612Z"
   },
   {
    "duration": 9,
    "start_time": "2021-10-15T15:32:17.788Z"
   },
   {
    "duration": 22,
    "start_time": "2021-10-15T15:32:17.799Z"
   },
   {
    "duration": 38,
    "start_time": "2021-10-15T15:32:17.824Z"
   },
   {
    "duration": 61,
    "start_time": "2021-10-15T15:32:17.865Z"
   },
   {
    "duration": 40,
    "start_time": "2021-10-15T15:32:17.929Z"
   },
   {
    "duration": 64,
    "start_time": "2021-10-15T15:32:17.972Z"
   },
   {
    "duration": 33,
    "start_time": "2021-10-15T15:32:18.038Z"
   },
   {
    "duration": 18,
    "start_time": "2021-10-15T15:32:18.073Z"
   },
   {
    "duration": 19,
    "start_time": "2021-10-15T16:01:16.304Z"
   },
   {
    "duration": 389,
    "start_time": "2021-10-15T16:41:42.496Z"
   },
   {
    "duration": 846,
    "start_time": "2021-10-15T16:42:03.345Z"
   },
   {
    "duration": 16,
    "start_time": "2021-10-15T16:42:11.255Z"
   },
   {
    "duration": 59,
    "start_time": "2021-10-15T16:42:11.274Z"
   },
   {
    "duration": 11,
    "start_time": "2021-10-15T16:42:19.285Z"
   },
   {
    "duration": 8,
    "start_time": "2021-10-15T16:42:19.969Z"
   },
   {
    "duration": 10,
    "start_time": "2021-10-15T16:42:20.654Z"
   },
   {
    "duration": 18,
    "start_time": "2021-10-15T16:42:21.453Z"
   },
   {
    "duration": 20,
    "start_time": "2021-10-15T16:42:22.125Z"
   },
   {
    "duration": 14,
    "start_time": "2021-10-15T16:42:25.957Z"
   },
   {
    "duration": 17,
    "start_time": "2021-10-15T16:42:42.638Z"
   },
   {
    "duration": 4,
    "start_time": "2021-10-15T16:42:43.577Z"
   },
   {
    "duration": 6,
    "start_time": "2021-10-15T16:42:44.303Z"
   },
   {
    "duration": 10,
    "start_time": "2021-10-15T16:42:47.241Z"
   },
   {
    "duration": 7,
    "start_time": "2021-10-15T16:42:47.839Z"
   },
   {
    "duration": 15,
    "start_time": "2021-10-15T16:42:48.443Z"
   },
   {
    "duration": 11,
    "start_time": "2021-10-15T16:42:49.899Z"
   },
   {
    "duration": 8,
    "start_time": "2021-10-15T16:42:50.992Z"
   },
   {
    "duration": 6,
    "start_time": "2021-10-15T16:42:51.652Z"
   },
   {
    "duration": 11,
    "start_time": "2021-10-15T16:42:52.281Z"
   },
   {
    "duration": 9,
    "start_time": "2021-10-15T16:42:53.547Z"
   },
   {
    "duration": 13,
    "start_time": "2021-10-15T16:42:58.281Z"
   },
   {
    "duration": 4,
    "start_time": "2021-10-15T16:42:58.951Z"
   },
   {
    "duration": 11,
    "start_time": "2021-10-15T16:42:59.536Z"
   },
   {
    "duration": 12,
    "start_time": "2021-10-15T16:43:01.072Z"
   },
   {
    "duration": 8,
    "start_time": "2021-10-15T16:43:15.011Z"
   },
   {
    "duration": 8,
    "start_time": "2021-10-15T16:43:35.780Z"
   },
   {
    "duration": 8,
    "start_time": "2021-10-15T16:44:43.742Z"
   },
   {
    "duration": 8,
    "start_time": "2021-10-15T16:45:03.287Z"
   },
   {
    "duration": 879,
    "start_time": "2021-10-15T17:42:30.007Z"
   },
   {
    "duration": 18,
    "start_time": "2021-10-15T17:42:30.889Z"
   },
   {
    "duration": 80,
    "start_time": "2021-10-15T17:42:30.910Z"
   },
   {
    "duration": 11,
    "start_time": "2021-10-15T17:42:30.993Z"
   },
   {
    "duration": 8,
    "start_time": "2021-10-15T17:42:31.006Z"
   },
   {
    "duration": 46,
    "start_time": "2021-10-15T17:42:31.016Z"
   },
   {
    "duration": 23,
    "start_time": "2021-10-15T17:42:31.065Z"
   },
   {
    "duration": 50,
    "start_time": "2021-10-15T17:42:31.091Z"
   },
   {
    "duration": 43,
    "start_time": "2021-10-15T17:42:31.144Z"
   },
   {
    "duration": 23,
    "start_time": "2021-10-15T17:42:31.190Z"
   },
   {
    "duration": 8,
    "start_time": "2021-10-15T17:42:31.216Z"
   },
   {
    "duration": 30,
    "start_time": "2021-10-15T17:42:31.226Z"
   },
   {
    "duration": 33,
    "start_time": "2021-10-15T17:42:31.259Z"
   },
   {
    "duration": 14,
    "start_time": "2021-10-15T17:42:31.294Z"
   },
   {
    "duration": 18,
    "start_time": "2021-10-15T17:42:31.310Z"
   },
   {
    "duration": 19,
    "start_time": "2021-10-15T17:42:31.330Z"
   },
   {
    "duration": 20,
    "start_time": "2021-10-15T17:42:31.351Z"
   },
   {
    "duration": 14,
    "start_time": "2021-10-15T17:42:31.373Z"
   },
   {
    "duration": 12,
    "start_time": "2021-10-15T17:42:31.390Z"
   },
   {
    "duration": 10,
    "start_time": "2021-10-15T17:42:31.405Z"
   },
   {
    "duration": 13,
    "start_time": "2021-10-15T17:42:31.417Z"
   },
   {
    "duration": 30,
    "start_time": "2021-10-15T17:42:31.432Z"
   },
   {
    "duration": 12,
    "start_time": "2021-10-15T17:42:31.469Z"
   },
   {
    "duration": 11,
    "start_time": "2021-10-15T17:42:31.484Z"
   },
   {
    "duration": 7,
    "start_time": "2021-10-15T17:42:31.498Z"
   },
   {
    "duration": 55,
    "start_time": "2021-10-15T17:42:31.508Z"
   },
   {
    "duration": 13,
    "start_time": "2021-10-15T17:42:31.565Z"
   },
   {
    "duration": 13,
    "start_time": "2021-10-15T17:42:31.580Z"
   },
   {
    "duration": 97,
    "start_time": "2021-10-15T17:42:31.595Z"
   },
   {
    "duration": 86,
    "start_time": "2021-10-15T17:42:31.694Z"
   },
   {
    "duration": 6,
    "start_time": "2021-10-15T17:42:31.782Z"
   },
   {
    "duration": 24,
    "start_time": "2021-10-15T17:42:31.790Z"
   },
   {
    "duration": 47,
    "start_time": "2021-10-15T17:42:31.817Z"
   },
   {
    "duration": 17,
    "start_time": "2021-10-15T17:42:31.867Z"
   },
   {
    "duration": 26,
    "start_time": "2021-10-15T17:42:31.887Z"
   },
   {
    "duration": 47,
    "start_time": "2021-10-15T17:42:31.915Z"
   },
   {
    "duration": 22,
    "start_time": "2021-10-15T17:42:31.964Z"
   },
   {
    "duration": 25,
    "start_time": "2021-10-15T17:42:31.989Z"
   },
   {
    "duration": 26,
    "start_time": "2021-10-15T17:42:32.017Z"
   },
   {
    "duration": 4,
    "start_time": "2021-10-15T17:42:32.063Z"
   },
   {
    "duration": 1311,
    "start_time": "2021-10-15T17:42:32.070Z"
   },
   {
    "duration": 19,
    "start_time": "2021-10-15T17:42:33.384Z"
   },
   {
    "duration": 16,
    "start_time": "2021-10-15T17:42:33.406Z"
   },
   {
    "duration": 42,
    "start_time": "2021-10-15T17:42:33.425Z"
   },
   {
    "duration": 5,
    "start_time": "2021-10-15T17:42:33.470Z"
   },
   {
    "duration": 2086,
    "start_time": "2021-10-15T17:42:33.478Z"
   },
   {
    "duration": 19,
    "start_time": "2021-10-15T17:42:35.567Z"
   },
   {
    "duration": 18,
    "start_time": "2021-10-15T17:42:35.589Z"
   },
   {
    "duration": 10,
    "start_time": "2021-10-15T17:42:35.609Z"
   },
   {
    "duration": 795,
    "start_time": "2021-10-15T17:42:35.621Z"
   },
   {
    "duration": 4,
    "start_time": "2021-10-15T17:42:36.419Z"
   },
   {
    "duration": 5661,
    "start_time": "2021-10-15T17:42:36.425Z"
   },
   {
    "duration": 9,
    "start_time": "2021-10-15T17:42:42.089Z"
   },
   {
    "duration": 5,
    "start_time": "2021-10-15T17:42:42.101Z"
   },
   {
    "duration": 10,
    "start_time": "2021-10-15T17:42:42.108Z"
   },
   {
    "duration": 5,
    "start_time": "2021-10-15T17:42:42.121Z"
   },
   {
    "duration": 3385,
    "start_time": "2021-10-15T17:42:42.162Z"
   },
   {
    "duration": 17,
    "start_time": "2021-10-15T17:42:45.549Z"
   },
   {
    "duration": 25,
    "start_time": "2021-10-15T17:42:45.569Z"
   },
   {
    "duration": 12,
    "start_time": "2021-10-15T17:42:45.597Z"
   },
   {
    "duration": 90,
    "start_time": "2021-10-15T17:42:45.611Z"
   },
   {
    "duration": 18,
    "start_time": "2021-10-15T17:42:45.703Z"
   },
   {
    "duration": 76,
    "start_time": "2021-10-15T17:42:45.723Z"
   },
   {
    "duration": 11,
    "start_time": "2021-10-15T17:42:45.801Z"
   },
   {
    "duration": 17,
    "start_time": "2021-10-15T17:42:45.814Z"
   },
   {
    "duration": 619,
    "start_time": "2022-09-12T15:05:19.871Z"
   },
   {
    "duration": 15,
    "start_time": "2022-09-12T15:05:20.492Z"
   },
   {
    "duration": 33,
    "start_time": "2022-09-12T15:05:20.509Z"
   },
   {
    "duration": 24,
    "start_time": "2022-09-12T15:05:20.544Z"
   },
   {
    "duration": 7,
    "start_time": "2022-09-12T15:05:20.569Z"
   },
   {
    "duration": 4,
    "start_time": "2022-09-12T15:05:20.578Z"
   },
   {
    "duration": 6,
    "start_time": "2022-09-12T15:05:20.605Z"
   },
   {
    "duration": 14,
    "start_time": "2022-09-12T15:05:20.612Z"
   },
   {
    "duration": 14,
    "start_time": "2022-09-12T15:05:20.627Z"
   },
   {
    "duration": 9,
    "start_time": "2022-09-12T15:05:20.644Z"
   },
   {
    "duration": 9,
    "start_time": "2022-09-12T15:05:20.655Z"
   },
   {
    "duration": 4,
    "start_time": "2022-09-12T15:05:20.666Z"
   },
   {
    "duration": 35,
    "start_time": "2022-09-12T15:05:20.671Z"
   },
   {
    "duration": 5,
    "start_time": "2022-09-12T15:05:20.707Z"
   },
   {
    "duration": 6,
    "start_time": "2022-09-12T15:05:20.713Z"
   },
   {
    "duration": 8,
    "start_time": "2022-09-12T15:05:20.721Z"
   },
   {
    "duration": 7,
    "start_time": "2022-09-12T15:05:20.730Z"
   },
   {
    "duration": 8,
    "start_time": "2022-09-12T15:05:20.738Z"
   },
   {
    "duration": 6,
    "start_time": "2022-09-12T15:05:20.747Z"
   },
   {
    "duration": 8,
    "start_time": "2022-09-12T15:05:20.755Z"
   },
   {
    "duration": 5,
    "start_time": "2022-09-12T15:05:20.765Z"
   },
   {
    "duration": 36,
    "start_time": "2022-09-12T15:05:20.771Z"
   },
   {
    "duration": 3,
    "start_time": "2022-09-12T15:05:20.808Z"
   },
   {
    "duration": 11,
    "start_time": "2022-09-12T15:05:20.812Z"
   },
   {
    "duration": 7,
    "start_time": "2022-09-12T15:05:20.824Z"
   },
   {
    "duration": 5,
    "start_time": "2022-09-12T15:05:20.833Z"
   },
   {
    "duration": 20,
    "start_time": "2022-09-12T15:05:20.839Z"
   },
   {
    "duration": 7,
    "start_time": "2022-09-12T15:05:20.863Z"
   },
   {
    "duration": 6,
    "start_time": "2022-09-12T15:05:20.872Z"
   },
   {
    "duration": 69,
    "start_time": "2022-09-12T15:05:20.879Z"
   },
   {
    "duration": 59,
    "start_time": "2022-09-12T15:05:20.949Z"
   },
   {
    "duration": 5,
    "start_time": "2022-09-12T15:05:21.010Z"
   },
   {
    "duration": 18,
    "start_time": "2022-09-12T15:05:21.016Z"
   },
   {
    "duration": 13,
    "start_time": "2022-09-12T15:05:21.036Z"
   },
   {
    "duration": 18,
    "start_time": "2022-09-12T15:05:21.051Z"
   },
   {
    "duration": 15,
    "start_time": "2022-09-12T15:05:21.070Z"
   },
   {
    "duration": 24,
    "start_time": "2022-09-12T15:05:21.087Z"
   },
   {
    "duration": 16,
    "start_time": "2022-09-12T15:05:21.112Z"
   },
   {
    "duration": 17,
    "start_time": "2022-09-12T15:05:21.130Z"
   },
   {
    "duration": 7,
    "start_time": "2022-09-12T15:05:21.148Z"
   },
   {
    "duration": 3,
    "start_time": "2022-09-12T15:05:21.156Z"
   },
   {
    "duration": 204,
    "start_time": "2022-09-12T15:05:21.161Z"
   },
   {
    "duration": 12,
    "start_time": "2022-09-12T15:05:21.367Z"
   },
   {
    "duration": 7,
    "start_time": "2022-09-12T15:05:21.381Z"
   },
   {
    "duration": 17,
    "start_time": "2022-09-12T15:05:21.389Z"
   },
   {
    "duration": 4,
    "start_time": "2022-09-12T15:05:21.408Z"
   },
   {
    "duration": 220,
    "start_time": "2022-09-12T15:05:21.413Z"
   },
   {
    "duration": 13,
    "start_time": "2022-09-12T15:05:21.634Z"
   },
   {
    "duration": 7,
    "start_time": "2022-09-12T15:05:21.648Z"
   },
   {
    "duration": 6,
    "start_time": "2022-09-12T15:05:21.657Z"
   },
   {
    "duration": 883,
    "start_time": "2022-09-12T15:05:21.665Z"
   },
   {
    "duration": 3,
    "start_time": "2022-09-12T15:05:22.550Z"
   },
   {
    "duration": 2608,
    "start_time": "2022-09-12T15:05:22.554Z"
   },
   {
    "duration": 6,
    "start_time": "2022-09-12T15:05:25.165Z"
   },
   {
    "duration": 7,
    "start_time": "2022-09-12T15:05:25.172Z"
   },
   {
    "duration": 9,
    "start_time": "2022-09-12T15:05:25.180Z"
   },
   {
    "duration": 16,
    "start_time": "2022-09-12T15:05:25.190Z"
   },
   {
    "duration": 1477,
    "start_time": "2022-09-12T15:05:25.208Z"
   },
   {
    "duration": 6,
    "start_time": "2022-09-12T15:05:26.686Z"
   },
   {
    "duration": 22,
    "start_time": "2022-09-12T15:05:26.694Z"
   },
   {
    "duration": 8,
    "start_time": "2022-09-12T15:05:26.717Z"
   },
   {
    "duration": 33,
    "start_time": "2022-09-12T15:05:26.726Z"
   },
   {
    "duration": 7,
    "start_time": "2022-09-12T15:05:26.760Z"
   },
   {
    "duration": 56,
    "start_time": "2022-09-12T15:05:26.769Z"
   },
   {
    "duration": 8,
    "start_time": "2022-09-12T15:05:26.826Z"
   },
   {
    "duration": 19,
    "start_time": "2022-09-12T15:05:26.835Z"
   },
   {
    "duration": 8,
    "start_time": "2022-09-12T15:05:50.320Z"
   },
   {
    "duration": 5,
    "start_time": "2022-09-12T15:05:50.956Z"
   },
   {
    "duration": 6,
    "start_time": "2022-09-12T15:05:51.358Z"
   },
   {
    "duration": 12,
    "start_time": "2022-09-12T15:05:51.637Z"
   },
   {
    "duration": 12,
    "start_time": "2022-09-12T15:05:51.854Z"
   }
  ],
  "kernelspec": {
   "display_name": "Python 3 (ipykernel)",
   "language": "python",
   "name": "python3"
  },
  "language_info": {
   "codemirror_mode": {
    "name": "ipython",
    "version": 3
   },
   "file_extension": ".py",
   "mimetype": "text/x-python",
   "name": "python",
   "nbconvert_exporter": "python",
   "pygments_lexer": "ipython3",
   "version": "3.9.5"
  },
  "toc": {
   "base_numbering": 1,
   "nav_menu": {},
   "number_sections": true,
   "sideBar": true,
   "skip_h1_title": true,
   "title_cell": "Table of Contents",
   "title_sidebar": "Contents",
   "toc_cell": false,
   "toc_position": {},
   "toc_section_display": true,
   "toc_window_display": false
  }
 },
 "nbformat": 4,
 "nbformat_minor": 2
}
